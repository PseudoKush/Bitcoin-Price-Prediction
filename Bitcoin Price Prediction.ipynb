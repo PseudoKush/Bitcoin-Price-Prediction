{
 "cells": [
  {
   "cell_type": "code",
   "execution_count": 1,
   "metadata": {},
   "outputs": [],
   "source": [
    "import numpy as np\n",
    "import pandas as pd"
   ]
  },
  {
   "cell_type": "code",
   "execution_count": 2,
   "metadata": {},
   "outputs": [
    {
     "data": {
      "text/html": [
       "        <script type=\"text/javascript\">\n",
       "        window.PlotlyConfig = {MathJaxConfig: 'local'};\n",
       "        if (window.MathJax) {MathJax.Hub.Config({SVG: {font: \"STIX-Web\"}});}\n",
       "        if (typeof require !== 'undefined') {\n",
       "        require.undef(\"plotly\");\n",
       "        requirejs.config({\n",
       "            paths: {\n",
       "                'plotly': ['https://cdn.plot.ly/plotly-latest.min']\n",
       "            }\n",
       "        });\n",
       "        require(['plotly'], function(Plotly) {\n",
       "            window._Plotly = Plotly;\n",
       "        });\n",
       "        }\n",
       "        </script>\n",
       "        "
      ]
     },
     "metadata": {},
     "output_type": "display_data"
    }
   ],
   "source": [
    "# Importing data visualization libraries\n",
    "import matplotlib.pyplot as plt\n",
    "import seaborn as sns\n",
    "import chart_studio.plotly as py\n",
    "from plotly.offline import init_notebook_mode, iplot\n",
    "init_notebook_mode(connected=True)\n",
    "import plotly.graph_objs as go\n",
    "sns.set_style('darkgrid')\n",
    "import gc"
   ]
  },
  {
   "cell_type": "code",
   "execution_count": 3,
   "metadata": {},
   "outputs": [],
   "source": [
    "import datetime, pytz\n",
    "\n",
    "# Conversion function for the native timestamps in the csv file\n",
    "def dateparse (time_in_secs):    \n",
    "    return pytz.utc.localize(datetime.datetime.fromtimestamp(float(time_in_secs)))"
   ]
  },
  {
   "cell_type": "code",
   "execution_count": 4,
   "metadata": {},
   "outputs": [],
   "source": [
    "# Importing dataset BitstampUSD.csv \n",
    "df = pd.read_csv('BitstampUSD.csv',parse_dates=[0],date_parser=dateparse)"
   ]
  },
  {
   "cell_type": "code",
   "execution_count": 5,
   "metadata": {},
   "outputs": [
    {
     "data": {
      "text/html": [
       "<div>\n",
       "<style scoped>\n",
       "    .dataframe tbody tr th:only-of-type {\n",
       "        vertical-align: middle;\n",
       "    }\n",
       "\n",
       "    .dataframe tbody tr th {\n",
       "        vertical-align: top;\n",
       "    }\n",
       "\n",
       "    .dataframe thead th {\n",
       "        text-align: right;\n",
       "    }\n",
       "</style>\n",
       "<table border=\"1\" class=\"dataframe\">\n",
       "  <thead>\n",
       "    <tr style=\"text-align: right;\">\n",
       "      <th></th>\n",
       "      <th>Timestamp</th>\n",
       "      <th>Open</th>\n",
       "      <th>High</th>\n",
       "      <th>Low</th>\n",
       "      <th>Close</th>\n",
       "      <th>Volume_(BTC)</th>\n",
       "      <th>Volume_(Currency)</th>\n",
       "      <th>Weighted_Price</th>\n",
       "    </tr>\n",
       "  </thead>\n",
       "  <tbody>\n",
       "    <tr>\n",
       "      <th>0</th>\n",
       "      <td>2011-12-31 13:22:00+00:00</td>\n",
       "      <td>4.39</td>\n",
       "      <td>4.39</td>\n",
       "      <td>4.39</td>\n",
       "      <td>4.39</td>\n",
       "      <td>0.455581</td>\n",
       "      <td>2.0</td>\n",
       "      <td>4.39</td>\n",
       "    </tr>\n",
       "    <tr>\n",
       "      <th>1</th>\n",
       "      <td>2011-12-31 13:23:00+00:00</td>\n",
       "      <td>NaN</td>\n",
       "      <td>NaN</td>\n",
       "      <td>NaN</td>\n",
       "      <td>NaN</td>\n",
       "      <td>NaN</td>\n",
       "      <td>NaN</td>\n",
       "      <td>NaN</td>\n",
       "    </tr>\n",
       "    <tr>\n",
       "      <th>2</th>\n",
       "      <td>2011-12-31 13:24:00+00:00</td>\n",
       "      <td>NaN</td>\n",
       "      <td>NaN</td>\n",
       "      <td>NaN</td>\n",
       "      <td>NaN</td>\n",
       "      <td>NaN</td>\n",
       "      <td>NaN</td>\n",
       "      <td>NaN</td>\n",
       "    </tr>\n",
       "    <tr>\n",
       "      <th>3</th>\n",
       "      <td>2011-12-31 13:25:00+00:00</td>\n",
       "      <td>NaN</td>\n",
       "      <td>NaN</td>\n",
       "      <td>NaN</td>\n",
       "      <td>NaN</td>\n",
       "      <td>NaN</td>\n",
       "      <td>NaN</td>\n",
       "      <td>NaN</td>\n",
       "    </tr>\n",
       "    <tr>\n",
       "      <th>4</th>\n",
       "      <td>2011-12-31 13:26:00+00:00</td>\n",
       "      <td>NaN</td>\n",
       "      <td>NaN</td>\n",
       "      <td>NaN</td>\n",
       "      <td>NaN</td>\n",
       "      <td>NaN</td>\n",
       "      <td>NaN</td>\n",
       "      <td>NaN</td>\n",
       "    </tr>\n",
       "    <tr>\n",
       "      <th>5</th>\n",
       "      <td>2011-12-31 13:27:00+00:00</td>\n",
       "      <td>NaN</td>\n",
       "      <td>NaN</td>\n",
       "      <td>NaN</td>\n",
       "      <td>NaN</td>\n",
       "      <td>NaN</td>\n",
       "      <td>NaN</td>\n",
       "      <td>NaN</td>\n",
       "    </tr>\n",
       "    <tr>\n",
       "      <th>6</th>\n",
       "      <td>2011-12-31 13:28:00+00:00</td>\n",
       "      <td>NaN</td>\n",
       "      <td>NaN</td>\n",
       "      <td>NaN</td>\n",
       "      <td>NaN</td>\n",
       "      <td>NaN</td>\n",
       "      <td>NaN</td>\n",
       "      <td>NaN</td>\n",
       "    </tr>\n",
       "    <tr>\n",
       "      <th>7</th>\n",
       "      <td>2011-12-31 13:29:00+00:00</td>\n",
       "      <td>NaN</td>\n",
       "      <td>NaN</td>\n",
       "      <td>NaN</td>\n",
       "      <td>NaN</td>\n",
       "      <td>NaN</td>\n",
       "      <td>NaN</td>\n",
       "      <td>NaN</td>\n",
       "    </tr>\n",
       "    <tr>\n",
       "      <th>8</th>\n",
       "      <td>2011-12-31 13:30:00+00:00</td>\n",
       "      <td>NaN</td>\n",
       "      <td>NaN</td>\n",
       "      <td>NaN</td>\n",
       "      <td>NaN</td>\n",
       "      <td>NaN</td>\n",
       "      <td>NaN</td>\n",
       "      <td>NaN</td>\n",
       "    </tr>\n",
       "    <tr>\n",
       "      <th>9</th>\n",
       "      <td>2011-12-31 13:31:00+00:00</td>\n",
       "      <td>NaN</td>\n",
       "      <td>NaN</td>\n",
       "      <td>NaN</td>\n",
       "      <td>NaN</td>\n",
       "      <td>NaN</td>\n",
       "      <td>NaN</td>\n",
       "      <td>NaN</td>\n",
       "    </tr>\n",
       "  </tbody>\n",
       "</table>\n",
       "</div>"
      ],
      "text/plain": [
       "                  Timestamp  Open  High   Low  Close  Volume_(BTC)  \\\n",
       "0 2011-12-31 13:22:00+00:00  4.39  4.39  4.39   4.39      0.455581   \n",
       "1 2011-12-31 13:23:00+00:00   NaN   NaN   NaN    NaN           NaN   \n",
       "2 2011-12-31 13:24:00+00:00   NaN   NaN   NaN    NaN           NaN   \n",
       "3 2011-12-31 13:25:00+00:00   NaN   NaN   NaN    NaN           NaN   \n",
       "4 2011-12-31 13:26:00+00:00   NaN   NaN   NaN    NaN           NaN   \n",
       "5 2011-12-31 13:27:00+00:00   NaN   NaN   NaN    NaN           NaN   \n",
       "6 2011-12-31 13:28:00+00:00   NaN   NaN   NaN    NaN           NaN   \n",
       "7 2011-12-31 13:29:00+00:00   NaN   NaN   NaN    NaN           NaN   \n",
       "8 2011-12-31 13:30:00+00:00   NaN   NaN   NaN    NaN           NaN   \n",
       "9 2011-12-31 13:31:00+00:00   NaN   NaN   NaN    NaN           NaN   \n",
       "\n",
       "   Volume_(Currency)  Weighted_Price  \n",
       "0                2.0            4.39  \n",
       "1                NaN             NaN  \n",
       "2                NaN             NaN  \n",
       "3                NaN             NaN  \n",
       "4                NaN             NaN  \n",
       "5                NaN             NaN  \n",
       "6                NaN             NaN  \n",
       "7                NaN             NaN  \n",
       "8                NaN             NaN  \n",
       "9                NaN             NaN  "
      ]
     },
     "execution_count": 5,
     "metadata": {},
     "output_type": "execute_result"
    }
   ],
   "source": [
    "# Display first 10 rows of dataset\n",
    "df.head(10)"
   ]
  },
  {
   "cell_type": "code",
   "execution_count": 6,
   "metadata": {},
   "outputs": [
    {
     "data": {
      "text/html": [
       "<div>\n",
       "<style scoped>\n",
       "    .dataframe tbody tr th:only-of-type {\n",
       "        vertical-align: middle;\n",
       "    }\n",
       "\n",
       "    .dataframe tbody tr th {\n",
       "        vertical-align: top;\n",
       "    }\n",
       "\n",
       "    .dataframe thead th {\n",
       "        text-align: right;\n",
       "    }\n",
       "</style>\n",
       "<table border=\"1\" class=\"dataframe\">\n",
       "  <thead>\n",
       "    <tr style=\"text-align: right;\">\n",
       "      <th></th>\n",
       "      <th>Timestamp</th>\n",
       "      <th>Open</th>\n",
       "      <th>High</th>\n",
       "      <th>Low</th>\n",
       "      <th>Close</th>\n",
       "      <th>Volume_(BTC)</th>\n",
       "      <th>Volume_(Currency)</th>\n",
       "      <th>Weighted_Price</th>\n",
       "    </tr>\n",
       "  </thead>\n",
       "  <tbody>\n",
       "    <tr>\n",
       "      <th>4572247</th>\n",
       "      <td>2020-09-14 05:21:00+00:00</td>\n",
       "      <td>10328.62</td>\n",
       "      <td>10328.62</td>\n",
       "      <td>10320.06</td>\n",
       "      <td>10320.06</td>\n",
       "      <td>0.701925</td>\n",
       "      <td>7247.408456</td>\n",
       "      <td>10325.040888</td>\n",
       "    </tr>\n",
       "    <tr>\n",
       "      <th>4572248</th>\n",
       "      <td>2020-09-14 05:22:00+00:00</td>\n",
       "      <td>10325.90</td>\n",
       "      <td>10325.90</td>\n",
       "      <td>10319.76</td>\n",
       "      <td>10320.63</td>\n",
       "      <td>5.946843</td>\n",
       "      <td>61391.782196</td>\n",
       "      <td>10323.424144</td>\n",
       "    </tr>\n",
       "    <tr>\n",
       "      <th>4572249</th>\n",
       "      <td>2020-09-14 05:23:00+00:00</td>\n",
       "      <td>10320.75</td>\n",
       "      <td>10320.78</td>\n",
       "      <td>10320.75</td>\n",
       "      <td>10320.78</td>\n",
       "      <td>0.020500</td>\n",
       "      <td>211.572844</td>\n",
       "      <td>10320.772555</td>\n",
       "    </tr>\n",
       "    <tr>\n",
       "      <th>4572250</th>\n",
       "      <td>2020-09-14 05:24:00+00:00</td>\n",
       "      <td>10320.86</td>\n",
       "      <td>10323.64</td>\n",
       "      <td>10320.86</td>\n",
       "      <td>10323.64</td>\n",
       "      <td>1.519091</td>\n",
       "      <td>15678.664557</td>\n",
       "      <td>10321.082832</td>\n",
       "    </tr>\n",
       "    <tr>\n",
       "      <th>4572251</th>\n",
       "      <td>2020-09-14 05:25:00+00:00</td>\n",
       "      <td>10324.60</td>\n",
       "      <td>10324.61</td>\n",
       "      <td>10321.93</td>\n",
       "      <td>10323.28</td>\n",
       "      <td>0.349238</td>\n",
       "      <td>3605.692837</td>\n",
       "      <td>10324.470065</td>\n",
       "    </tr>\n",
       "    <tr>\n",
       "      <th>4572252</th>\n",
       "      <td>2020-09-14 05:26:00+00:00</td>\n",
       "      <td>10324.35</td>\n",
       "      <td>10325.89</td>\n",
       "      <td>10324.35</td>\n",
       "      <td>10325.89</td>\n",
       "      <td>0.081143</td>\n",
       "      <td>837.754188</td>\n",
       "      <td>10324.419779</td>\n",
       "    </tr>\n",
       "    <tr>\n",
       "      <th>4572253</th>\n",
       "      <td>2020-09-14 05:27:00+00:00</td>\n",
       "      <td>10331.41</td>\n",
       "      <td>10331.97</td>\n",
       "      <td>10326.68</td>\n",
       "      <td>10331.97</td>\n",
       "      <td>0.572817</td>\n",
       "      <td>5918.028741</td>\n",
       "      <td>10331.444396</td>\n",
       "    </tr>\n",
       "    <tr>\n",
       "      <th>4572254</th>\n",
       "      <td>2020-09-14 05:28:00+00:00</td>\n",
       "      <td>10327.20</td>\n",
       "      <td>10331.47</td>\n",
       "      <td>10321.33</td>\n",
       "      <td>10331.47</td>\n",
       "      <td>2.489909</td>\n",
       "      <td>25711.238323</td>\n",
       "      <td>10326.175283</td>\n",
       "    </tr>\n",
       "    <tr>\n",
       "      <th>4572255</th>\n",
       "      <td>2020-09-14 05:29:00+00:00</td>\n",
       "      <td>10330.02</td>\n",
       "      <td>10334.78</td>\n",
       "      <td>10328.64</td>\n",
       "      <td>10334.78</td>\n",
       "      <td>4.572660</td>\n",
       "      <td>47253.747619</td>\n",
       "      <td>10333.972651</td>\n",
       "    </tr>\n",
       "    <tr>\n",
       "      <th>4572256</th>\n",
       "      <td>2020-09-14 05:30:00+00:00</td>\n",
       "      <td>10338.82</td>\n",
       "      <td>10338.82</td>\n",
       "      <td>10332.37</td>\n",
       "      <td>10332.37</td>\n",
       "      <td>1.292006</td>\n",
       "      <td>13349.565122</td>\n",
       "      <td>10332.429402</td>\n",
       "    </tr>\n",
       "  </tbody>\n",
       "</table>\n",
       "</div>"
      ],
      "text/plain": [
       "                        Timestamp      Open      High       Low     Close  \\\n",
       "4572247 2020-09-14 05:21:00+00:00  10328.62  10328.62  10320.06  10320.06   \n",
       "4572248 2020-09-14 05:22:00+00:00  10325.90  10325.90  10319.76  10320.63   \n",
       "4572249 2020-09-14 05:23:00+00:00  10320.75  10320.78  10320.75  10320.78   \n",
       "4572250 2020-09-14 05:24:00+00:00  10320.86  10323.64  10320.86  10323.64   \n",
       "4572251 2020-09-14 05:25:00+00:00  10324.60  10324.61  10321.93  10323.28   \n",
       "4572252 2020-09-14 05:26:00+00:00  10324.35  10325.89  10324.35  10325.89   \n",
       "4572253 2020-09-14 05:27:00+00:00  10331.41  10331.97  10326.68  10331.97   \n",
       "4572254 2020-09-14 05:28:00+00:00  10327.20  10331.47  10321.33  10331.47   \n",
       "4572255 2020-09-14 05:29:00+00:00  10330.02  10334.78  10328.64  10334.78   \n",
       "4572256 2020-09-14 05:30:00+00:00  10338.82  10338.82  10332.37  10332.37   \n",
       "\n",
       "         Volume_(BTC)  Volume_(Currency)  Weighted_Price  \n",
       "4572247      0.701925        7247.408456    10325.040888  \n",
       "4572248      5.946843       61391.782196    10323.424144  \n",
       "4572249      0.020500         211.572844    10320.772555  \n",
       "4572250      1.519091       15678.664557    10321.082832  \n",
       "4572251      0.349238        3605.692837    10324.470065  \n",
       "4572252      0.081143         837.754188    10324.419779  \n",
       "4572253      0.572817        5918.028741    10331.444396  \n",
       "4572254      2.489909       25711.238323    10326.175283  \n",
       "4572255      4.572660       47253.747619    10333.972651  \n",
       "4572256      1.292006       13349.565122    10332.429402  "
      ]
     },
     "execution_count": 6,
     "metadata": {},
     "output_type": "execute_result"
    }
   ],
   "source": [
    "# Display last 10 rows of dataset\n",
    "df.tail(10)"
   ]
  },
  {
   "cell_type": "code",
   "execution_count": 7,
   "metadata": {},
   "outputs": [
    {
     "name": "stdout",
     "output_type": "stream",
     "text": [
      "<class 'pandas.core.frame.DataFrame'>\n",
      "RangeIndex: 4572257 entries, 0 to 4572256\n",
      "Data columns (total 8 columns):\n",
      " #   Column             Dtype              \n",
      "---  ------             -----              \n",
      " 0   Timestamp          datetime64[ns, UTC]\n",
      " 1   Open               float64            \n",
      " 2   High               float64            \n",
      " 3   Low                float64            \n",
      " 4   Close              float64            \n",
      " 5   Volume_(BTC)       float64            \n",
      " 6   Volume_(Currency)  float64            \n",
      " 7   Weighted_Price     float64            \n",
      "dtypes: datetime64[ns, UTC](1), float64(7)\n",
      "memory usage: 279.1 MB\n"
     ]
    }
   ],
   "source": [
    "df.info()"
   ]
  },
  {
   "cell_type": "markdown",
   "metadata": {},
   "source": [
    "### Data Preprocessing"
   ]
  },
  {
   "cell_type": "code",
   "execution_count": 8,
   "metadata": {},
   "outputs": [],
   "source": [
    "# Preprocessing data\n",
    "# Removing Nan values \n",
    "# Volume/trades are a single event so fill na's with zeroes \n",
    "df['Volume_(BTC)'].fillna(value=0, inplace=True)\n",
    "df['Volume_(Currency)'].fillna(value=0, inplace=True)\n",
    "df['Weighted_Price'].fillna(value=0, inplace=True)\n",
    "\n",
    "# The OHLC data which is a continuous timeseries so using fill forwards for these values\n",
    "df['Open'].fillna(method='ffill', inplace=True)\n",
    "df['High'].fillna(method='ffill', inplace=True)\n",
    "df['Low'].fillna(method='ffill', inplace=True)\n",
    "df['Close'].fillna(method='ffill', inplace=True)"
   ]
  },
  {
   "cell_type": "code",
   "execution_count": 9,
   "metadata": {},
   "outputs": [
    {
     "data": {
      "text/html": [
       "<div>\n",
       "<style scoped>\n",
       "    .dataframe tbody tr th:only-of-type {\n",
       "        vertical-align: middle;\n",
       "    }\n",
       "\n",
       "    .dataframe tbody tr th {\n",
       "        vertical-align: top;\n",
       "    }\n",
       "\n",
       "    .dataframe thead th {\n",
       "        text-align: right;\n",
       "    }\n",
       "</style>\n",
       "<table border=\"1\" class=\"dataframe\">\n",
       "  <thead>\n",
       "    <tr style=\"text-align: right;\">\n",
       "      <th></th>\n",
       "      <th>Timestamp</th>\n",
       "      <th>Open</th>\n",
       "      <th>High</th>\n",
       "      <th>Low</th>\n",
       "      <th>Close</th>\n",
       "      <th>Volume_(BTC)</th>\n",
       "      <th>Volume_(Currency)</th>\n",
       "      <th>Weighted_Price</th>\n",
       "    </tr>\n",
       "  </thead>\n",
       "  <tbody>\n",
       "    <tr>\n",
       "      <th>0</th>\n",
       "      <td>2011-12-31 13:22:00+00:00</td>\n",
       "      <td>4.39</td>\n",
       "      <td>4.39</td>\n",
       "      <td>4.39</td>\n",
       "      <td>4.39</td>\n",
       "      <td>0.455581</td>\n",
       "      <td>2.0</td>\n",
       "      <td>4.39</td>\n",
       "    </tr>\n",
       "    <tr>\n",
       "      <th>1</th>\n",
       "      <td>2011-12-31 13:23:00+00:00</td>\n",
       "      <td>4.39</td>\n",
       "      <td>4.39</td>\n",
       "      <td>4.39</td>\n",
       "      <td>4.39</td>\n",
       "      <td>0.000000</td>\n",
       "      <td>0.0</td>\n",
       "      <td>0.00</td>\n",
       "    </tr>\n",
       "    <tr>\n",
       "      <th>2</th>\n",
       "      <td>2011-12-31 13:24:00+00:00</td>\n",
       "      <td>4.39</td>\n",
       "      <td>4.39</td>\n",
       "      <td>4.39</td>\n",
       "      <td>4.39</td>\n",
       "      <td>0.000000</td>\n",
       "      <td>0.0</td>\n",
       "      <td>0.00</td>\n",
       "    </tr>\n",
       "    <tr>\n",
       "      <th>3</th>\n",
       "      <td>2011-12-31 13:25:00+00:00</td>\n",
       "      <td>4.39</td>\n",
       "      <td>4.39</td>\n",
       "      <td>4.39</td>\n",
       "      <td>4.39</td>\n",
       "      <td>0.000000</td>\n",
       "      <td>0.0</td>\n",
       "      <td>0.00</td>\n",
       "    </tr>\n",
       "    <tr>\n",
       "      <th>4</th>\n",
       "      <td>2011-12-31 13:26:00+00:00</td>\n",
       "      <td>4.39</td>\n",
       "      <td>4.39</td>\n",
       "      <td>4.39</td>\n",
       "      <td>4.39</td>\n",
       "      <td>0.000000</td>\n",
       "      <td>0.0</td>\n",
       "      <td>0.00</td>\n",
       "    </tr>\n",
       "  </tbody>\n",
       "</table>\n",
       "</div>"
      ],
      "text/plain": [
       "                  Timestamp  Open  High   Low  Close  Volume_(BTC)  \\\n",
       "0 2011-12-31 13:22:00+00:00  4.39  4.39  4.39   4.39      0.455581   \n",
       "1 2011-12-31 13:23:00+00:00  4.39  4.39  4.39   4.39      0.000000   \n",
       "2 2011-12-31 13:24:00+00:00  4.39  4.39  4.39   4.39      0.000000   \n",
       "3 2011-12-31 13:25:00+00:00  4.39  4.39  4.39   4.39      0.000000   \n",
       "4 2011-12-31 13:26:00+00:00  4.39  4.39  4.39   4.39      0.000000   \n",
       "\n",
       "   Volume_(Currency)  Weighted_Price  \n",
       "0                2.0            4.39  \n",
       "1                0.0            0.00  \n",
       "2                0.0            0.00  \n",
       "3                0.0            0.00  \n",
       "4                0.0            0.00  "
      ]
     },
     "execution_count": 9,
     "metadata": {},
     "output_type": "execute_result"
    }
   ],
   "source": [
    "df.head()"
   ]
  },
  {
   "cell_type": "code",
   "execution_count": 10,
   "metadata": {},
   "outputs": [
    {
     "data": {
      "text/html": [
       "<div>\n",
       "<style scoped>\n",
       "    .dataframe tbody tr th:only-of-type {\n",
       "        vertical-align: middle;\n",
       "    }\n",
       "\n",
       "    .dataframe tbody tr th {\n",
       "        vertical-align: top;\n",
       "    }\n",
       "\n",
       "    .dataframe thead th {\n",
       "        text-align: right;\n",
       "    }\n",
       "</style>\n",
       "<table border=\"1\" class=\"dataframe\">\n",
       "  <thead>\n",
       "    <tr style=\"text-align: right;\">\n",
       "      <th></th>\n",
       "      <th>Timestamp</th>\n",
       "      <th>Open</th>\n",
       "      <th>High</th>\n",
       "      <th>Low</th>\n",
       "      <th>Close</th>\n",
       "      <th>Volume_(BTC)</th>\n",
       "      <th>Volume_(Currency)</th>\n",
       "      <th>Weighted_Price</th>\n",
       "    </tr>\n",
       "  </thead>\n",
       "  <tbody>\n",
       "    <tr>\n",
       "      <th>2744410</th>\n",
       "      <td>2017-03-24 21:24:00+00:00</td>\n",
       "      <td>988.95</td>\n",
       "      <td>991.38</td>\n",
       "      <td>988.89</td>\n",
       "      <td>991.38</td>\n",
       "      <td>1.975152</td>\n",
       "      <td>1954.594716</td>\n",
       "      <td>989.591839</td>\n",
       "    </tr>\n",
       "    <tr>\n",
       "      <th>2185789</th>\n",
       "      <td>2016-03-01 23:03:00+00:00</td>\n",
       "      <td>433.12</td>\n",
       "      <td>433.96</td>\n",
       "      <td>433.12</td>\n",
       "      <td>433.96</td>\n",
       "      <td>8.063294</td>\n",
       "      <td>3497.712753</td>\n",
       "      <td>433.782120</td>\n",
       "    </tr>\n",
       "    <tr>\n",
       "      <th>1357460</th>\n",
       "      <td>2014-07-31 05:42:00+00:00</td>\n",
       "      <td>559.00</td>\n",
       "      <td>559.00</td>\n",
       "      <td>557.65</td>\n",
       "      <td>557.65</td>\n",
       "      <td>25.538954</td>\n",
       "      <td>14244.115896</td>\n",
       "      <td>557.740773</td>\n",
       "    </tr>\n",
       "    <tr>\n",
       "      <th>632947</th>\n",
       "      <td>2013-03-15 02:29:00+00:00</td>\n",
       "      <td>47.10</td>\n",
       "      <td>47.10</td>\n",
       "      <td>47.10</td>\n",
       "      <td>47.10</td>\n",
       "      <td>0.200000</td>\n",
       "      <td>9.420000</td>\n",
       "      <td>47.100000</td>\n",
       "    </tr>\n",
       "    <tr>\n",
       "      <th>1318458</th>\n",
       "      <td>2014-07-04 03:40:00+00:00</td>\n",
       "      <td>644.30</td>\n",
       "      <td>644.88</td>\n",
       "      <td>644.30</td>\n",
       "      <td>644.88</td>\n",
       "      <td>2.010000</td>\n",
       "      <td>1296.155240</td>\n",
       "      <td>644.853353</td>\n",
       "    </tr>\n",
       "  </tbody>\n",
       "</table>\n",
       "</div>"
      ],
      "text/plain": [
       "                        Timestamp    Open    High     Low   Close  \\\n",
       "2744410 2017-03-24 21:24:00+00:00  988.95  991.38  988.89  991.38   \n",
       "2185789 2016-03-01 23:03:00+00:00  433.12  433.96  433.12  433.96   \n",
       "1357460 2014-07-31 05:42:00+00:00  559.00  559.00  557.65  557.65   \n",
       "632947  2013-03-15 02:29:00+00:00   47.10   47.10   47.10   47.10   \n",
       "1318458 2014-07-04 03:40:00+00:00  644.30  644.88  644.30  644.88   \n",
       "\n",
       "         Volume_(BTC)  Volume_(Currency)  Weighted_Price  \n",
       "2744410      1.975152        1954.594716      989.591839  \n",
       "2185789      8.063294        3497.712753      433.782120  \n",
       "1357460     25.538954       14244.115896      557.740773  \n",
       "632947       0.200000           9.420000       47.100000  \n",
       "1318458      2.010000        1296.155240      644.853353  "
      ]
     },
     "execution_count": 10,
     "metadata": {},
     "output_type": "execute_result"
    }
   ],
   "source": [
    "df.sample(5)"
   ]
  },
  {
   "cell_type": "markdown",
   "metadata": {},
   "source": [
    "Grouping data weekly for analysis and visualization."
   ]
  },
  {
   "cell_type": "code",
   "execution_count": 11,
   "metadata": {},
   "outputs": [
    {
     "data": {
      "text/html": [
       "<div>\n",
       "<style scoped>\n",
       "    .dataframe tbody tr th:only-of-type {\n",
       "        vertical-align: middle;\n",
       "    }\n",
       "\n",
       "    .dataframe tbody tr th {\n",
       "        vertical-align: top;\n",
       "    }\n",
       "\n",
       "    .dataframe thead th {\n",
       "        text-align: right;\n",
       "    }\n",
       "</style>\n",
       "<table border=\"1\" class=\"dataframe\">\n",
       "  <thead>\n",
       "    <tr style=\"text-align: right;\">\n",
       "      <th></th>\n",
       "      <th>Timestamp</th>\n",
       "      <th>Open</th>\n",
       "      <th>High</th>\n",
       "      <th>Low</th>\n",
       "      <th>Close</th>\n",
       "      <th>Volume_(BTC)</th>\n",
       "      <th>Volume_(Currency)</th>\n",
       "      <th>Weighted_Price</th>\n",
       "    </tr>\n",
       "  </thead>\n",
       "  <tbody>\n",
       "    <tr>\n",
       "      <th>0</th>\n",
       "      <td>2012-01-02 00:00:00+00:00</td>\n",
       "      <td>4.58</td>\n",
       "      <td>4.58</td>\n",
       "      <td>4.58</td>\n",
       "      <td>4.58</td>\n",
       "      <td>0.0</td>\n",
       "      <td>0.0</td>\n",
       "      <td>0.0</td>\n",
       "    </tr>\n",
       "    <tr>\n",
       "      <th>1</th>\n",
       "      <td>2012-01-09 00:00:00+00:00</td>\n",
       "      <td>5.00</td>\n",
       "      <td>5.00</td>\n",
       "      <td>5.00</td>\n",
       "      <td>5.00</td>\n",
       "      <td>0.0</td>\n",
       "      <td>0.0</td>\n",
       "      <td>0.0</td>\n",
       "    </tr>\n",
       "    <tr>\n",
       "      <th>2</th>\n",
       "      <td>2012-01-16 00:00:00+00:00</td>\n",
       "      <td>6.48</td>\n",
       "      <td>6.48</td>\n",
       "      <td>6.48</td>\n",
       "      <td>6.48</td>\n",
       "      <td>0.0</td>\n",
       "      <td>0.0</td>\n",
       "      <td>0.0</td>\n",
       "    </tr>\n",
       "    <tr>\n",
       "      <th>3</th>\n",
       "      <td>2012-01-23 00:00:00+00:00</td>\n",
       "      <td>7.10</td>\n",
       "      <td>7.10</td>\n",
       "      <td>7.10</td>\n",
       "      <td>7.10</td>\n",
       "      <td>0.0</td>\n",
       "      <td>0.0</td>\n",
       "      <td>0.0</td>\n",
       "    </tr>\n",
       "    <tr>\n",
       "      <th>4</th>\n",
       "      <td>2012-01-30 00:00:00+00:00</td>\n",
       "      <td>6.52</td>\n",
       "      <td>6.52</td>\n",
       "      <td>6.52</td>\n",
       "      <td>6.52</td>\n",
       "      <td>0.0</td>\n",
       "      <td>0.0</td>\n",
       "      <td>0.0</td>\n",
       "    </tr>\n",
       "  </tbody>\n",
       "</table>\n",
       "</div>"
      ],
      "text/plain": [
       "                  Timestamp  Open  High   Low  Close  Volume_(BTC)  \\\n",
       "0 2012-01-02 00:00:00+00:00  4.58  4.58  4.58   4.58           0.0   \n",
       "1 2012-01-09 00:00:00+00:00  5.00  5.00  5.00   5.00           0.0   \n",
       "2 2012-01-16 00:00:00+00:00  6.48  6.48  6.48   6.48           0.0   \n",
       "3 2012-01-23 00:00:00+00:00  7.10  7.10  7.10   7.10           0.0   \n",
       "4 2012-01-30 00:00:00+00:00  6.52  6.52  6.52   6.52           0.0   \n",
       "\n",
       "   Volume_(Currency)  Weighted_Price  \n",
       "0                0.0             0.0  \n",
       "1                0.0             0.0  \n",
       "2                0.0             0.0  \n",
       "3                0.0             0.0  \n",
       "4                0.0             0.0  "
      ]
     },
     "execution_count": 11,
     "metadata": {},
     "output_type": "execute_result"
    }
   ],
   "source": [
    "# we will be checking for data yearly and filter it for better results\n",
    "\n",
    "# Year 2012\n",
    "start = datetime.datetime(2012, 1, 1, 0, 0, 0, 0, pytz.UTC)\n",
    "end = datetime.datetime(2012, 12, 25, 0, 0, 0, 0, pytz.UTC)\n",
    "\n",
    "# find rows between start and end time and find the first row (00:00 monday morning)\n",
    "weekly_rows_12 = df[(df['Timestamp'] >= start) & (df['Timestamp'] <= end)].groupby(\n",
    "    [pd.Grouper(key='Timestamp', freq='W-MON')]).first().reset_index()\n",
    "\n",
    "weekly_rows_12.head()"
   ]
  },
  {
   "cell_type": "code",
   "execution_count": 12,
   "metadata": {},
   "outputs": [
    {
     "data": {
      "text/html": [
       "<div>\n",
       "<style scoped>\n",
       "    .dataframe tbody tr th:only-of-type {\n",
       "        vertical-align: middle;\n",
       "    }\n",
       "\n",
       "    .dataframe tbody tr th {\n",
       "        vertical-align: top;\n",
       "    }\n",
       "\n",
       "    .dataframe thead th {\n",
       "        text-align: right;\n",
       "    }\n",
       "</style>\n",
       "<table border=\"1\" class=\"dataframe\">\n",
       "  <thead>\n",
       "    <tr style=\"text-align: right;\">\n",
       "      <th></th>\n",
       "      <th>Timestamp</th>\n",
       "      <th>Open</th>\n",
       "      <th>High</th>\n",
       "      <th>Low</th>\n",
       "      <th>Close</th>\n",
       "      <th>Volume_(BTC)</th>\n",
       "      <th>Volume_(Currency)</th>\n",
       "      <th>Weighted_Price</th>\n",
       "    </tr>\n",
       "  </thead>\n",
       "  <tbody>\n",
       "    <tr>\n",
       "      <th>48</th>\n",
       "      <td>2012-12-03 00:00:00+00:00</td>\n",
       "      <td>12.32</td>\n",
       "      <td>12.32</td>\n",
       "      <td>12.32</td>\n",
       "      <td>12.32</td>\n",
       "      <td>0.000000</td>\n",
       "      <td>0.000000</td>\n",
       "      <td>0.00</td>\n",
       "    </tr>\n",
       "    <tr>\n",
       "      <th>49</th>\n",
       "      <td>2012-12-10 00:00:00+00:00</td>\n",
       "      <td>12.40</td>\n",
       "      <td>12.40</td>\n",
       "      <td>12.40</td>\n",
       "      <td>12.40</td>\n",
       "      <td>0.000000</td>\n",
       "      <td>0.000000</td>\n",
       "      <td>0.00</td>\n",
       "    </tr>\n",
       "    <tr>\n",
       "      <th>50</th>\n",
       "      <td>2012-12-17 00:00:00+00:00</td>\n",
       "      <td>13.28</td>\n",
       "      <td>13.28</td>\n",
       "      <td>13.28</td>\n",
       "      <td>13.28</td>\n",
       "      <td>0.000000</td>\n",
       "      <td>0.000000</td>\n",
       "      <td>0.00</td>\n",
       "    </tr>\n",
       "    <tr>\n",
       "      <th>51</th>\n",
       "      <td>2012-12-24 00:00:00+00:00</td>\n",
       "      <td>13.02</td>\n",
       "      <td>13.02</td>\n",
       "      <td>13.02</td>\n",
       "      <td>13.02</td>\n",
       "      <td>0.000000</td>\n",
       "      <td>0.000000</td>\n",
       "      <td>0.00</td>\n",
       "    </tr>\n",
       "    <tr>\n",
       "      <th>52</th>\n",
       "      <td>2012-12-31 00:00:00+00:00</td>\n",
       "      <td>13.01</td>\n",
       "      <td>13.01</td>\n",
       "      <td>13.01</td>\n",
       "      <td>13.01</td>\n",
       "      <td>213.030118</td>\n",
       "      <td>2771.521839</td>\n",
       "      <td>13.01</td>\n",
       "    </tr>\n",
       "  </tbody>\n",
       "</table>\n",
       "</div>"
      ],
      "text/plain": [
       "                   Timestamp   Open   High    Low  Close  Volume_(BTC)  \\\n",
       "48 2012-12-03 00:00:00+00:00  12.32  12.32  12.32  12.32      0.000000   \n",
       "49 2012-12-10 00:00:00+00:00  12.40  12.40  12.40  12.40      0.000000   \n",
       "50 2012-12-17 00:00:00+00:00  13.28  13.28  13.28  13.28      0.000000   \n",
       "51 2012-12-24 00:00:00+00:00  13.02  13.02  13.02  13.02      0.000000   \n",
       "52 2012-12-31 00:00:00+00:00  13.01  13.01  13.01  13.01    213.030118   \n",
       "\n",
       "    Volume_(Currency)  Weighted_Price  \n",
       "48           0.000000            0.00  \n",
       "49           0.000000            0.00  \n",
       "50           0.000000            0.00  \n",
       "51           0.000000            0.00  \n",
       "52        2771.521839           13.01  "
      ]
     },
     "execution_count": 12,
     "metadata": {},
     "output_type": "execute_result"
    }
   ],
   "source": [
    "weekly_rows_12.tail()"
   ]
  },
  {
   "cell_type": "markdown",
   "metadata": {},
   "source": [
    "Since the data is not very accurate and useful, so we will filter out this 2012's data"
   ]
  },
  {
   "cell_type": "code",
   "execution_count": 13,
   "metadata": {},
   "outputs": [
    {
     "data": {
      "text/html": [
       "<div>\n",
       "<style scoped>\n",
       "    .dataframe tbody tr th:only-of-type {\n",
       "        vertical-align: middle;\n",
       "    }\n",
       "\n",
       "    .dataframe tbody tr th {\n",
       "        vertical-align: top;\n",
       "    }\n",
       "\n",
       "    .dataframe thead th {\n",
       "        text-align: right;\n",
       "    }\n",
       "</style>\n",
       "<table border=\"1\" class=\"dataframe\">\n",
       "  <thead>\n",
       "    <tr style=\"text-align: right;\">\n",
       "      <th></th>\n",
       "      <th>Timestamp</th>\n",
       "      <th>Open</th>\n",
       "      <th>High</th>\n",
       "      <th>Low</th>\n",
       "      <th>Close</th>\n",
       "      <th>Volume_(BTC)</th>\n",
       "      <th>Volume_(Currency)</th>\n",
       "      <th>Weighted_Price</th>\n",
       "    </tr>\n",
       "  </thead>\n",
       "  <tbody>\n",
       "    <tr>\n",
       "      <th>0</th>\n",
       "      <td>2013-01-07 00:00:00+00:00</td>\n",
       "      <td>13.29</td>\n",
       "      <td>13.29</td>\n",
       "      <td>13.29</td>\n",
       "      <td>13.29</td>\n",
       "      <td>0.0</td>\n",
       "      <td>0.0</td>\n",
       "      <td>0.0</td>\n",
       "    </tr>\n",
       "    <tr>\n",
       "      <th>1</th>\n",
       "      <td>2013-01-14 00:00:00+00:00</td>\n",
       "      <td>13.19</td>\n",
       "      <td>13.19</td>\n",
       "      <td>13.19</td>\n",
       "      <td>13.19</td>\n",
       "      <td>0.0</td>\n",
       "      <td>0.0</td>\n",
       "      <td>0.0</td>\n",
       "    </tr>\n",
       "    <tr>\n",
       "      <th>2</th>\n",
       "      <td>2013-01-21 00:00:00+00:00</td>\n",
       "      <td>13.96</td>\n",
       "      <td>14.00</td>\n",
       "      <td>13.96</td>\n",
       "      <td>14.00</td>\n",
       "      <td>0.0</td>\n",
       "      <td>0.0</td>\n",
       "      <td>0.0</td>\n",
       "    </tr>\n",
       "    <tr>\n",
       "      <th>3</th>\n",
       "      <td>2013-01-28 00:00:00+00:00</td>\n",
       "      <td>16.49</td>\n",
       "      <td>16.74</td>\n",
       "      <td>16.49</td>\n",
       "      <td>16.74</td>\n",
       "      <td>0.0</td>\n",
       "      <td>0.0</td>\n",
       "      <td>0.0</td>\n",
       "    </tr>\n",
       "    <tr>\n",
       "      <th>4</th>\n",
       "      <td>2013-02-04 00:00:00+00:00</td>\n",
       "      <td>18.16</td>\n",
       "      <td>18.16</td>\n",
       "      <td>18.16</td>\n",
       "      <td>18.16</td>\n",
       "      <td>0.0</td>\n",
       "      <td>0.0</td>\n",
       "      <td>0.0</td>\n",
       "    </tr>\n",
       "  </tbody>\n",
       "</table>\n",
       "</div>"
      ],
      "text/plain": [
       "                  Timestamp   Open   High    Low  Close  Volume_(BTC)  \\\n",
       "0 2013-01-07 00:00:00+00:00  13.29  13.29  13.29  13.29           0.0   \n",
       "1 2013-01-14 00:00:00+00:00  13.19  13.19  13.19  13.19           0.0   \n",
       "2 2013-01-21 00:00:00+00:00  13.96  14.00  13.96  14.00           0.0   \n",
       "3 2013-01-28 00:00:00+00:00  16.49  16.74  16.49  16.74           0.0   \n",
       "4 2013-02-04 00:00:00+00:00  18.16  18.16  18.16  18.16           0.0   \n",
       "\n",
       "   Volume_(Currency)  Weighted_Price  \n",
       "0                0.0             0.0  \n",
       "1                0.0             0.0  \n",
       "2                0.0             0.0  \n",
       "3                0.0             0.0  \n",
       "4                0.0             0.0  "
      ]
     },
     "execution_count": 13,
     "metadata": {},
     "output_type": "execute_result"
    }
   ],
   "source": [
    "# Year 2013\n",
    "start = datetime.datetime(2013, 1, 1, 0, 0, 0, 0, pytz.UTC)\n",
    "end = datetime.datetime(2013, 12, 25, 0, 0, 0, 0, pytz.UTC)\n",
    "\n",
    "# find rows between start and end time and find the first row (00:00 monday morning)\n",
    "weekly_rows_13 = df[(df['Timestamp'] >= start) & (df['Timestamp'] <= end)].groupby(\n",
    "    [pd.Grouper(key='Timestamp', freq='W-MON')]).first().reset_index()\n",
    "\n",
    "weekly_rows_13.head()"
   ]
  },
  {
   "cell_type": "code",
   "execution_count": 14,
   "metadata": {},
   "outputs": [
    {
     "data": {
      "text/html": [
       "<div>\n",
       "<style scoped>\n",
       "    .dataframe tbody tr th:only-of-type {\n",
       "        vertical-align: middle;\n",
       "    }\n",
       "\n",
       "    .dataframe tbody tr th {\n",
       "        vertical-align: top;\n",
       "    }\n",
       "\n",
       "    .dataframe thead th {\n",
       "        text-align: right;\n",
       "    }\n",
       "</style>\n",
       "<table border=\"1\" class=\"dataframe\">\n",
       "  <thead>\n",
       "    <tr style=\"text-align: right;\">\n",
       "      <th></th>\n",
       "      <th>Timestamp</th>\n",
       "      <th>Open</th>\n",
       "      <th>High</th>\n",
       "      <th>Low</th>\n",
       "      <th>Close</th>\n",
       "      <th>Volume_(BTC)</th>\n",
       "      <th>Volume_(Currency)</th>\n",
       "      <th>Weighted_Price</th>\n",
       "    </tr>\n",
       "  </thead>\n",
       "  <tbody>\n",
       "    <tr>\n",
       "      <th>5</th>\n",
       "      <td>2013-02-11 00:00:00+00:00</td>\n",
       "      <td>20.37</td>\n",
       "      <td>20.60</td>\n",
       "      <td>20.37</td>\n",
       "      <td>20.60</td>\n",
       "      <td>0.000000</td>\n",
       "      <td>0.0</td>\n",
       "      <td>0.0</td>\n",
       "    </tr>\n",
       "    <tr>\n",
       "      <th>6</th>\n",
       "      <td>2013-02-18 00:00:00+00:00</td>\n",
       "      <td>23.80</td>\n",
       "      <td>23.80</td>\n",
       "      <td>23.80</td>\n",
       "      <td>23.80</td>\n",
       "      <td>0.000000</td>\n",
       "      <td>0.0</td>\n",
       "      <td>0.0</td>\n",
       "    </tr>\n",
       "    <tr>\n",
       "      <th>8</th>\n",
       "      <td>2013-03-04 00:00:00+00:00</td>\n",
       "      <td>30.40</td>\n",
       "      <td>30.40</td>\n",
       "      <td>30.40</td>\n",
       "      <td>30.40</td>\n",
       "      <td>0.651316</td>\n",
       "      <td>19.8</td>\n",
       "      <td>30.4</td>\n",
       "    </tr>\n",
       "    <tr>\n",
       "      <th>37</th>\n",
       "      <td>2013-09-23 00:00:00+00:00</td>\n",
       "      <td>126.11</td>\n",
       "      <td>126.40</td>\n",
       "      <td>126.00</td>\n",
       "      <td>126.40</td>\n",
       "      <td>0.000000</td>\n",
       "      <td>0.0</td>\n",
       "      <td>0.0</td>\n",
       "    </tr>\n",
       "    <tr>\n",
       "      <th>1</th>\n",
       "      <td>2013-01-14 00:00:00+00:00</td>\n",
       "      <td>13.19</td>\n",
       "      <td>13.19</td>\n",
       "      <td>13.19</td>\n",
       "      <td>13.19</td>\n",
       "      <td>0.000000</td>\n",
       "      <td>0.0</td>\n",
       "      <td>0.0</td>\n",
       "    </tr>\n",
       "  </tbody>\n",
       "</table>\n",
       "</div>"
      ],
      "text/plain": [
       "                   Timestamp    Open    High     Low   Close  Volume_(BTC)  \\\n",
       "5  2013-02-11 00:00:00+00:00   20.37   20.60   20.37   20.60      0.000000   \n",
       "6  2013-02-18 00:00:00+00:00   23.80   23.80   23.80   23.80      0.000000   \n",
       "8  2013-03-04 00:00:00+00:00   30.40   30.40   30.40   30.40      0.651316   \n",
       "37 2013-09-23 00:00:00+00:00  126.11  126.40  126.00  126.40      0.000000   \n",
       "1  2013-01-14 00:00:00+00:00   13.19   13.19   13.19   13.19      0.000000   \n",
       "\n",
       "    Volume_(Currency)  Weighted_Price  \n",
       "5                 0.0             0.0  \n",
       "6                 0.0             0.0  \n",
       "8                19.8            30.4  \n",
       "37                0.0             0.0  \n",
       "1                 0.0             0.0  "
      ]
     },
     "execution_count": 14,
     "metadata": {},
     "output_type": "execute_result"
    }
   ],
   "source": [
    "weekly_rows_13.sample(5)"
   ]
  },
  {
   "cell_type": "markdown",
   "metadata": {},
   "source": [
    "2013's data isn't also very accurate so we will filter it out"
   ]
  },
  {
   "cell_type": "code",
   "execution_count": 15,
   "metadata": {},
   "outputs": [
    {
     "data": {
      "text/html": [
       "<div>\n",
       "<style scoped>\n",
       "    .dataframe tbody tr th:only-of-type {\n",
       "        vertical-align: middle;\n",
       "    }\n",
       "\n",
       "    .dataframe tbody tr th {\n",
       "        vertical-align: top;\n",
       "    }\n",
       "\n",
       "    .dataframe thead th {\n",
       "        text-align: right;\n",
       "    }\n",
       "</style>\n",
       "<table border=\"1\" class=\"dataframe\">\n",
       "  <thead>\n",
       "    <tr style=\"text-align: right;\">\n",
       "      <th></th>\n",
       "      <th>Timestamp</th>\n",
       "      <th>Open</th>\n",
       "      <th>High</th>\n",
       "      <th>Low</th>\n",
       "      <th>Close</th>\n",
       "      <th>Volume_(BTC)</th>\n",
       "      <th>Volume_(Currency)</th>\n",
       "      <th>Weighted_Price</th>\n",
       "    </tr>\n",
       "  </thead>\n",
       "  <tbody>\n",
       "    <tr>\n",
       "      <th>0</th>\n",
       "      <td>2014-01-06 00:00:00+00:00</td>\n",
       "      <td>734.86</td>\n",
       "      <td>734.87</td>\n",
       "      <td>734.86</td>\n",
       "      <td>734.87</td>\n",
       "      <td>0.192000</td>\n",
       "      <td>141.094978</td>\n",
       "      <td>734.869679</td>\n",
       "    </tr>\n",
       "    <tr>\n",
       "      <th>1</th>\n",
       "      <td>2014-01-13 00:00:00+00:00</td>\n",
       "      <td>938.60</td>\n",
       "      <td>938.60</td>\n",
       "      <td>935.00</td>\n",
       "      <td>935.06</td>\n",
       "      <td>0.000000</td>\n",
       "      <td>0.000000</td>\n",
       "      <td>0.000000</td>\n",
       "    </tr>\n",
       "    <tr>\n",
       "      <th>2</th>\n",
       "      <td>2014-01-20 00:00:00+00:00</td>\n",
       "      <td>812.90</td>\n",
       "      <td>812.99</td>\n",
       "      <td>812.89</td>\n",
       "      <td>812.99</td>\n",
       "      <td>57.729657</td>\n",
       "      <td>46928.547794</td>\n",
       "      <td>812.901896</td>\n",
       "    </tr>\n",
       "    <tr>\n",
       "      <th>3</th>\n",
       "      <td>2014-01-27 00:00:00+00:00</td>\n",
       "      <td>828.20</td>\n",
       "      <td>828.20</td>\n",
       "      <td>828.20</td>\n",
       "      <td>828.20</td>\n",
       "      <td>0.006013</td>\n",
       "      <td>4.980000</td>\n",
       "      <td>828.200000</td>\n",
       "    </tr>\n",
       "    <tr>\n",
       "      <th>4</th>\n",
       "      <td>2014-02-03 00:00:00+00:00</td>\n",
       "      <td>786.50</td>\n",
       "      <td>786.50</td>\n",
       "      <td>786.30</td>\n",
       "      <td>786.30</td>\n",
       "      <td>0.691357</td>\n",
       "      <td>543.732198</td>\n",
       "      <td>786.470782</td>\n",
       "    </tr>\n",
       "    <tr>\n",
       "      <th>5</th>\n",
       "      <td>2014-02-10 00:00:00+00:00</td>\n",
       "      <td>811.68</td>\n",
       "      <td>811.68</td>\n",
       "      <td>811.26</td>\n",
       "      <td>811.26</td>\n",
       "      <td>0.183000</td>\n",
       "      <td>148.479860</td>\n",
       "      <td>811.365355</td>\n",
       "    </tr>\n",
       "    <tr>\n",
       "      <th>6</th>\n",
       "      <td>2014-02-17 00:00:00+00:00</td>\n",
       "      <td>663.99</td>\n",
       "      <td>663.99</td>\n",
       "      <td>656.60</td>\n",
       "      <td>660.00</td>\n",
       "      <td>2.693067</td>\n",
       "      <td>1780.382934</td>\n",
       "      <td>661.098624</td>\n",
       "    </tr>\n",
       "    <tr>\n",
       "      <th>7</th>\n",
       "      <td>2014-02-24 00:00:00+00:00</td>\n",
       "      <td>641.95</td>\n",
       "      <td>641.95</td>\n",
       "      <td>641.76</td>\n",
       "      <td>641.76</td>\n",
       "      <td>0.792503</td>\n",
       "      <td>508.700000</td>\n",
       "      <td>641.890063</td>\n",
       "    </tr>\n",
       "    <tr>\n",
       "      <th>8</th>\n",
       "      <td>2014-03-03 00:00:00+00:00</td>\n",
       "      <td>549.26</td>\n",
       "      <td>549.26</td>\n",
       "      <td>549.13</td>\n",
       "      <td>549.13</td>\n",
       "      <td>41.020328</td>\n",
       "      <td>22529.641214</td>\n",
       "      <td>549.231127</td>\n",
       "    </tr>\n",
       "    <tr>\n",
       "      <th>9</th>\n",
       "      <td>2014-03-10 00:00:00+00:00</td>\n",
       "      <td>675.00</td>\n",
       "      <td>677.00</td>\n",
       "      <td>668.12</td>\n",
       "      <td>673.00</td>\n",
       "      <td>50.410227</td>\n",
       "      <td>33918.736931</td>\n",
       "      <td>672.854278</td>\n",
       "    </tr>\n",
       "  </tbody>\n",
       "</table>\n",
       "</div>"
      ],
      "text/plain": [
       "                  Timestamp    Open    High     Low   Close  Volume_(BTC)  \\\n",
       "0 2014-01-06 00:00:00+00:00  734.86  734.87  734.86  734.87      0.192000   \n",
       "1 2014-01-13 00:00:00+00:00  938.60  938.60  935.00  935.06      0.000000   \n",
       "2 2014-01-20 00:00:00+00:00  812.90  812.99  812.89  812.99     57.729657   \n",
       "3 2014-01-27 00:00:00+00:00  828.20  828.20  828.20  828.20      0.006013   \n",
       "4 2014-02-03 00:00:00+00:00  786.50  786.50  786.30  786.30      0.691357   \n",
       "5 2014-02-10 00:00:00+00:00  811.68  811.68  811.26  811.26      0.183000   \n",
       "6 2014-02-17 00:00:00+00:00  663.99  663.99  656.60  660.00      2.693067   \n",
       "7 2014-02-24 00:00:00+00:00  641.95  641.95  641.76  641.76      0.792503   \n",
       "8 2014-03-03 00:00:00+00:00  549.26  549.26  549.13  549.13     41.020328   \n",
       "9 2014-03-10 00:00:00+00:00  675.00  677.00  668.12  673.00     50.410227   \n",
       "\n",
       "   Volume_(Currency)  Weighted_Price  \n",
       "0         141.094978      734.869679  \n",
       "1           0.000000        0.000000  \n",
       "2       46928.547794      812.901896  \n",
       "3           4.980000      828.200000  \n",
       "4         543.732198      786.470782  \n",
       "5         148.479860      811.365355  \n",
       "6        1780.382934      661.098624  \n",
       "7         508.700000      641.890063  \n",
       "8       22529.641214      549.231127  \n",
       "9       33918.736931      672.854278  "
      ]
     },
     "execution_count": 15,
     "metadata": {},
     "output_type": "execute_result"
    }
   ],
   "source": [
    "# Year 2014\n",
    "start = datetime.datetime(2014, 1, 1, 0, 0, 0, 0, pytz.UTC)\n",
    "end = datetime.datetime(2014, 12, 25, 0, 0, 0, 0, pytz.UTC)\n",
    "\n",
    "# find rows between start and end time and find the first row (00:00 monday morning)\n",
    "weekly_rows_14 = df[(df['Timestamp'] >= start) & (df['Timestamp'] <= end)].groupby(\n",
    "    [pd.Grouper(key='Timestamp', freq='W-MON')]).first().reset_index()\n",
    "\n",
    "weekly_rows_14.head(10)"
   ]
  },
  {
   "cell_type": "code",
   "execution_count": 16,
   "metadata": {},
   "outputs": [
    {
     "data": {
      "text/html": [
       "<div>\n",
       "<style scoped>\n",
       "    .dataframe tbody tr th:only-of-type {\n",
       "        vertical-align: middle;\n",
       "    }\n",
       "\n",
       "    .dataframe tbody tr th {\n",
       "        vertical-align: top;\n",
       "    }\n",
       "\n",
       "    .dataframe thead th {\n",
       "        text-align: right;\n",
       "    }\n",
       "</style>\n",
       "<table border=\"1\" class=\"dataframe\">\n",
       "  <thead>\n",
       "    <tr style=\"text-align: right;\">\n",
       "      <th></th>\n",
       "      <th>Timestamp</th>\n",
       "      <th>Open</th>\n",
       "      <th>High</th>\n",
       "      <th>Low</th>\n",
       "      <th>Close</th>\n",
       "      <th>Volume_(BTC)</th>\n",
       "      <th>Volume_(Currency)</th>\n",
       "      <th>Weighted_Price</th>\n",
       "    </tr>\n",
       "  </thead>\n",
       "  <tbody>\n",
       "    <tr>\n",
       "      <th>47</th>\n",
       "      <td>2014-12-01 00:00:00+00:00</td>\n",
       "      <td>386.30</td>\n",
       "      <td>386.30</td>\n",
       "      <td>385.23</td>\n",
       "      <td>385.23</td>\n",
       "      <td>0.391363</td>\n",
       "      <td>150.780151</td>\n",
       "      <td>385.269542</td>\n",
       "    </tr>\n",
       "    <tr>\n",
       "      <th>48</th>\n",
       "      <td>2014-12-08 00:00:00+00:00</td>\n",
       "      <td>378.17</td>\n",
       "      <td>378.17</td>\n",
       "      <td>378.17</td>\n",
       "      <td>378.17</td>\n",
       "      <td>0.014852</td>\n",
       "      <td>5.616630</td>\n",
       "      <td>378.170000</td>\n",
       "    </tr>\n",
       "    <tr>\n",
       "      <th>49</th>\n",
       "      <td>2014-12-15 00:00:00+00:00</td>\n",
       "      <td>367.00</td>\n",
       "      <td>367.00</td>\n",
       "      <td>366.99</td>\n",
       "      <td>366.99</td>\n",
       "      <td>4.696997</td>\n",
       "      <td>1723.757815</td>\n",
       "      <td>366.991484</td>\n",
       "    </tr>\n",
       "    <tr>\n",
       "      <th>50</th>\n",
       "      <td>2014-12-22 00:00:00+00:00</td>\n",
       "      <td>351.94</td>\n",
       "      <td>351.97</td>\n",
       "      <td>351.94</td>\n",
       "      <td>351.97</td>\n",
       "      <td>0.287199</td>\n",
       "      <td>101.082655</td>\n",
       "      <td>351.960072</td>\n",
       "    </tr>\n",
       "    <tr>\n",
       "      <th>51</th>\n",
       "      <td>2014-12-29 00:00:00+00:00</td>\n",
       "      <td>332.98</td>\n",
       "      <td>332.99</td>\n",
       "      <td>332.09</td>\n",
       "      <td>332.09</td>\n",
       "      <td>3.205553</td>\n",
       "      <td>1067.378267</td>\n",
       "      <td>332.977876</td>\n",
       "    </tr>\n",
       "  </tbody>\n",
       "</table>\n",
       "</div>"
      ],
      "text/plain": [
       "                   Timestamp    Open    High     Low   Close  Volume_(BTC)  \\\n",
       "47 2014-12-01 00:00:00+00:00  386.30  386.30  385.23  385.23      0.391363   \n",
       "48 2014-12-08 00:00:00+00:00  378.17  378.17  378.17  378.17      0.014852   \n",
       "49 2014-12-15 00:00:00+00:00  367.00  367.00  366.99  366.99      4.696997   \n",
       "50 2014-12-22 00:00:00+00:00  351.94  351.97  351.94  351.97      0.287199   \n",
       "51 2014-12-29 00:00:00+00:00  332.98  332.99  332.09  332.09      3.205553   \n",
       "\n",
       "    Volume_(Currency)  Weighted_Price  \n",
       "47         150.780151      385.269542  \n",
       "48           5.616630      378.170000  \n",
       "49        1723.757815      366.991484  \n",
       "50         101.082655      351.960072  \n",
       "51        1067.378267      332.977876  "
      ]
     },
     "execution_count": 16,
     "metadata": {},
     "output_type": "execute_result"
    }
   ],
   "source": [
    "weekly_rows_14.tail()"
   ]
  },
  {
   "cell_type": "markdown",
   "metadata": {},
   "source": [
    "2014's data is more accurate so we will start our dataset from 2014 and remove previous years"
   ]
  },
  {
   "cell_type": "code",
   "execution_count": 17,
   "metadata": {
    "scrolled": true
   },
   "outputs": [
    {
     "data": {
      "text/html": [
       "<div>\n",
       "<style scoped>\n",
       "    .dataframe tbody tr th:only-of-type {\n",
       "        vertical-align: middle;\n",
       "    }\n",
       "\n",
       "    .dataframe tbody tr th {\n",
       "        vertical-align: top;\n",
       "    }\n",
       "\n",
       "    .dataframe thead th {\n",
       "        text-align: right;\n",
       "    }\n",
       "</style>\n",
       "<table border=\"1\" class=\"dataframe\">\n",
       "  <thead>\n",
       "    <tr style=\"text-align: right;\">\n",
       "      <th></th>\n",
       "      <th>Timestamp</th>\n",
       "      <th>Open</th>\n",
       "      <th>High</th>\n",
       "      <th>Low</th>\n",
       "      <th>Close</th>\n",
       "      <th>Volume_(BTC)</th>\n",
       "      <th>Volume_(Currency)</th>\n",
       "      <th>Weighted_Price</th>\n",
       "    </tr>\n",
       "  </thead>\n",
       "  <tbody>\n",
       "    <tr>\n",
       "      <th>53</th>\n",
       "      <td>2015-01-12 00:00:00+00:00</td>\n",
       "      <td>272.45</td>\n",
       "      <td>305.00</td>\n",
       "      <td>272.45</td>\n",
       "      <td>291.10</td>\n",
       "      <td>175.837078</td>\n",
       "      <td>50502.066285</td>\n",
       "      <td>287.209426</td>\n",
       "    </tr>\n",
       "    <tr>\n",
       "      <th>147</th>\n",
       "      <td>2016-10-31 00:00:00+00:00</td>\n",
       "      <td>649.67</td>\n",
       "      <td>649.67</td>\n",
       "      <td>649.14</td>\n",
       "      <td>649.14</td>\n",
       "      <td>0.552355</td>\n",
       "      <td>358.566234</td>\n",
       "      <td>649.159191</td>\n",
       "    </tr>\n",
       "    <tr>\n",
       "      <th>127</th>\n",
       "      <td>2016-06-13 00:00:00+00:00</td>\n",
       "      <td>584.10</td>\n",
       "      <td>584.10</td>\n",
       "      <td>584.00</td>\n",
       "      <td>584.00</td>\n",
       "      <td>30.286663</td>\n",
       "      <td>17687.439677</td>\n",
       "      <td>584.000946</td>\n",
       "    </tr>\n",
       "    <tr>\n",
       "      <th>297</th>\n",
       "      <td>2019-09-16 00:00:00+00:00</td>\n",
       "      <td>10258.24</td>\n",
       "      <td>10265.70</td>\n",
       "      <td>10254.10</td>\n",
       "      <td>10254.10</td>\n",
       "      <td>0.134764</td>\n",
       "      <td>1382.507859</td>\n",
       "      <td>10258.697723</td>\n",
       "    </tr>\n",
       "    <tr>\n",
       "      <th>174</th>\n",
       "      <td>2017-05-08 00:00:00+00:00</td>\n",
       "      <td>1403.92</td>\n",
       "      <td>1407.04</td>\n",
       "      <td>1403.92</td>\n",
       "      <td>1407.04</td>\n",
       "      <td>2.857279</td>\n",
       "      <td>4011.486207</td>\n",
       "      <td>1403.953043</td>\n",
       "    </tr>\n",
       "    <tr>\n",
       "      <th>341</th>\n",
       "      <td>2020-07-20 00:00:00+00:00</td>\n",
       "      <td>9283.19</td>\n",
       "      <td>9283.19</td>\n",
       "      <td>9283.19</td>\n",
       "      <td>9283.19</td>\n",
       "      <td>0.005509</td>\n",
       "      <td>51.140908</td>\n",
       "      <td>9283.190000</td>\n",
       "    </tr>\n",
       "    <tr>\n",
       "      <th>49</th>\n",
       "      <td>2014-12-15 00:00:00+00:00</td>\n",
       "      <td>367.00</td>\n",
       "      <td>367.00</td>\n",
       "      <td>366.99</td>\n",
       "      <td>366.99</td>\n",
       "      <td>4.696997</td>\n",
       "      <td>1723.757815</td>\n",
       "      <td>366.991484</td>\n",
       "    </tr>\n",
       "    <tr>\n",
       "      <th>156</th>\n",
       "      <td>2017-01-02 00:00:00+00:00</td>\n",
       "      <td>899.88</td>\n",
       "      <td>899.88</td>\n",
       "      <td>899.88</td>\n",
       "      <td>899.88</td>\n",
       "      <td>0.065199</td>\n",
       "      <td>58.671195</td>\n",
       "      <td>899.880000</td>\n",
       "    </tr>\n",
       "    <tr>\n",
       "      <th>306</th>\n",
       "      <td>2019-11-18 00:00:00+00:00</td>\n",
       "      <td>8722.36</td>\n",
       "      <td>8734.24</td>\n",
       "      <td>8722.36</td>\n",
       "      <td>8734.23</td>\n",
       "      <td>12.265203</td>\n",
       "      <td>107101.470770</td>\n",
       "      <td>8732.140398</td>\n",
       "    </tr>\n",
       "    <tr>\n",
       "      <th>103</th>\n",
       "      <td>2015-12-28 00:00:00+00:00</td>\n",
       "      <td>437.97</td>\n",
       "      <td>438.99</td>\n",
       "      <td>437.97</td>\n",
       "      <td>438.99</td>\n",
       "      <td>0.000000</td>\n",
       "      <td>0.000000</td>\n",
       "      <td>0.000000</td>\n",
       "    </tr>\n",
       "  </tbody>\n",
       "</table>\n",
       "</div>"
      ],
      "text/plain": [
       "                    Timestamp      Open      High       Low     Close  \\\n",
       "53  2015-01-12 00:00:00+00:00    272.45    305.00    272.45    291.10   \n",
       "147 2016-10-31 00:00:00+00:00    649.67    649.67    649.14    649.14   \n",
       "127 2016-06-13 00:00:00+00:00    584.10    584.10    584.00    584.00   \n",
       "297 2019-09-16 00:00:00+00:00  10258.24  10265.70  10254.10  10254.10   \n",
       "174 2017-05-08 00:00:00+00:00   1403.92   1407.04   1403.92   1407.04   \n",
       "341 2020-07-20 00:00:00+00:00   9283.19   9283.19   9283.19   9283.19   \n",
       "49  2014-12-15 00:00:00+00:00    367.00    367.00    366.99    366.99   \n",
       "156 2017-01-02 00:00:00+00:00    899.88    899.88    899.88    899.88   \n",
       "306 2019-11-18 00:00:00+00:00   8722.36   8734.24   8722.36   8734.23   \n",
       "103 2015-12-28 00:00:00+00:00    437.97    438.99    437.97    438.99   \n",
       "\n",
       "     Volume_(BTC)  Volume_(Currency)  Weighted_Price  \n",
       "53     175.837078       50502.066285      287.209426  \n",
       "147      0.552355         358.566234      649.159191  \n",
       "127     30.286663       17687.439677      584.000946  \n",
       "297      0.134764        1382.507859    10258.697723  \n",
       "174      2.857279        4011.486207     1403.953043  \n",
       "341      0.005509          51.140908     9283.190000  \n",
       "49       4.696997        1723.757815      366.991484  \n",
       "156      0.065199          58.671195      899.880000  \n",
       "306     12.265203      107101.470770     8732.140398  \n",
       "103      0.000000           0.000000        0.000000  "
      ]
     },
     "execution_count": 17,
     "metadata": {},
     "output_type": "execute_result"
    }
   ],
   "source": [
    "# create valid date range\n",
    "start = datetime.datetime(2014, 1, 1, 0, 0, 0, 0, pytz.UTC)\n",
    "end = datetime.datetime(2020, 12, 25, 0, 0, 0, 0, pytz.UTC)\n",
    "\n",
    "# find rows between start and end time and find the first row (00:00 monday morning)\n",
    "weekly_rows = df[(df['Timestamp'] >= start) & (df['Timestamp'] <= end)].groupby(\n",
    "    [pd.Grouper(key='Timestamp', freq='W-MON')]).first().reset_index()\n",
    "\n",
    "# Sample of new dataset\n",
    "weekly_rows.sample(10)"
   ]
  },
  {
   "cell_type": "code",
   "execution_count": 18,
   "metadata": {},
   "outputs": [
    {
     "name": "stdout",
     "output_type": "stream",
     "text": [
      "<class 'pandas.core.frame.DataFrame'>\n",
      "RangeIndex: 350 entries, 0 to 349\n",
      "Data columns (total 8 columns):\n",
      " #   Column             Non-Null Count  Dtype              \n",
      "---  ------             --------------  -----              \n",
      " 0   Timestamp          350 non-null    datetime64[ns, UTC]\n",
      " 1   Open               350 non-null    float64            \n",
      " 2   High               350 non-null    float64            \n",
      " 3   Low                350 non-null    float64            \n",
      " 4   Close              350 non-null    float64            \n",
      " 5   Volume_(BTC)       350 non-null    float64            \n",
      " 6   Volume_(Currency)  350 non-null    float64            \n",
      " 7   Weighted_Price     350 non-null    float64            \n",
      "dtypes: datetime64[ns, UTC](1), float64(7)\n",
      "memory usage: 22.0 KB\n"
     ]
    }
   ],
   "source": [
    "weekly_rows.info()"
   ]
  },
  {
   "cell_type": "markdown",
   "metadata": {},
   "source": [
    "### Data Visualisation"
   ]
  },
  {
   "cell_type": "code",
   "execution_count": 19,
   "metadata": {},
   "outputs": [
    {
     "data": {
      "application/vnd.plotly.v1+json": {
       "config": {
        "linkText": "Export to plot.ly",
        "plotlyServerURL": "https://plot.ly",
        "showLink": false
       },
       "data": [
        {
         "mode": "lines",
         "name": "Open",
         "type": "scatter",
         "x": [
          "2014-01-06T00:00:00+00:00",
          "2014-01-13T00:00:00+00:00",
          "2014-01-20T00:00:00+00:00",
          "2014-01-27T00:00:00+00:00",
          "2014-02-03T00:00:00+00:00",
          "2014-02-10T00:00:00+00:00",
          "2014-02-17T00:00:00+00:00",
          "2014-02-24T00:00:00+00:00",
          "2014-03-03T00:00:00+00:00",
          "2014-03-10T00:00:00+00:00",
          "2014-03-17T00:00:00+00:00",
          "2014-03-24T00:00:00+00:00",
          "2014-03-31T00:00:00+00:00",
          "2014-04-07T00:00:00+00:00",
          "2014-04-14T00:00:00+00:00",
          "2014-04-21T00:00:00+00:00",
          "2014-04-28T00:00:00+00:00",
          "2014-05-05T00:00:00+00:00",
          "2014-05-12T00:00:00+00:00",
          "2014-05-19T00:00:00+00:00",
          "2014-05-26T00:00:00+00:00",
          "2014-06-02T00:00:00+00:00",
          "2014-06-09T00:00:00+00:00",
          "2014-06-16T00:00:00+00:00",
          "2014-06-23T00:00:00+00:00",
          "2014-06-30T00:00:00+00:00",
          "2014-07-07T00:00:00+00:00",
          "2014-07-14T00:00:00+00:00",
          "2014-07-21T00:00:00+00:00",
          "2014-07-28T00:00:00+00:00",
          "2014-08-04T00:00:00+00:00",
          "2014-08-11T00:00:00+00:00",
          "2014-08-18T00:00:00+00:00",
          "2014-08-25T00:00:00+00:00",
          "2014-09-01T00:00:00+00:00",
          "2014-09-08T00:00:00+00:00",
          "2014-09-15T00:00:00+00:00",
          "2014-09-22T00:00:00+00:00",
          "2014-09-29T00:00:00+00:00",
          "2014-10-06T00:00:00+00:00",
          "2014-10-13T00:00:00+00:00",
          "2014-10-20T00:00:00+00:00",
          "2014-10-27T00:00:00+00:00",
          "2014-11-03T00:00:00+00:00",
          "2014-11-10T00:00:00+00:00",
          "2014-11-17T00:00:00+00:00",
          "2014-11-24T00:00:00+00:00",
          "2014-12-01T00:00:00+00:00",
          "2014-12-08T00:00:00+00:00",
          "2014-12-15T00:00:00+00:00",
          "2014-12-22T00:00:00+00:00",
          "2014-12-29T00:00:00+00:00",
          "2015-01-05T00:00:00+00:00",
          "2015-01-12T00:00:00+00:00",
          "2015-01-19T00:00:00+00:00",
          "2015-01-26T00:00:00+00:00",
          "2015-02-02T00:00:00+00:00",
          "2015-02-09T00:00:00+00:00",
          "2015-02-16T00:00:00+00:00",
          "2015-02-23T00:00:00+00:00",
          "2015-03-02T00:00:00+00:00",
          "2015-03-09T00:00:00+00:00",
          "2015-03-16T00:00:00+00:00",
          "2015-03-23T00:00:00+00:00",
          "2015-03-30T00:00:00+00:00",
          "2015-04-06T00:00:00+00:00",
          "2015-04-13T00:00:00+00:00",
          "2015-04-20T00:00:00+00:00",
          "2015-04-27T00:00:00+00:00",
          "2015-05-04T00:00:00+00:00",
          "2015-05-11T00:00:00+00:00",
          "2015-05-18T00:00:00+00:00",
          "2015-05-25T00:00:00+00:00",
          "2015-06-01T00:00:00+00:00",
          "2015-06-08T00:00:00+00:00",
          "2015-06-15T00:00:00+00:00",
          "2015-06-22T00:00:00+00:00",
          "2015-06-29T00:00:00+00:00",
          "2015-07-06T00:00:00+00:00",
          "2015-07-13T00:00:00+00:00",
          "2015-07-20T00:00:00+00:00",
          "2015-07-27T00:00:00+00:00",
          "2015-08-03T00:00:00+00:00",
          "2015-08-10T00:00:00+00:00",
          "2015-08-17T00:00:00+00:00",
          "2015-08-24T00:00:00+00:00",
          "2015-08-31T00:00:00+00:00",
          "2015-09-07T00:00:00+00:00",
          "2015-09-14T00:00:00+00:00",
          "2015-09-21T00:00:00+00:00",
          "2015-09-28T00:00:00+00:00",
          "2015-10-05T00:00:00+00:00",
          "2015-10-12T00:00:00+00:00",
          "2015-10-19T00:00:00+00:00",
          "2015-10-26T00:00:00+00:00",
          "2015-11-02T00:00:00+00:00",
          "2015-11-09T00:00:00+00:00",
          "2015-11-16T00:00:00+00:00",
          "2015-11-23T00:00:00+00:00",
          "2015-11-30T00:00:00+00:00",
          "2015-12-07T00:00:00+00:00",
          "2015-12-14T00:00:00+00:00",
          "2015-12-21T00:00:00+00:00",
          "2015-12-28T00:00:00+00:00",
          "2016-01-04T00:00:00+00:00",
          "2016-01-11T00:00:00+00:00",
          "2016-01-18T00:00:00+00:00",
          "2016-01-25T00:00:00+00:00",
          "2016-02-01T00:00:00+00:00",
          "2016-02-08T00:00:00+00:00",
          "2016-02-15T00:00:00+00:00",
          "2016-02-22T00:00:00+00:00",
          "2016-02-29T00:00:00+00:00",
          "2016-03-07T00:00:00+00:00",
          "2016-03-14T00:00:00+00:00",
          "2016-03-21T00:00:00+00:00",
          "2016-03-28T00:00:00+00:00",
          "2016-04-04T00:00:00+00:00",
          "2016-04-11T00:00:00+00:00",
          "2016-04-18T00:00:00+00:00",
          "2016-04-25T00:00:00+00:00",
          "2016-05-02T00:00:00+00:00",
          "2016-05-09T00:00:00+00:00",
          "2016-05-16T00:00:00+00:00",
          "2016-05-23T00:00:00+00:00",
          "2016-05-30T00:00:00+00:00",
          "2016-06-06T00:00:00+00:00",
          "2016-06-13T00:00:00+00:00",
          "2016-06-20T00:00:00+00:00",
          "2016-06-27T00:00:00+00:00",
          "2016-07-04T00:00:00+00:00",
          "2016-07-11T00:00:00+00:00",
          "2016-07-18T00:00:00+00:00",
          "2016-07-25T00:00:00+00:00",
          "2016-08-01T00:00:00+00:00",
          "2016-08-08T00:00:00+00:00",
          "2016-08-15T00:00:00+00:00",
          "2016-08-22T00:00:00+00:00",
          "2016-08-29T00:00:00+00:00",
          "2016-09-05T00:00:00+00:00",
          "2016-09-12T00:00:00+00:00",
          "2016-09-19T00:00:00+00:00",
          "2016-09-26T00:00:00+00:00",
          "2016-10-03T00:00:00+00:00",
          "2016-10-10T00:00:00+00:00",
          "2016-10-17T00:00:00+00:00",
          "2016-10-24T00:00:00+00:00",
          "2016-10-31T00:00:00+00:00",
          "2016-11-07T00:00:00+00:00",
          "2016-11-14T00:00:00+00:00",
          "2016-11-21T00:00:00+00:00",
          "2016-11-28T00:00:00+00:00",
          "2016-12-05T00:00:00+00:00",
          "2016-12-12T00:00:00+00:00",
          "2016-12-19T00:00:00+00:00",
          "2016-12-26T00:00:00+00:00",
          "2017-01-02T00:00:00+00:00",
          "2017-01-09T00:00:00+00:00",
          "2017-01-16T00:00:00+00:00",
          "2017-01-23T00:00:00+00:00",
          "2017-01-30T00:00:00+00:00",
          "2017-02-06T00:00:00+00:00",
          "2017-02-13T00:00:00+00:00",
          "2017-02-20T00:00:00+00:00",
          "2017-02-27T00:00:00+00:00",
          "2017-03-06T00:00:00+00:00",
          "2017-03-13T00:00:00+00:00",
          "2017-03-20T00:00:00+00:00",
          "2017-03-27T00:00:00+00:00",
          "2017-04-03T00:00:00+00:00",
          "2017-04-10T00:00:00+00:00",
          "2017-04-17T00:00:00+00:00",
          "2017-04-24T00:00:00+00:00",
          "2017-05-01T00:00:00+00:00",
          "2017-05-08T00:00:00+00:00",
          "2017-05-15T00:00:00+00:00",
          "2017-05-22T00:00:00+00:00",
          "2017-05-29T00:00:00+00:00",
          "2017-06-05T00:00:00+00:00",
          "2017-06-12T00:00:00+00:00",
          "2017-06-19T00:00:00+00:00",
          "2017-06-26T00:00:00+00:00",
          "2017-07-03T00:00:00+00:00",
          "2017-07-10T00:00:00+00:00",
          "2017-07-17T00:00:00+00:00",
          "2017-07-24T00:00:00+00:00",
          "2017-07-31T00:00:00+00:00",
          "2017-08-07T00:00:00+00:00",
          "2017-08-14T00:00:00+00:00",
          "2017-08-21T00:00:00+00:00",
          "2017-08-28T00:00:00+00:00",
          "2017-09-04T00:00:00+00:00",
          "2017-09-11T00:00:00+00:00",
          "2017-09-18T00:00:00+00:00",
          "2017-09-25T00:00:00+00:00",
          "2017-10-02T00:00:00+00:00",
          "2017-10-09T00:00:00+00:00",
          "2017-10-16T00:00:00+00:00",
          "2017-10-23T00:00:00+00:00",
          "2017-10-30T00:00:00+00:00",
          "2017-11-06T00:00:00+00:00",
          "2017-11-13T00:00:00+00:00",
          "2017-11-20T00:00:00+00:00",
          "2017-11-27T00:00:00+00:00",
          "2017-12-04T00:00:00+00:00",
          "2017-12-11T00:00:00+00:00",
          "2017-12-18T00:00:00+00:00",
          "2017-12-25T00:00:00+00:00",
          "2018-01-01T00:00:00+00:00",
          "2018-01-08T00:00:00+00:00",
          "2018-01-15T00:00:00+00:00",
          "2018-01-22T00:00:00+00:00",
          "2018-01-29T00:00:00+00:00",
          "2018-02-05T00:00:00+00:00",
          "2018-02-12T00:00:00+00:00",
          "2018-02-19T00:00:00+00:00",
          "2018-02-26T00:00:00+00:00",
          "2018-03-05T00:00:00+00:00",
          "2018-03-12T00:00:00+00:00",
          "2018-03-19T00:00:00+00:00",
          "2018-03-26T00:00:00+00:00",
          "2018-04-02T00:00:00+00:00",
          "2018-04-09T00:00:00+00:00",
          "2018-04-16T00:00:00+00:00",
          "2018-04-23T00:00:00+00:00",
          "2018-04-30T00:00:00+00:00",
          "2018-05-07T00:00:00+00:00",
          "2018-05-14T00:00:00+00:00",
          "2018-05-21T00:00:00+00:00",
          "2018-05-28T00:00:00+00:00",
          "2018-06-04T00:00:00+00:00",
          "2018-06-11T00:00:00+00:00",
          "2018-06-18T00:00:00+00:00",
          "2018-06-25T00:00:00+00:00",
          "2018-07-02T00:00:00+00:00",
          "2018-07-09T00:00:00+00:00",
          "2018-07-16T00:00:00+00:00",
          "2018-07-23T00:00:00+00:00",
          "2018-07-30T00:00:00+00:00",
          "2018-08-06T00:00:00+00:00",
          "2018-08-13T00:00:00+00:00",
          "2018-08-20T00:00:00+00:00",
          "2018-08-27T00:00:00+00:00",
          "2018-09-03T00:00:00+00:00",
          "2018-09-10T00:00:00+00:00",
          "2018-09-17T00:00:00+00:00",
          "2018-09-24T00:00:00+00:00",
          "2018-10-01T00:00:00+00:00",
          "2018-10-08T00:00:00+00:00",
          "2018-10-15T00:00:00+00:00",
          "2018-10-22T00:00:00+00:00",
          "2018-10-29T00:00:00+00:00",
          "2018-11-05T00:00:00+00:00",
          "2018-11-12T00:00:00+00:00",
          "2018-11-19T00:00:00+00:00",
          "2018-11-26T00:00:00+00:00",
          "2018-12-03T00:00:00+00:00",
          "2018-12-10T00:00:00+00:00",
          "2018-12-17T00:00:00+00:00",
          "2018-12-24T00:00:00+00:00",
          "2018-12-31T00:00:00+00:00",
          "2019-01-07T00:00:00+00:00",
          "2019-01-14T00:00:00+00:00",
          "2019-01-21T00:00:00+00:00",
          "2019-01-28T00:00:00+00:00",
          "2019-02-04T00:00:00+00:00",
          "2019-02-11T00:00:00+00:00",
          "2019-02-18T00:00:00+00:00",
          "2019-02-25T00:00:00+00:00",
          "2019-03-04T00:00:00+00:00",
          "2019-03-11T00:00:00+00:00",
          "2019-03-18T00:00:00+00:00",
          "2019-03-25T00:00:00+00:00",
          "2019-04-01T00:00:00+00:00",
          "2019-04-08T00:00:00+00:00",
          "2019-04-15T00:00:00+00:00",
          "2019-04-22T00:00:00+00:00",
          "2019-04-29T00:00:00+00:00",
          "2019-05-06T00:00:00+00:00",
          "2019-05-13T00:00:00+00:00",
          "2019-05-20T00:00:00+00:00",
          "2019-05-27T00:00:00+00:00",
          "2019-06-03T00:00:00+00:00",
          "2019-06-10T00:00:00+00:00",
          "2019-06-17T00:00:00+00:00",
          "2019-06-24T00:00:00+00:00",
          "2019-07-01T00:00:00+00:00",
          "2019-07-08T00:00:00+00:00",
          "2019-07-15T00:00:00+00:00",
          "2019-07-22T00:00:00+00:00",
          "2019-07-29T00:00:00+00:00",
          "2019-08-05T00:00:00+00:00",
          "2019-08-12T00:00:00+00:00",
          "2019-08-19T00:00:00+00:00",
          "2019-08-26T00:00:00+00:00",
          "2019-09-02T00:00:00+00:00",
          "2019-09-09T00:00:00+00:00",
          "2019-09-16T00:00:00+00:00",
          "2019-09-23T00:00:00+00:00",
          "2019-09-30T00:00:00+00:00",
          "2019-10-07T00:00:00+00:00",
          "2019-10-14T00:00:00+00:00",
          "2019-10-21T00:00:00+00:00",
          "2019-10-28T00:00:00+00:00",
          "2019-11-04T00:00:00+00:00",
          "2019-11-11T00:00:00+00:00",
          "2019-11-18T00:00:00+00:00",
          "2019-11-25T00:00:00+00:00",
          "2019-12-02T00:00:00+00:00",
          "2019-12-09T00:00:00+00:00",
          "2019-12-16T00:00:00+00:00",
          "2019-12-23T00:00:00+00:00",
          "2019-12-30T00:00:00+00:00",
          "2020-01-06T00:00:00+00:00",
          "2020-01-13T00:00:00+00:00",
          "2020-01-20T00:00:00+00:00",
          "2020-01-27T00:00:00+00:00",
          "2020-02-03T00:00:00+00:00",
          "2020-02-10T00:00:00+00:00",
          "2020-02-17T00:00:00+00:00",
          "2020-02-24T00:00:00+00:00",
          "2020-03-02T00:00:00+00:00",
          "2020-03-09T00:00:00+00:00",
          "2020-03-16T00:00:00+00:00",
          "2020-03-23T00:00:00+00:00",
          "2020-03-30T00:00:00+00:00",
          "2020-04-06T00:00:00+00:00",
          "2020-04-13T00:00:00+00:00",
          "2020-04-20T00:00:00+00:00",
          "2020-04-27T00:00:00+00:00",
          "2020-05-04T00:00:00+00:00",
          "2020-05-11T00:00:00+00:00",
          "2020-05-18T00:00:00+00:00",
          "2020-05-25T00:00:00+00:00",
          "2020-06-01T00:00:00+00:00",
          "2020-06-08T00:00:00+00:00",
          "2020-06-15T00:00:00+00:00",
          "2020-06-22T00:00:00+00:00",
          "2020-06-29T00:00:00+00:00",
          "2020-07-06T00:00:00+00:00",
          "2020-07-13T00:00:00+00:00",
          "2020-07-20T00:00:00+00:00",
          "2020-07-27T00:00:00+00:00",
          "2020-08-03T00:00:00+00:00",
          "2020-08-10T00:00:00+00:00",
          "2020-08-17T00:00:00+00:00",
          "2020-08-24T00:00:00+00:00",
          "2020-08-31T00:00:00+00:00",
          "2020-09-07T00:00:00+00:00",
          "2020-09-14T00:00:00+00:00"
         ],
         "y": [
          734.86,
          938.6,
          812.9,
          828.2,
          786.5,
          811.68,
          663.99,
          641.95,
          549.26,
          675,
          622.9,
          625.06,
          572.06,
          458.12,
          447.9,
          457,
          494.04,
          446.71,
          431,
          442.3,
          445.78,
          585.52,
          634.7,
          649.86,
          595.25,
          589,
          621,
          623.13,
          622.97,
          619.5,
          588.44,
          592.98,
          579.47,
          464.9,
          503.99,
          480.75,
          474.38,
          475.92,
          401.51,
          382.64,
          333.99,
          380.49,
          384.94,
          355.99,
          327.55,
          375.76,
          382.43,
          386.3,
          378.17,
          367,
          351.94,
          332.98,
          313.86,
          272.45,
          270.97,
          212.29,
          270.89,
          225.87,
          220.01,
          236.72,
          236.99,
          263.93,
          285.24,
          290.85,
          266.29,
          245.23,
          256.18,
          225.95,
          224.52,
          222.4,
          236.18,
          244,
          235.96,
          236.18,
          221.92,
          227.97,
          236.65,
          246.48,
          254.13,
          272.32,
          289.05,
          277.87,
          292.01,
          284.13,
          264.34,
          257.03,
          213.16,
          231.34,
          239.79,
          231.07,
          227.06,
          238.6,
          239.46,
          246.18,
          263.71,
          285.22,
          342.18,
          379.89,
          330.09,
          324.35,
          373,
          396.32,
          445.36,
          437.97,
          423.18,
          433.52,
          447.69,
          385.78,
          387.98,
          373.34,
          375,
          400.11,
          438.45,
          434.99,
          411.96,
          413.04,
          410.99,
          422.25,
          418.94,
          421.1,
          426.69,
          463,
          442.53,
          463.92,
          457.29,
          442.75,
          531.8,
          584.1,
          692.03,
          739.35,
          636.97,
          667.83,
          648.47,
          673.98,
          655.82,
          613.94,
          590.96,
          562.55,
          583.42,
          573.8,
          603.14,
          604.65,
          607.94,
          604.2,
          610.74,
          614.39,
          634.9,
          649.67,
          704.99,
          705.49,
          698.45,
          736.73,
          730.96,
          750.06,
          777.1,
          790.6,
          899.88,
          1022,
          888.52,
          828.46,
          919.43,
          919.49,
          1019.73,
          997.3,
          1060.62,
          1190.33,
          1275.01,
          1238,
          1047.51,
          1024.83,
          1130.88,
          1209.68,
          1178.85,
          1249.72,
          1403.92,
          1583.43,
          1720,
          2208.22,
          2299.37,
          2622.02,
          2571.84,
          2585.95,
          2364.31,
          2542.29,
          2401.75,
          2130.5,
          2730.74,
          2791.32,
          3343.44,
          4274.99,
          3992.54,
          4332.48,
          4137.47,
          4227.99,
          4018.23,
          3913.93,
          4378.33,
          4692.11,
          5679.3,
          5820.03,
          6126,
          7070,
          6348.16,
          8200,
          9549.99,
          11200.57,
          16324.99,
          18460.67,
          14030.56,
          13308.31,
          15099.24,
          13981.06,
          10670.1,
          11215.39,
          6960.87,
          8647.47,
          11045,
          10226.68,
          11510.21,
          9226.49,
          8380.85,
          7893.11,
          6964.98,
          6745.69,
          8026.91,
          8903.6,
          9349.86,
          9355.98,
          8746.78,
          8350.05,
          7235.11,
          7484.99,
          6716.79,
          6746.23,
          6272.21,
          6614.47,
          6697.69,
          6689.24,
          7772.71,
          7923.83,
          6908.08,
          6220,
          6472.2,
          6726.34,
          7271.62,
          6262.86,
          6309.45,
          6641.56,
          6575.32,
          6610.36,
          6399.4,
          6393.9,
          6262,
          6388.8,
          6333.31,
          4997.93,
          3734.26,
          3835.51,
          3423.73,
          3445.64,
          4074.54,
          3750.64,
          4023.98,
          3682.77,
          3535.59,
          3420.65,
          3417.38,
          3591.5,
          3889.98,
          3843.57,
          3705.73,
          3854.38,
          3964.51,
          3929.25,
          4131.78,
          5217.37,
          5040.89,
          5387.19,
          5138.64,
          5711.05,
          7900,
          7792.1,
          8760.2,
          8511.12,
          7950.87,
          9249.16,
          11005.96,
          10238.78,
          11870.03,
          10761.32,
          10262.66,
          9466.07,
          11826.53,
          11369.51,
          10714.27,
          10300.05,
          10170.69,
          10258.24,
          10130,
          9810.63,
          8309.21,
          8265.63,
          8349.49,
          8186.25,
          9496.5,
          9295.79,
          8722.36,
          8135.71,
          7253.98,
          7265.58,
          7445.71,
          7034.71,
          7431.12,
          7233.65,
          7545.14,
          8093.11,
          8649.32,
          8754.21,
          9255.3,
          9847.9,
          9596.16,
          9520.71,
          8885.41,
          7749.44,
          5075.12,
          6310.51,
          6352.99,
          7204.08,
          6784.79,
          6868.55,
          7690.08,
          8842.75,
          8475.34,
          9614.24,
          8890,
          9567.4,
          9728.7,
          9394.64,
          9582.24,
          9148.88,
          9302.5,
          9283.19,
          9186.9,
          10793.25,
          11400.36,
          11889.13,
          12353.81,
          11721.02,
          11730.13,
          10167.78
         ]
        },
        {
         "mode": "lines",
         "name": "Close",
         "type": "scatter",
         "x": [
          "2014-01-06T00:00:00+00:00",
          "2014-01-13T00:00:00+00:00",
          "2014-01-20T00:00:00+00:00",
          "2014-01-27T00:00:00+00:00",
          "2014-02-03T00:00:00+00:00",
          "2014-02-10T00:00:00+00:00",
          "2014-02-17T00:00:00+00:00",
          "2014-02-24T00:00:00+00:00",
          "2014-03-03T00:00:00+00:00",
          "2014-03-10T00:00:00+00:00",
          "2014-03-17T00:00:00+00:00",
          "2014-03-24T00:00:00+00:00",
          "2014-03-31T00:00:00+00:00",
          "2014-04-07T00:00:00+00:00",
          "2014-04-14T00:00:00+00:00",
          "2014-04-21T00:00:00+00:00",
          "2014-04-28T00:00:00+00:00",
          "2014-05-05T00:00:00+00:00",
          "2014-05-12T00:00:00+00:00",
          "2014-05-19T00:00:00+00:00",
          "2014-05-26T00:00:00+00:00",
          "2014-06-02T00:00:00+00:00",
          "2014-06-09T00:00:00+00:00",
          "2014-06-16T00:00:00+00:00",
          "2014-06-23T00:00:00+00:00",
          "2014-06-30T00:00:00+00:00",
          "2014-07-07T00:00:00+00:00",
          "2014-07-14T00:00:00+00:00",
          "2014-07-21T00:00:00+00:00",
          "2014-07-28T00:00:00+00:00",
          "2014-08-04T00:00:00+00:00",
          "2014-08-11T00:00:00+00:00",
          "2014-08-18T00:00:00+00:00",
          "2014-08-25T00:00:00+00:00",
          "2014-09-01T00:00:00+00:00",
          "2014-09-08T00:00:00+00:00",
          "2014-09-15T00:00:00+00:00",
          "2014-09-22T00:00:00+00:00",
          "2014-09-29T00:00:00+00:00",
          "2014-10-06T00:00:00+00:00",
          "2014-10-13T00:00:00+00:00",
          "2014-10-20T00:00:00+00:00",
          "2014-10-27T00:00:00+00:00",
          "2014-11-03T00:00:00+00:00",
          "2014-11-10T00:00:00+00:00",
          "2014-11-17T00:00:00+00:00",
          "2014-11-24T00:00:00+00:00",
          "2014-12-01T00:00:00+00:00",
          "2014-12-08T00:00:00+00:00",
          "2014-12-15T00:00:00+00:00",
          "2014-12-22T00:00:00+00:00",
          "2014-12-29T00:00:00+00:00",
          "2015-01-05T00:00:00+00:00",
          "2015-01-12T00:00:00+00:00",
          "2015-01-19T00:00:00+00:00",
          "2015-01-26T00:00:00+00:00",
          "2015-02-02T00:00:00+00:00",
          "2015-02-09T00:00:00+00:00",
          "2015-02-16T00:00:00+00:00",
          "2015-02-23T00:00:00+00:00",
          "2015-03-02T00:00:00+00:00",
          "2015-03-09T00:00:00+00:00",
          "2015-03-16T00:00:00+00:00",
          "2015-03-23T00:00:00+00:00",
          "2015-03-30T00:00:00+00:00",
          "2015-04-06T00:00:00+00:00",
          "2015-04-13T00:00:00+00:00",
          "2015-04-20T00:00:00+00:00",
          "2015-04-27T00:00:00+00:00",
          "2015-05-04T00:00:00+00:00",
          "2015-05-11T00:00:00+00:00",
          "2015-05-18T00:00:00+00:00",
          "2015-05-25T00:00:00+00:00",
          "2015-06-01T00:00:00+00:00",
          "2015-06-08T00:00:00+00:00",
          "2015-06-15T00:00:00+00:00",
          "2015-06-22T00:00:00+00:00",
          "2015-06-29T00:00:00+00:00",
          "2015-07-06T00:00:00+00:00",
          "2015-07-13T00:00:00+00:00",
          "2015-07-20T00:00:00+00:00",
          "2015-07-27T00:00:00+00:00",
          "2015-08-03T00:00:00+00:00",
          "2015-08-10T00:00:00+00:00",
          "2015-08-17T00:00:00+00:00",
          "2015-08-24T00:00:00+00:00",
          "2015-08-31T00:00:00+00:00",
          "2015-09-07T00:00:00+00:00",
          "2015-09-14T00:00:00+00:00",
          "2015-09-21T00:00:00+00:00",
          "2015-09-28T00:00:00+00:00",
          "2015-10-05T00:00:00+00:00",
          "2015-10-12T00:00:00+00:00",
          "2015-10-19T00:00:00+00:00",
          "2015-10-26T00:00:00+00:00",
          "2015-11-02T00:00:00+00:00",
          "2015-11-09T00:00:00+00:00",
          "2015-11-16T00:00:00+00:00",
          "2015-11-23T00:00:00+00:00",
          "2015-11-30T00:00:00+00:00",
          "2015-12-07T00:00:00+00:00",
          "2015-12-14T00:00:00+00:00",
          "2015-12-21T00:00:00+00:00",
          "2015-12-28T00:00:00+00:00",
          "2016-01-04T00:00:00+00:00",
          "2016-01-11T00:00:00+00:00",
          "2016-01-18T00:00:00+00:00",
          "2016-01-25T00:00:00+00:00",
          "2016-02-01T00:00:00+00:00",
          "2016-02-08T00:00:00+00:00",
          "2016-02-15T00:00:00+00:00",
          "2016-02-22T00:00:00+00:00",
          "2016-02-29T00:00:00+00:00",
          "2016-03-07T00:00:00+00:00",
          "2016-03-14T00:00:00+00:00",
          "2016-03-21T00:00:00+00:00",
          "2016-03-28T00:00:00+00:00",
          "2016-04-04T00:00:00+00:00",
          "2016-04-11T00:00:00+00:00",
          "2016-04-18T00:00:00+00:00",
          "2016-04-25T00:00:00+00:00",
          "2016-05-02T00:00:00+00:00",
          "2016-05-09T00:00:00+00:00",
          "2016-05-16T00:00:00+00:00",
          "2016-05-23T00:00:00+00:00",
          "2016-05-30T00:00:00+00:00",
          "2016-06-06T00:00:00+00:00",
          "2016-06-13T00:00:00+00:00",
          "2016-06-20T00:00:00+00:00",
          "2016-06-27T00:00:00+00:00",
          "2016-07-04T00:00:00+00:00",
          "2016-07-11T00:00:00+00:00",
          "2016-07-18T00:00:00+00:00",
          "2016-07-25T00:00:00+00:00",
          "2016-08-01T00:00:00+00:00",
          "2016-08-08T00:00:00+00:00",
          "2016-08-15T00:00:00+00:00",
          "2016-08-22T00:00:00+00:00",
          "2016-08-29T00:00:00+00:00",
          "2016-09-05T00:00:00+00:00",
          "2016-09-12T00:00:00+00:00",
          "2016-09-19T00:00:00+00:00",
          "2016-09-26T00:00:00+00:00",
          "2016-10-03T00:00:00+00:00",
          "2016-10-10T00:00:00+00:00",
          "2016-10-17T00:00:00+00:00",
          "2016-10-24T00:00:00+00:00",
          "2016-10-31T00:00:00+00:00",
          "2016-11-07T00:00:00+00:00",
          "2016-11-14T00:00:00+00:00",
          "2016-11-21T00:00:00+00:00",
          "2016-11-28T00:00:00+00:00",
          "2016-12-05T00:00:00+00:00",
          "2016-12-12T00:00:00+00:00",
          "2016-12-19T00:00:00+00:00",
          "2016-12-26T00:00:00+00:00",
          "2017-01-02T00:00:00+00:00",
          "2017-01-09T00:00:00+00:00",
          "2017-01-16T00:00:00+00:00",
          "2017-01-23T00:00:00+00:00",
          "2017-01-30T00:00:00+00:00",
          "2017-02-06T00:00:00+00:00",
          "2017-02-13T00:00:00+00:00",
          "2017-02-20T00:00:00+00:00",
          "2017-02-27T00:00:00+00:00",
          "2017-03-06T00:00:00+00:00",
          "2017-03-13T00:00:00+00:00",
          "2017-03-20T00:00:00+00:00",
          "2017-03-27T00:00:00+00:00",
          "2017-04-03T00:00:00+00:00",
          "2017-04-10T00:00:00+00:00",
          "2017-04-17T00:00:00+00:00",
          "2017-04-24T00:00:00+00:00",
          "2017-05-01T00:00:00+00:00",
          "2017-05-08T00:00:00+00:00",
          "2017-05-15T00:00:00+00:00",
          "2017-05-22T00:00:00+00:00",
          "2017-05-29T00:00:00+00:00",
          "2017-06-05T00:00:00+00:00",
          "2017-06-12T00:00:00+00:00",
          "2017-06-19T00:00:00+00:00",
          "2017-06-26T00:00:00+00:00",
          "2017-07-03T00:00:00+00:00",
          "2017-07-10T00:00:00+00:00",
          "2017-07-17T00:00:00+00:00",
          "2017-07-24T00:00:00+00:00",
          "2017-07-31T00:00:00+00:00",
          "2017-08-07T00:00:00+00:00",
          "2017-08-14T00:00:00+00:00",
          "2017-08-21T00:00:00+00:00",
          "2017-08-28T00:00:00+00:00",
          "2017-09-04T00:00:00+00:00",
          "2017-09-11T00:00:00+00:00",
          "2017-09-18T00:00:00+00:00",
          "2017-09-25T00:00:00+00:00",
          "2017-10-02T00:00:00+00:00",
          "2017-10-09T00:00:00+00:00",
          "2017-10-16T00:00:00+00:00",
          "2017-10-23T00:00:00+00:00",
          "2017-10-30T00:00:00+00:00",
          "2017-11-06T00:00:00+00:00",
          "2017-11-13T00:00:00+00:00",
          "2017-11-20T00:00:00+00:00",
          "2017-11-27T00:00:00+00:00",
          "2017-12-04T00:00:00+00:00",
          "2017-12-11T00:00:00+00:00",
          "2017-12-18T00:00:00+00:00",
          "2017-12-25T00:00:00+00:00",
          "2018-01-01T00:00:00+00:00",
          "2018-01-08T00:00:00+00:00",
          "2018-01-15T00:00:00+00:00",
          "2018-01-22T00:00:00+00:00",
          "2018-01-29T00:00:00+00:00",
          "2018-02-05T00:00:00+00:00",
          "2018-02-12T00:00:00+00:00",
          "2018-02-19T00:00:00+00:00",
          "2018-02-26T00:00:00+00:00",
          "2018-03-05T00:00:00+00:00",
          "2018-03-12T00:00:00+00:00",
          "2018-03-19T00:00:00+00:00",
          "2018-03-26T00:00:00+00:00",
          "2018-04-02T00:00:00+00:00",
          "2018-04-09T00:00:00+00:00",
          "2018-04-16T00:00:00+00:00",
          "2018-04-23T00:00:00+00:00",
          "2018-04-30T00:00:00+00:00",
          "2018-05-07T00:00:00+00:00",
          "2018-05-14T00:00:00+00:00",
          "2018-05-21T00:00:00+00:00",
          "2018-05-28T00:00:00+00:00",
          "2018-06-04T00:00:00+00:00",
          "2018-06-11T00:00:00+00:00",
          "2018-06-18T00:00:00+00:00",
          "2018-06-25T00:00:00+00:00",
          "2018-07-02T00:00:00+00:00",
          "2018-07-09T00:00:00+00:00",
          "2018-07-16T00:00:00+00:00",
          "2018-07-23T00:00:00+00:00",
          "2018-07-30T00:00:00+00:00",
          "2018-08-06T00:00:00+00:00",
          "2018-08-13T00:00:00+00:00",
          "2018-08-20T00:00:00+00:00",
          "2018-08-27T00:00:00+00:00",
          "2018-09-03T00:00:00+00:00",
          "2018-09-10T00:00:00+00:00",
          "2018-09-17T00:00:00+00:00",
          "2018-09-24T00:00:00+00:00",
          "2018-10-01T00:00:00+00:00",
          "2018-10-08T00:00:00+00:00",
          "2018-10-15T00:00:00+00:00",
          "2018-10-22T00:00:00+00:00",
          "2018-10-29T00:00:00+00:00",
          "2018-11-05T00:00:00+00:00",
          "2018-11-12T00:00:00+00:00",
          "2018-11-19T00:00:00+00:00",
          "2018-11-26T00:00:00+00:00",
          "2018-12-03T00:00:00+00:00",
          "2018-12-10T00:00:00+00:00",
          "2018-12-17T00:00:00+00:00",
          "2018-12-24T00:00:00+00:00",
          "2018-12-31T00:00:00+00:00",
          "2019-01-07T00:00:00+00:00",
          "2019-01-14T00:00:00+00:00",
          "2019-01-21T00:00:00+00:00",
          "2019-01-28T00:00:00+00:00",
          "2019-02-04T00:00:00+00:00",
          "2019-02-11T00:00:00+00:00",
          "2019-02-18T00:00:00+00:00",
          "2019-02-25T00:00:00+00:00",
          "2019-03-04T00:00:00+00:00",
          "2019-03-11T00:00:00+00:00",
          "2019-03-18T00:00:00+00:00",
          "2019-03-25T00:00:00+00:00",
          "2019-04-01T00:00:00+00:00",
          "2019-04-08T00:00:00+00:00",
          "2019-04-15T00:00:00+00:00",
          "2019-04-22T00:00:00+00:00",
          "2019-04-29T00:00:00+00:00",
          "2019-05-06T00:00:00+00:00",
          "2019-05-13T00:00:00+00:00",
          "2019-05-20T00:00:00+00:00",
          "2019-05-27T00:00:00+00:00",
          "2019-06-03T00:00:00+00:00",
          "2019-06-10T00:00:00+00:00",
          "2019-06-17T00:00:00+00:00",
          "2019-06-24T00:00:00+00:00",
          "2019-07-01T00:00:00+00:00",
          "2019-07-08T00:00:00+00:00",
          "2019-07-15T00:00:00+00:00",
          "2019-07-22T00:00:00+00:00",
          "2019-07-29T00:00:00+00:00",
          "2019-08-05T00:00:00+00:00",
          "2019-08-12T00:00:00+00:00",
          "2019-08-19T00:00:00+00:00",
          "2019-08-26T00:00:00+00:00",
          "2019-09-02T00:00:00+00:00",
          "2019-09-09T00:00:00+00:00",
          "2019-09-16T00:00:00+00:00",
          "2019-09-23T00:00:00+00:00",
          "2019-09-30T00:00:00+00:00",
          "2019-10-07T00:00:00+00:00",
          "2019-10-14T00:00:00+00:00",
          "2019-10-21T00:00:00+00:00",
          "2019-10-28T00:00:00+00:00",
          "2019-11-04T00:00:00+00:00",
          "2019-11-11T00:00:00+00:00",
          "2019-11-18T00:00:00+00:00",
          "2019-11-25T00:00:00+00:00",
          "2019-12-02T00:00:00+00:00",
          "2019-12-09T00:00:00+00:00",
          "2019-12-16T00:00:00+00:00",
          "2019-12-23T00:00:00+00:00",
          "2019-12-30T00:00:00+00:00",
          "2020-01-06T00:00:00+00:00",
          "2020-01-13T00:00:00+00:00",
          "2020-01-20T00:00:00+00:00",
          "2020-01-27T00:00:00+00:00",
          "2020-02-03T00:00:00+00:00",
          "2020-02-10T00:00:00+00:00",
          "2020-02-17T00:00:00+00:00",
          "2020-02-24T00:00:00+00:00",
          "2020-03-02T00:00:00+00:00",
          "2020-03-09T00:00:00+00:00",
          "2020-03-16T00:00:00+00:00",
          "2020-03-23T00:00:00+00:00",
          "2020-03-30T00:00:00+00:00",
          "2020-04-06T00:00:00+00:00",
          "2020-04-13T00:00:00+00:00",
          "2020-04-20T00:00:00+00:00",
          "2020-04-27T00:00:00+00:00",
          "2020-05-04T00:00:00+00:00",
          "2020-05-11T00:00:00+00:00",
          "2020-05-18T00:00:00+00:00",
          "2020-05-25T00:00:00+00:00",
          "2020-06-01T00:00:00+00:00",
          "2020-06-08T00:00:00+00:00",
          "2020-06-15T00:00:00+00:00",
          "2020-06-22T00:00:00+00:00",
          "2020-06-29T00:00:00+00:00",
          "2020-07-06T00:00:00+00:00",
          "2020-07-13T00:00:00+00:00",
          "2020-07-20T00:00:00+00:00",
          "2020-07-27T00:00:00+00:00",
          "2020-08-03T00:00:00+00:00",
          "2020-08-10T00:00:00+00:00",
          "2020-08-17T00:00:00+00:00",
          "2020-08-24T00:00:00+00:00",
          "2020-08-31T00:00:00+00:00",
          "2020-09-07T00:00:00+00:00",
          "2020-09-14T00:00:00+00:00"
         ],
         "y": [
          734.87,
          935.06,
          812.99,
          828.2,
          786.3,
          811.26,
          660,
          641.76,
          549.13,
          673,
          622.9,
          626.75,
          572.6,
          456.75,
          447.9,
          459,
          494.03,
          447.7,
          431,
          442.84,
          446.13,
          585.52,
          631.66,
          649.98,
          595.25,
          590.94,
          622,
          625.21,
          622.97,
          619.5,
          588.44,
          592.97,
          578.01,
          462.5,
          503.99,
          481.48,
          474.38,
          475.51,
          400.74,
          379.89,
          333.99,
          380.49,
          383.5,
          355.99,
          327,
          375.76,
          383.14,
          385.23,
          378.17,
          366.99,
          351.97,
          332.09,
          313.99,
          291.1,
          271.01,
          212.34,
          270.02,
          225.9,
          220.06,
          236.78,
          236.99,
          263.99,
          284,
          290.98,
          265.8,
          245.24,
          256.16,
          225.58,
          224.5,
          222.48,
          236.18,
          243.85,
          235.95,
          236.35,
          221.98,
          227.8,
          236.65,
          246.48,
          254.17,
          272.32,
          289.05,
          277.87,
          292.02,
          284.13,
          264.34,
          257.01,
          213.7,
          231.29,
          240.31,
          231.11,
          227.06,
          238.6,
          239.48,
          246.18,
          263.68,
          285.48,
          342.52,
          377.64,
          330.09,
          324.6,
          373,
          396.32,
          445.39,
          438.99,
          423.87,
          433.52,
          447.71,
          385.96,
          387.98,
          373.34,
          375,
          401.05,
          438.45,
          435.1,
          411.32,
          413.04,
          410.99,
          422.25,
          418.94,
          421.1,
          427.18,
          463,
          443.11,
          463.84,
          457.22,
          442.7,
          531.81,
          584,
          690.17,
          740,
          636.95,
          668.55,
          648.47,
          673.98,
          655.82,
          612.99,
          591,
          562.59,
          583.4,
          574.2,
          603.93,
          605.9,
          607.94,
          603.3,
          610.3,
          614.67,
          634.9,
          649.14,
          704.92,
          705.49,
          698.45,
          737.03,
          731.2,
          750.31,
          777.1,
          789.66,
          899.88,
          1022,
          888.52,
          828.47,
          919.43,
          919.49,
          1019.01,
          997.3,
          1060.42,
          1190.33,
          1275,
          1238,
          1047.51,
          1024.99,
          1130.69,
          1209.86,
          1179,
          1250,
          1407.04,
          1582,
          1720,
          2208.23,
          2297.99,
          2624.48,
          2588.12,
          2584.96,
          2370,
          2539,
          2403.01,
          2131.78,
          2730.72,
          2797.5,
          3345.99,
          4275.5,
          3994.99,
          4332.48,
          4160,
          4229,
          4028.76,
          3921.38,
          4378.33,
          4685.95,
          5679.33,
          5817.35,
          6129.05,
          7055.55,
          6369.24,
          8198.24,
          9550,
          11185.32,
          16324.98,
          18469.93,
          14016.82,
          13219.34,
          15092.48,
          14004.25,
          10643.21,
          11190.78,
          6976.92,
          8650.45,
          11045,
          10233.82,
          11511,
          9220.48,
          8377.41,
          7901.08,
          6961.5,
          6745.45,
          8029.86,
          8911.61,
          9343.45,
          9355.97,
          8750.97,
          8363.16,
          7244.1,
          7484.8,
          6710,
          6733.99,
          6287.01,
          6614.46,
          6694.66,
          6693.13,
          7785.04,
          7919.45,
          6908.06,
          6229.35,
          6475.04,
          6729.66,
          7270.26,
          6264.3,
          6309.45,
          6641.58,
          6575.35,
          6610.35,
          6401.48,
          6394.42,
          6262,
          6388.8,
          6333.32,
          5001.46,
          3745.96,
          3835.68,
          3423.43,
          3446.35,
          4070.46,
          3750.64,
          4025.19,
          3687.69,
          3535.42,
          3419.79,
          3417.22,
          3591.5,
          3885.33,
          3844.16,
          3706.42,
          3854.38,
          3964.36,
          3928.54,
          4131.78,
          5220.17,
          5042.37,
          5370.63,
          5135.72,
          5705.77,
          7878.63,
          7785.63,
          8752.55,
          8525.23,
          7952.35,
          9249.16,
          11010.64,
          10250,
          11871.69,
          10783,
          10255.06,
          9466.42,
          11814.22,
          11371.31,
          10715.87,
          10296.99,
          10160,
          10254.1,
          10126.08,
          9801.35,
          8304.95,
          8266.88,
          8354.41,
          8179.93,
          9477.32,
          9300.31,
          8734.23,
          8127.76,
          7265.43,
          7271.75,
          7444.35,
          6964.01,
          7426.87,
          7234.61,
          7536.73,
          8093.11,
          8650.02,
          8757.12,
          9248.22,
          9837.18,
          9611.35,
          9520.74,
          8886.3,
          7752.69,
          5069.11,
          6314.7,
          6358.58,
          7213.6,
          6794.81,
          6866.16,
          7687.19,
          8849.92,
          8500,
          9613.23,
          8884.35,
          9567.4,
          9731.09,
          9379.61,
          9582.25,
          9148.88,
          9302.51,
          9283.19,
          9185.79,
          10830.45,
          11405,
          11888,
          12358.5,
          11720.21,
          11730.13,
          10200
         ]
        },
        {
         "mode": "lines",
         "name": "Weighted Avg",
         "type": "scatter",
         "x": [
          "2014-01-06T00:00:00+00:00",
          "2014-01-13T00:00:00+00:00",
          "2014-01-20T00:00:00+00:00",
          "2014-01-27T00:00:00+00:00",
          "2014-02-03T00:00:00+00:00",
          "2014-02-10T00:00:00+00:00",
          "2014-02-17T00:00:00+00:00",
          "2014-02-24T00:00:00+00:00",
          "2014-03-03T00:00:00+00:00",
          "2014-03-10T00:00:00+00:00",
          "2014-03-17T00:00:00+00:00",
          "2014-03-24T00:00:00+00:00",
          "2014-03-31T00:00:00+00:00",
          "2014-04-07T00:00:00+00:00",
          "2014-04-14T00:00:00+00:00",
          "2014-04-21T00:00:00+00:00",
          "2014-04-28T00:00:00+00:00",
          "2014-05-05T00:00:00+00:00",
          "2014-05-12T00:00:00+00:00",
          "2014-05-19T00:00:00+00:00",
          "2014-05-26T00:00:00+00:00",
          "2014-06-02T00:00:00+00:00",
          "2014-06-09T00:00:00+00:00",
          "2014-06-16T00:00:00+00:00",
          "2014-06-23T00:00:00+00:00",
          "2014-06-30T00:00:00+00:00",
          "2014-07-07T00:00:00+00:00",
          "2014-07-14T00:00:00+00:00",
          "2014-07-21T00:00:00+00:00",
          "2014-07-28T00:00:00+00:00",
          "2014-08-04T00:00:00+00:00",
          "2014-08-11T00:00:00+00:00",
          "2014-08-18T00:00:00+00:00",
          "2014-08-25T00:00:00+00:00",
          "2014-09-01T00:00:00+00:00",
          "2014-09-08T00:00:00+00:00",
          "2014-09-15T00:00:00+00:00",
          "2014-09-22T00:00:00+00:00",
          "2014-09-29T00:00:00+00:00",
          "2014-10-06T00:00:00+00:00",
          "2014-10-13T00:00:00+00:00",
          "2014-10-20T00:00:00+00:00",
          "2014-10-27T00:00:00+00:00",
          "2014-11-03T00:00:00+00:00",
          "2014-11-10T00:00:00+00:00",
          "2014-11-17T00:00:00+00:00",
          "2014-11-24T00:00:00+00:00",
          "2014-12-01T00:00:00+00:00",
          "2014-12-08T00:00:00+00:00",
          "2014-12-15T00:00:00+00:00",
          "2014-12-22T00:00:00+00:00",
          "2014-12-29T00:00:00+00:00",
          "2015-01-05T00:00:00+00:00",
          "2015-01-12T00:00:00+00:00",
          "2015-01-19T00:00:00+00:00",
          "2015-01-26T00:00:00+00:00",
          "2015-02-02T00:00:00+00:00",
          "2015-02-09T00:00:00+00:00",
          "2015-02-16T00:00:00+00:00",
          "2015-02-23T00:00:00+00:00",
          "2015-03-02T00:00:00+00:00",
          "2015-03-09T00:00:00+00:00",
          "2015-03-16T00:00:00+00:00",
          "2015-03-23T00:00:00+00:00",
          "2015-03-30T00:00:00+00:00",
          "2015-04-06T00:00:00+00:00",
          "2015-04-13T00:00:00+00:00",
          "2015-04-20T00:00:00+00:00",
          "2015-04-27T00:00:00+00:00",
          "2015-05-04T00:00:00+00:00",
          "2015-05-11T00:00:00+00:00",
          "2015-05-18T00:00:00+00:00",
          "2015-05-25T00:00:00+00:00",
          "2015-06-01T00:00:00+00:00",
          "2015-06-08T00:00:00+00:00",
          "2015-06-15T00:00:00+00:00",
          "2015-06-22T00:00:00+00:00",
          "2015-06-29T00:00:00+00:00",
          "2015-07-06T00:00:00+00:00",
          "2015-07-13T00:00:00+00:00",
          "2015-07-20T00:00:00+00:00",
          "2015-07-27T00:00:00+00:00",
          "2015-08-03T00:00:00+00:00",
          "2015-08-10T00:00:00+00:00",
          "2015-08-17T00:00:00+00:00",
          "2015-08-24T00:00:00+00:00",
          "2015-08-31T00:00:00+00:00",
          "2015-09-07T00:00:00+00:00",
          "2015-09-14T00:00:00+00:00",
          "2015-09-21T00:00:00+00:00",
          "2015-09-28T00:00:00+00:00",
          "2015-10-05T00:00:00+00:00",
          "2015-10-12T00:00:00+00:00",
          "2015-10-19T00:00:00+00:00",
          "2015-10-26T00:00:00+00:00",
          "2015-11-02T00:00:00+00:00",
          "2015-11-09T00:00:00+00:00",
          "2015-11-16T00:00:00+00:00",
          "2015-11-23T00:00:00+00:00",
          "2015-11-30T00:00:00+00:00",
          "2015-12-07T00:00:00+00:00",
          "2015-12-14T00:00:00+00:00",
          "2015-12-21T00:00:00+00:00",
          "2015-12-28T00:00:00+00:00",
          "2016-01-04T00:00:00+00:00",
          "2016-01-11T00:00:00+00:00",
          "2016-01-18T00:00:00+00:00",
          "2016-01-25T00:00:00+00:00",
          "2016-02-01T00:00:00+00:00",
          "2016-02-08T00:00:00+00:00",
          "2016-02-15T00:00:00+00:00",
          "2016-02-22T00:00:00+00:00",
          "2016-02-29T00:00:00+00:00",
          "2016-03-07T00:00:00+00:00",
          "2016-03-14T00:00:00+00:00",
          "2016-03-21T00:00:00+00:00",
          "2016-03-28T00:00:00+00:00",
          "2016-04-04T00:00:00+00:00",
          "2016-04-11T00:00:00+00:00",
          "2016-04-18T00:00:00+00:00",
          "2016-04-25T00:00:00+00:00",
          "2016-05-02T00:00:00+00:00",
          "2016-05-09T00:00:00+00:00",
          "2016-05-16T00:00:00+00:00",
          "2016-05-23T00:00:00+00:00",
          "2016-05-30T00:00:00+00:00",
          "2016-06-06T00:00:00+00:00",
          "2016-06-13T00:00:00+00:00",
          "2016-06-20T00:00:00+00:00",
          "2016-06-27T00:00:00+00:00",
          "2016-07-04T00:00:00+00:00",
          "2016-07-11T00:00:00+00:00",
          "2016-07-18T00:00:00+00:00",
          "2016-07-25T00:00:00+00:00",
          "2016-08-01T00:00:00+00:00",
          "2016-08-08T00:00:00+00:00",
          "2016-08-15T00:00:00+00:00",
          "2016-08-22T00:00:00+00:00",
          "2016-08-29T00:00:00+00:00",
          "2016-09-05T00:00:00+00:00",
          "2016-09-12T00:00:00+00:00",
          "2016-09-19T00:00:00+00:00",
          "2016-09-26T00:00:00+00:00",
          "2016-10-03T00:00:00+00:00",
          "2016-10-10T00:00:00+00:00",
          "2016-10-17T00:00:00+00:00",
          "2016-10-24T00:00:00+00:00",
          "2016-10-31T00:00:00+00:00",
          "2016-11-07T00:00:00+00:00",
          "2016-11-14T00:00:00+00:00",
          "2016-11-21T00:00:00+00:00",
          "2016-11-28T00:00:00+00:00",
          "2016-12-05T00:00:00+00:00",
          "2016-12-12T00:00:00+00:00",
          "2016-12-19T00:00:00+00:00",
          "2016-12-26T00:00:00+00:00",
          "2017-01-02T00:00:00+00:00",
          "2017-01-09T00:00:00+00:00",
          "2017-01-16T00:00:00+00:00",
          "2017-01-23T00:00:00+00:00",
          "2017-01-30T00:00:00+00:00",
          "2017-02-06T00:00:00+00:00",
          "2017-02-13T00:00:00+00:00",
          "2017-02-20T00:00:00+00:00",
          "2017-02-27T00:00:00+00:00",
          "2017-03-06T00:00:00+00:00",
          "2017-03-13T00:00:00+00:00",
          "2017-03-20T00:00:00+00:00",
          "2017-03-27T00:00:00+00:00",
          "2017-04-03T00:00:00+00:00",
          "2017-04-10T00:00:00+00:00",
          "2017-04-17T00:00:00+00:00",
          "2017-04-24T00:00:00+00:00",
          "2017-05-01T00:00:00+00:00",
          "2017-05-08T00:00:00+00:00",
          "2017-05-15T00:00:00+00:00",
          "2017-05-22T00:00:00+00:00",
          "2017-05-29T00:00:00+00:00",
          "2017-06-05T00:00:00+00:00",
          "2017-06-12T00:00:00+00:00",
          "2017-06-19T00:00:00+00:00",
          "2017-06-26T00:00:00+00:00",
          "2017-07-03T00:00:00+00:00",
          "2017-07-10T00:00:00+00:00",
          "2017-07-17T00:00:00+00:00",
          "2017-07-24T00:00:00+00:00",
          "2017-07-31T00:00:00+00:00",
          "2017-08-07T00:00:00+00:00",
          "2017-08-14T00:00:00+00:00",
          "2017-08-21T00:00:00+00:00",
          "2017-08-28T00:00:00+00:00",
          "2017-09-04T00:00:00+00:00",
          "2017-09-11T00:00:00+00:00",
          "2017-09-18T00:00:00+00:00",
          "2017-09-25T00:00:00+00:00",
          "2017-10-02T00:00:00+00:00",
          "2017-10-09T00:00:00+00:00",
          "2017-10-16T00:00:00+00:00",
          "2017-10-23T00:00:00+00:00",
          "2017-10-30T00:00:00+00:00",
          "2017-11-06T00:00:00+00:00",
          "2017-11-13T00:00:00+00:00",
          "2017-11-20T00:00:00+00:00",
          "2017-11-27T00:00:00+00:00",
          "2017-12-04T00:00:00+00:00",
          "2017-12-11T00:00:00+00:00",
          "2017-12-18T00:00:00+00:00",
          "2017-12-25T00:00:00+00:00",
          "2018-01-01T00:00:00+00:00",
          "2018-01-08T00:00:00+00:00",
          "2018-01-15T00:00:00+00:00",
          "2018-01-22T00:00:00+00:00",
          "2018-01-29T00:00:00+00:00",
          "2018-02-05T00:00:00+00:00",
          "2018-02-12T00:00:00+00:00",
          "2018-02-19T00:00:00+00:00",
          "2018-02-26T00:00:00+00:00",
          "2018-03-05T00:00:00+00:00",
          "2018-03-12T00:00:00+00:00",
          "2018-03-19T00:00:00+00:00",
          "2018-03-26T00:00:00+00:00",
          "2018-04-02T00:00:00+00:00",
          "2018-04-09T00:00:00+00:00",
          "2018-04-16T00:00:00+00:00",
          "2018-04-23T00:00:00+00:00",
          "2018-04-30T00:00:00+00:00",
          "2018-05-07T00:00:00+00:00",
          "2018-05-14T00:00:00+00:00",
          "2018-05-21T00:00:00+00:00",
          "2018-05-28T00:00:00+00:00",
          "2018-06-04T00:00:00+00:00",
          "2018-06-11T00:00:00+00:00",
          "2018-06-18T00:00:00+00:00",
          "2018-06-25T00:00:00+00:00",
          "2018-07-02T00:00:00+00:00",
          "2018-07-09T00:00:00+00:00",
          "2018-07-16T00:00:00+00:00",
          "2018-07-23T00:00:00+00:00",
          "2018-07-30T00:00:00+00:00",
          "2018-08-06T00:00:00+00:00",
          "2018-08-13T00:00:00+00:00",
          "2018-08-20T00:00:00+00:00",
          "2018-08-27T00:00:00+00:00",
          "2018-09-03T00:00:00+00:00",
          "2018-09-10T00:00:00+00:00",
          "2018-09-17T00:00:00+00:00",
          "2018-09-24T00:00:00+00:00",
          "2018-10-01T00:00:00+00:00",
          "2018-10-08T00:00:00+00:00",
          "2018-10-15T00:00:00+00:00",
          "2018-10-22T00:00:00+00:00",
          "2018-10-29T00:00:00+00:00",
          "2018-11-05T00:00:00+00:00",
          "2018-11-12T00:00:00+00:00",
          "2018-11-19T00:00:00+00:00",
          "2018-11-26T00:00:00+00:00",
          "2018-12-03T00:00:00+00:00",
          "2018-12-10T00:00:00+00:00",
          "2018-12-17T00:00:00+00:00",
          "2018-12-24T00:00:00+00:00",
          "2018-12-31T00:00:00+00:00",
          "2019-01-07T00:00:00+00:00",
          "2019-01-14T00:00:00+00:00",
          "2019-01-21T00:00:00+00:00",
          "2019-01-28T00:00:00+00:00",
          "2019-02-04T00:00:00+00:00",
          "2019-02-11T00:00:00+00:00",
          "2019-02-18T00:00:00+00:00",
          "2019-02-25T00:00:00+00:00",
          "2019-03-04T00:00:00+00:00",
          "2019-03-11T00:00:00+00:00",
          "2019-03-18T00:00:00+00:00",
          "2019-03-25T00:00:00+00:00",
          "2019-04-01T00:00:00+00:00",
          "2019-04-08T00:00:00+00:00",
          "2019-04-15T00:00:00+00:00",
          "2019-04-22T00:00:00+00:00",
          "2019-04-29T00:00:00+00:00",
          "2019-05-06T00:00:00+00:00",
          "2019-05-13T00:00:00+00:00",
          "2019-05-20T00:00:00+00:00",
          "2019-05-27T00:00:00+00:00",
          "2019-06-03T00:00:00+00:00",
          "2019-06-10T00:00:00+00:00",
          "2019-06-17T00:00:00+00:00",
          "2019-06-24T00:00:00+00:00",
          "2019-07-01T00:00:00+00:00",
          "2019-07-08T00:00:00+00:00",
          "2019-07-15T00:00:00+00:00",
          "2019-07-22T00:00:00+00:00",
          "2019-07-29T00:00:00+00:00",
          "2019-08-05T00:00:00+00:00",
          "2019-08-12T00:00:00+00:00",
          "2019-08-19T00:00:00+00:00",
          "2019-08-26T00:00:00+00:00",
          "2019-09-02T00:00:00+00:00",
          "2019-09-09T00:00:00+00:00",
          "2019-09-16T00:00:00+00:00",
          "2019-09-23T00:00:00+00:00",
          "2019-09-30T00:00:00+00:00",
          "2019-10-07T00:00:00+00:00",
          "2019-10-14T00:00:00+00:00",
          "2019-10-21T00:00:00+00:00",
          "2019-10-28T00:00:00+00:00",
          "2019-11-04T00:00:00+00:00",
          "2019-11-11T00:00:00+00:00",
          "2019-11-18T00:00:00+00:00",
          "2019-11-25T00:00:00+00:00",
          "2019-12-02T00:00:00+00:00",
          "2019-12-09T00:00:00+00:00",
          "2019-12-16T00:00:00+00:00",
          "2019-12-23T00:00:00+00:00",
          "2019-12-30T00:00:00+00:00",
          "2020-01-06T00:00:00+00:00",
          "2020-01-13T00:00:00+00:00",
          "2020-01-20T00:00:00+00:00",
          "2020-01-27T00:00:00+00:00",
          "2020-02-03T00:00:00+00:00",
          "2020-02-10T00:00:00+00:00",
          "2020-02-17T00:00:00+00:00",
          "2020-02-24T00:00:00+00:00",
          "2020-03-02T00:00:00+00:00",
          "2020-03-09T00:00:00+00:00",
          "2020-03-16T00:00:00+00:00",
          "2020-03-23T00:00:00+00:00",
          "2020-03-30T00:00:00+00:00",
          "2020-04-06T00:00:00+00:00",
          "2020-04-13T00:00:00+00:00",
          "2020-04-20T00:00:00+00:00",
          "2020-04-27T00:00:00+00:00",
          "2020-05-04T00:00:00+00:00",
          "2020-05-11T00:00:00+00:00",
          "2020-05-18T00:00:00+00:00",
          "2020-05-25T00:00:00+00:00",
          "2020-06-01T00:00:00+00:00",
          "2020-06-08T00:00:00+00:00",
          "2020-06-15T00:00:00+00:00",
          "2020-06-22T00:00:00+00:00",
          "2020-06-29T00:00:00+00:00",
          "2020-07-06T00:00:00+00:00",
          "2020-07-13T00:00:00+00:00",
          "2020-07-20T00:00:00+00:00",
          "2020-07-27T00:00:00+00:00",
          "2020-08-03T00:00:00+00:00",
          "2020-08-10T00:00:00+00:00",
          "2020-08-17T00:00:00+00:00",
          "2020-08-24T00:00:00+00:00",
          "2020-08-31T00:00:00+00:00",
          "2020-09-07T00:00:00+00:00",
          "2020-09-14T00:00:00+00:00"
         ],
         "y": [
          734.86967854,
          0,
          812.90189573,
          828.2,
          786.47078211,
          811.36535519,
          661.09862405,
          641.89006334,
          549.23112727,
          672.85427825,
          622.9,
          626.74852125,
          573.82597654,
          458.18649963,
          447.9,
          457.88352669,
          494.03515266,
          446.91634505,
          0,
          0,
          446.02853394,
          585.52,
          632.93865204,
          649.90443899,
          595.25,
          588.24415179,
          621.85091176,
          624.92855647,
          622.97,
          619.5,
          588.44,
          592.97774208,
          578.86128368,
          463.13121519,
          503.99,
          481.47916026,
          474.38,
          475.52145861,
          400.74448006,
          380.10698657,
          333.99,
          380.49,
          383.60197276,
          354.94575776,
          327.08181903,
          374.80483675,
          382.64396714,
          385.26954171,
          378.17,
          366.99148392,
          351.9600724,
          332.97787624,
          313.90012512,
          287.20942631,
          271.62836505,
          212.32460287,
          270.07706165,
          225.89857594,
          220.03176186,
          236.7150491,
          236.99052191,
          0,
          285.14025421,
          290.89905018,
          264.95370852,
          245.23030241,
          0,
          226.10804767,
          0,
          222.46372847,
          236.23079040000002,
          0,
          235.95010702,
          236.21263235,
          221.94515384,
          227.96963424,
          236.66330495,
          246.49162863,
          254.1591821,
          272.31244942,
          289.05,
          277.87,
          292.16252407,
          0,
          0,
          257.01481433,
          213.60849266,
          0,
          240.08917794,
          231.07307424,
          0,
          238.6,
          239.47325311,
          246.18,
          263.68609092,
          285.24658442,
          342.47328519,
          377.76088401,
          330.09,
          0,
          373,
          396.32,
          445.36830717,
          0,
          423.74787232,
          433.52,
          447.70841609,
          385.92016856,
          387.74445311,
          373.34,
          375,
          400.38783251,
          438.45,
          435.08467477,
          411.53662605,
          0,
          410.41507,
          422.25,
          418.94,
          0,
          427.17080786,
          463,
          0,
          463.88140360000006,
          0,
          442.70860229,
          531.80637724,
          584.0009464999999,
          691.21421053,
          739.73255733,
          636.96689493,
          668.39851871,
          0,
          0,
          0,
          613.43759191,
          590.98983616,
          0,
          0,
          574.09375919,
          0,
          604.71373183,
          607.94,
          604.12823351,
          610.57319641,
          614.61217392,
          0,
          649.15919056,
          704.95478452,
          0,
          698.45,
          736.77987494,
          0,
          750.06602605,
          0,
          790.59571128,
          899.88,
          1022,
          888.52,
          828.46082548,
          919.43,
          0,
          1018.5594811000001,
          997.3,
          1060.7922583,
          1190.33,
          0,
          1238,
          0,
          1024.9837644,
          1130.7237,
          1209.859059,
          1178.9979114,
          1249.9647897,
          1403.953043,
          1583.8268194,
          1719.9981581,
          2206.9661348,
          2300.58139,
          2624.4112010000003,
          2572.6534863,
          2584.0913489,
          2365.4766105,
          2539.6576875,
          2402.5007464,
          2131.5316377,
          2728.1367921,
          2795.9185540999997,
          3345.8840434999997,
          4280.4262067,
          3991.1966851999996,
          4332.48,
          4148.7966261,
          4227.8398816,
          4022.9885780999994,
          3918.6799211999996,
          4378.33,
          4687.270385899999,
          5679.1709696,
          5817.5604236,
          6126.2099892,
          7057.1608741,
          6347.4737115,
          8200.0576248,
          9549.999688400001,
          11191.546554,
          16323.17181,
          18458.995165,
          14041.606616,
          13257.485323,
          15081.304147,
          13984.682181999999,
          10660.506157,
          11197.216468,
          6953.5385715,
          8654.630916,
          11045.137231,
          10233.615484,
          11510.895816,
          9227.849455,
          8380.2723107,
          7894.9539263,
          6967.0551368,
          6741.594748899999,
          8026.5279977,
          8908.571455500001,
          9349.2177711,
          9355.977635,
          8746.916997700002,
          8350.6067866,
          7240.1445373999995,
          7481.691393699999,
          6708.4190493999995,
          6741.2131148,
          6281.8723346,
          6614.356769399999,
          6696.0245049,
          6691.9407863999995,
          7789.7334992,
          7921.5754782,
          6906.8599248,
          6222.3010011999995,
          6472.467439999999,
          6727.307125599999,
          7270.591337299999,
          6264.3174415,
          6309.45,
          6641.406001199999,
          6575.3495648,
          6610.3583133,
          6401.906755100001,
          6394.5146513,
          6262,
          6388.8,
          6333.3124622000005,
          5001.8353132,
          3742.0904539000003,
          3834.0459099,
          3423.7957621,
          3443.2546345,
          4070.1737493,
          3750.64,
          4020.2945296999997,
          3686.992486,
          3531.0869205,
          3421.3595308,
          3417.1988019,
          3591.5,
          3887.7332305,
          3843.0476608999998,
          3706.1903828,
          3854.38,
          3964.4549026999994,
          3929.2370196999996,
          4131.7705549,
          5218.8364836,
          5042.6190353,
          5371.059950399999,
          5138.3256455,
          5709.162307500001,
          7888.7785865999995,
          7789.434721199999,
          8761.2685636,
          8519.463554,
          7955.029920999999,
          9249.1595775,
          11018.243969,
          10242.172594,
          11869.788551,
          10777.321637000001,
          10263.980465999999,
          9477.813401700001,
          11814.604164,
          11370.369777,
          10713.198597,
          10296.463673,
          10161.072462,
          10258.697723000001,
          10126.193301000001,
          9810.1772706,
          8309.0983007,
          8267.741147300001,
          8352.785133,
          8183.514317800001,
          9495.5304748,
          9296.5560001,
          8732.1403981,
          8137.3435566,
          7264.034525399999,
          7271.417717899999,
          7445.4685856999995,
          6994.1442087,
          7428.621235,
          7233.864362199999,
          7542.8671362000005,
          8089.1595558,
          8650.1214259,
          8762.3934847,
          9250.438143700001,
          9843.260814899999,
          9606.8430105,
          9528.2082496,
          8889.506577299999,
          7757.1109153,
          5072.328717,
          6310.78508,
          6353.3387,
          7206.896592199999,
          6788.3751905,
          6864.9187325,
          7689.872773800001,
          8842.9762116,
          8503.729267899998,
          9616.655644700002,
          8890.0822677,
          9567.4,
          9730.445939700001,
          9389.359035899999,
          9582.2408325,
          9148.88,
          9302.5046994,
          9283.19,
          9186.294645200001,
          10805.154923,
          11404.683213,
          11892.296693,
          12350.647549,
          11719.191401,
          11730.13,
          10195.897418
         ]
        }
       ],
       "layout": {
        "template": {
         "data": {
          "bar": [
           {
            "error_x": {
             "color": "#2a3f5f"
            },
            "error_y": {
             "color": "#2a3f5f"
            },
            "marker": {
             "line": {
              "color": "#E5ECF6",
              "width": 0.5
             }
            },
            "type": "bar"
           }
          ],
          "barpolar": [
           {
            "marker": {
             "line": {
              "color": "#E5ECF6",
              "width": 0.5
             }
            },
            "type": "barpolar"
           }
          ],
          "carpet": [
           {
            "aaxis": {
             "endlinecolor": "#2a3f5f",
             "gridcolor": "white",
             "linecolor": "white",
             "minorgridcolor": "white",
             "startlinecolor": "#2a3f5f"
            },
            "baxis": {
             "endlinecolor": "#2a3f5f",
             "gridcolor": "white",
             "linecolor": "white",
             "minorgridcolor": "white",
             "startlinecolor": "#2a3f5f"
            },
            "type": "carpet"
           }
          ],
          "choropleth": [
           {
            "colorbar": {
             "outlinewidth": 0,
             "ticks": ""
            },
            "type": "choropleth"
           }
          ],
          "contour": [
           {
            "colorbar": {
             "outlinewidth": 0,
             "ticks": ""
            },
            "colorscale": [
             [
              0,
              "#0d0887"
             ],
             [
              0.1111111111111111,
              "#46039f"
             ],
             [
              0.2222222222222222,
              "#7201a8"
             ],
             [
              0.3333333333333333,
              "#9c179e"
             ],
             [
              0.4444444444444444,
              "#bd3786"
             ],
             [
              0.5555555555555556,
              "#d8576b"
             ],
             [
              0.6666666666666666,
              "#ed7953"
             ],
             [
              0.7777777777777778,
              "#fb9f3a"
             ],
             [
              0.8888888888888888,
              "#fdca26"
             ],
             [
              1,
              "#f0f921"
             ]
            ],
            "type": "contour"
           }
          ],
          "contourcarpet": [
           {
            "colorbar": {
             "outlinewidth": 0,
             "ticks": ""
            },
            "type": "contourcarpet"
           }
          ],
          "heatmap": [
           {
            "colorbar": {
             "outlinewidth": 0,
             "ticks": ""
            },
            "colorscale": [
             [
              0,
              "#0d0887"
             ],
             [
              0.1111111111111111,
              "#46039f"
             ],
             [
              0.2222222222222222,
              "#7201a8"
             ],
             [
              0.3333333333333333,
              "#9c179e"
             ],
             [
              0.4444444444444444,
              "#bd3786"
             ],
             [
              0.5555555555555556,
              "#d8576b"
             ],
             [
              0.6666666666666666,
              "#ed7953"
             ],
             [
              0.7777777777777778,
              "#fb9f3a"
             ],
             [
              0.8888888888888888,
              "#fdca26"
             ],
             [
              1,
              "#f0f921"
             ]
            ],
            "type": "heatmap"
           }
          ],
          "heatmapgl": [
           {
            "colorbar": {
             "outlinewidth": 0,
             "ticks": ""
            },
            "colorscale": [
             [
              0,
              "#0d0887"
             ],
             [
              0.1111111111111111,
              "#46039f"
             ],
             [
              0.2222222222222222,
              "#7201a8"
             ],
             [
              0.3333333333333333,
              "#9c179e"
             ],
             [
              0.4444444444444444,
              "#bd3786"
             ],
             [
              0.5555555555555556,
              "#d8576b"
             ],
             [
              0.6666666666666666,
              "#ed7953"
             ],
             [
              0.7777777777777778,
              "#fb9f3a"
             ],
             [
              0.8888888888888888,
              "#fdca26"
             ],
             [
              1,
              "#f0f921"
             ]
            ],
            "type": "heatmapgl"
           }
          ],
          "histogram": [
           {
            "marker": {
             "colorbar": {
              "outlinewidth": 0,
              "ticks": ""
             }
            },
            "type": "histogram"
           }
          ],
          "histogram2d": [
           {
            "colorbar": {
             "outlinewidth": 0,
             "ticks": ""
            },
            "colorscale": [
             [
              0,
              "#0d0887"
             ],
             [
              0.1111111111111111,
              "#46039f"
             ],
             [
              0.2222222222222222,
              "#7201a8"
             ],
             [
              0.3333333333333333,
              "#9c179e"
             ],
             [
              0.4444444444444444,
              "#bd3786"
             ],
             [
              0.5555555555555556,
              "#d8576b"
             ],
             [
              0.6666666666666666,
              "#ed7953"
             ],
             [
              0.7777777777777778,
              "#fb9f3a"
             ],
             [
              0.8888888888888888,
              "#fdca26"
             ],
             [
              1,
              "#f0f921"
             ]
            ],
            "type": "histogram2d"
           }
          ],
          "histogram2dcontour": [
           {
            "colorbar": {
             "outlinewidth": 0,
             "ticks": ""
            },
            "colorscale": [
             [
              0,
              "#0d0887"
             ],
             [
              0.1111111111111111,
              "#46039f"
             ],
             [
              0.2222222222222222,
              "#7201a8"
             ],
             [
              0.3333333333333333,
              "#9c179e"
             ],
             [
              0.4444444444444444,
              "#bd3786"
             ],
             [
              0.5555555555555556,
              "#d8576b"
             ],
             [
              0.6666666666666666,
              "#ed7953"
             ],
             [
              0.7777777777777778,
              "#fb9f3a"
             ],
             [
              0.8888888888888888,
              "#fdca26"
             ],
             [
              1,
              "#f0f921"
             ]
            ],
            "type": "histogram2dcontour"
           }
          ],
          "mesh3d": [
           {
            "colorbar": {
             "outlinewidth": 0,
             "ticks": ""
            },
            "type": "mesh3d"
           }
          ],
          "parcoords": [
           {
            "line": {
             "colorbar": {
              "outlinewidth": 0,
              "ticks": ""
             }
            },
            "type": "parcoords"
           }
          ],
          "pie": [
           {
            "automargin": true,
            "type": "pie"
           }
          ],
          "scatter": [
           {
            "marker": {
             "colorbar": {
              "outlinewidth": 0,
              "ticks": ""
             }
            },
            "type": "scatter"
           }
          ],
          "scatter3d": [
           {
            "line": {
             "colorbar": {
              "outlinewidth": 0,
              "ticks": ""
             }
            },
            "marker": {
             "colorbar": {
              "outlinewidth": 0,
              "ticks": ""
             }
            },
            "type": "scatter3d"
           }
          ],
          "scattercarpet": [
           {
            "marker": {
             "colorbar": {
              "outlinewidth": 0,
              "ticks": ""
             }
            },
            "type": "scattercarpet"
           }
          ],
          "scattergeo": [
           {
            "marker": {
             "colorbar": {
              "outlinewidth": 0,
              "ticks": ""
             }
            },
            "type": "scattergeo"
           }
          ],
          "scattergl": [
           {
            "marker": {
             "colorbar": {
              "outlinewidth": 0,
              "ticks": ""
             }
            },
            "type": "scattergl"
           }
          ],
          "scattermapbox": [
           {
            "marker": {
             "colorbar": {
              "outlinewidth": 0,
              "ticks": ""
             }
            },
            "type": "scattermapbox"
           }
          ],
          "scatterpolar": [
           {
            "marker": {
             "colorbar": {
              "outlinewidth": 0,
              "ticks": ""
             }
            },
            "type": "scatterpolar"
           }
          ],
          "scatterpolargl": [
           {
            "marker": {
             "colorbar": {
              "outlinewidth": 0,
              "ticks": ""
             }
            },
            "type": "scatterpolargl"
           }
          ],
          "scatterternary": [
           {
            "marker": {
             "colorbar": {
              "outlinewidth": 0,
              "ticks": ""
             }
            },
            "type": "scatterternary"
           }
          ],
          "surface": [
           {
            "colorbar": {
             "outlinewidth": 0,
             "ticks": ""
            },
            "colorscale": [
             [
              0,
              "#0d0887"
             ],
             [
              0.1111111111111111,
              "#46039f"
             ],
             [
              0.2222222222222222,
              "#7201a8"
             ],
             [
              0.3333333333333333,
              "#9c179e"
             ],
             [
              0.4444444444444444,
              "#bd3786"
             ],
             [
              0.5555555555555556,
              "#d8576b"
             ],
             [
              0.6666666666666666,
              "#ed7953"
             ],
             [
              0.7777777777777778,
              "#fb9f3a"
             ],
             [
              0.8888888888888888,
              "#fdca26"
             ],
             [
              1,
              "#f0f921"
             ]
            ],
            "type": "surface"
           }
          ],
          "table": [
           {
            "cells": {
             "fill": {
              "color": "#EBF0F8"
             },
             "line": {
              "color": "white"
             }
            },
            "header": {
             "fill": {
              "color": "#C8D4E3"
             },
             "line": {
              "color": "white"
             }
            },
            "type": "table"
           }
          ]
         },
         "layout": {
          "annotationdefaults": {
           "arrowcolor": "#2a3f5f",
           "arrowhead": 0,
           "arrowwidth": 1
          },
          "coloraxis": {
           "colorbar": {
            "outlinewidth": 0,
            "ticks": ""
           }
          },
          "colorscale": {
           "diverging": [
            [
             0,
             "#8e0152"
            ],
            [
             0.1,
             "#c51b7d"
            ],
            [
             0.2,
             "#de77ae"
            ],
            [
             0.3,
             "#f1b6da"
            ],
            [
             0.4,
             "#fde0ef"
            ],
            [
             0.5,
             "#f7f7f7"
            ],
            [
             0.6,
             "#e6f5d0"
            ],
            [
             0.7,
             "#b8e186"
            ],
            [
             0.8,
             "#7fbc41"
            ],
            [
             0.9,
             "#4d9221"
            ],
            [
             1,
             "#276419"
            ]
           ],
           "sequential": [
            [
             0,
             "#0d0887"
            ],
            [
             0.1111111111111111,
             "#46039f"
            ],
            [
             0.2222222222222222,
             "#7201a8"
            ],
            [
             0.3333333333333333,
             "#9c179e"
            ],
            [
             0.4444444444444444,
             "#bd3786"
            ],
            [
             0.5555555555555556,
             "#d8576b"
            ],
            [
             0.6666666666666666,
             "#ed7953"
            ],
            [
             0.7777777777777778,
             "#fb9f3a"
            ],
            [
             0.8888888888888888,
             "#fdca26"
            ],
            [
             1,
             "#f0f921"
            ]
           ],
           "sequentialminus": [
            [
             0,
             "#0d0887"
            ],
            [
             0.1111111111111111,
             "#46039f"
            ],
            [
             0.2222222222222222,
             "#7201a8"
            ],
            [
             0.3333333333333333,
             "#9c179e"
            ],
            [
             0.4444444444444444,
             "#bd3786"
            ],
            [
             0.5555555555555556,
             "#d8576b"
            ],
            [
             0.6666666666666666,
             "#ed7953"
            ],
            [
             0.7777777777777778,
             "#fb9f3a"
            ],
            [
             0.8888888888888888,
             "#fdca26"
            ],
            [
             1,
             "#f0f921"
            ]
           ]
          },
          "colorway": [
           "#636efa",
           "#EF553B",
           "#00cc96",
           "#ab63fa",
           "#FFA15A",
           "#19d3f3",
           "#FF6692",
           "#B6E880",
           "#FF97FF",
           "#FECB52"
          ],
          "font": {
           "color": "#2a3f5f"
          },
          "geo": {
           "bgcolor": "white",
           "lakecolor": "white",
           "landcolor": "#E5ECF6",
           "showlakes": true,
           "showland": true,
           "subunitcolor": "white"
          },
          "hoverlabel": {
           "align": "left"
          },
          "hovermode": "closest",
          "mapbox": {
           "style": "light"
          },
          "paper_bgcolor": "white",
          "plot_bgcolor": "#E5ECF6",
          "polar": {
           "angularaxis": {
            "gridcolor": "white",
            "linecolor": "white",
            "ticks": ""
           },
           "bgcolor": "#E5ECF6",
           "radialaxis": {
            "gridcolor": "white",
            "linecolor": "white",
            "ticks": ""
           }
          },
          "scene": {
           "xaxis": {
            "backgroundcolor": "#E5ECF6",
            "gridcolor": "white",
            "gridwidth": 2,
            "linecolor": "white",
            "showbackground": true,
            "ticks": "",
            "zerolinecolor": "white"
           },
           "yaxis": {
            "backgroundcolor": "#E5ECF6",
            "gridcolor": "white",
            "gridwidth": 2,
            "linecolor": "white",
            "showbackground": true,
            "ticks": "",
            "zerolinecolor": "white"
           },
           "zaxis": {
            "backgroundcolor": "#E5ECF6",
            "gridcolor": "white",
            "gridwidth": 2,
            "linecolor": "white",
            "showbackground": true,
            "ticks": "",
            "zerolinecolor": "white"
           }
          },
          "shapedefaults": {
           "line": {
            "color": "#2a3f5f"
           }
          },
          "ternary": {
           "aaxis": {
            "gridcolor": "white",
            "linecolor": "white",
            "ticks": ""
           },
           "baxis": {
            "gridcolor": "white",
            "linecolor": "white",
            "ticks": ""
           },
           "bgcolor": "#E5ECF6",
           "caxis": {
            "gridcolor": "white",
            "linecolor": "white",
            "ticks": ""
           }
          },
          "title": {
           "x": 0.05
          },
          "xaxis": {
           "automargin": true,
           "gridcolor": "white",
           "linecolor": "white",
           "ticks": "",
           "title": {
            "standoff": 15
           },
           "zerolinecolor": "white",
           "zerolinewidth": 2
          },
          "yaxis": {
           "automargin": true,
           "gridcolor": "white",
           "linecolor": "white",
           "ticks": "",
           "title": {
            "standoff": 15
           },
           "zerolinecolor": "white",
           "zerolinewidth": 2
          }
         }
        },
        "title": {
         "text": "Historical Bitcoin Prices (2014-2020) with the Slider "
        },
        "xaxis": {
         "rangeselector": {
          "buttons": [
           {
            "count": 1,
            "label": "1m",
            "step": "month",
            "stepmode": "backward"
           },
           {
            "count": 6,
            "label": "6m",
            "step": "month",
            "stepmode": "backward"
           },
           {
            "count": 12,
            "label": "1y",
            "step": "month",
            "stepmode": "backward"
           },
           {
            "count": 36,
            "label": "3y",
            "step": "month",
            "stepmode": "backward"
           },
           {
            "count": 60,
            "label": "5y",
            "step": "month",
            "stepmode": "backward"
           },
           {
            "step": "all"
           }
          ]
         },
         "rangeslider": {
          "visible": true
         },
         "type": "date"
        }
       }
      },
      "text/html": [
       "<div>                            <div id=\"1c8c4dfb-d719-49ba-adcb-45f5d24f7339\" class=\"plotly-graph-div\" style=\"height:525px; width:100%;\"></div>            <script type=\"text/javascript\">                require([\"plotly\"], function(Plotly) {                    window.PLOTLYENV=window.PLOTLYENV || {};                                    if (document.getElementById(\"1c8c4dfb-d719-49ba-adcb-45f5d24f7339\")) {                    Plotly.newPlot(                        \"1c8c4dfb-d719-49ba-adcb-45f5d24f7339\",                        [{\"mode\": \"lines\", \"name\": \"Open\", \"type\": \"scatter\", \"x\": [\"2014-01-06T00:00:00+00:00\", \"2014-01-13T00:00:00+00:00\", \"2014-01-20T00:00:00+00:00\", \"2014-01-27T00:00:00+00:00\", \"2014-02-03T00:00:00+00:00\", \"2014-02-10T00:00:00+00:00\", \"2014-02-17T00:00:00+00:00\", \"2014-02-24T00:00:00+00:00\", \"2014-03-03T00:00:00+00:00\", \"2014-03-10T00:00:00+00:00\", \"2014-03-17T00:00:00+00:00\", \"2014-03-24T00:00:00+00:00\", \"2014-03-31T00:00:00+00:00\", \"2014-04-07T00:00:00+00:00\", \"2014-04-14T00:00:00+00:00\", \"2014-04-21T00:00:00+00:00\", \"2014-04-28T00:00:00+00:00\", \"2014-05-05T00:00:00+00:00\", \"2014-05-12T00:00:00+00:00\", \"2014-05-19T00:00:00+00:00\", \"2014-05-26T00:00:00+00:00\", \"2014-06-02T00:00:00+00:00\", \"2014-06-09T00:00:00+00:00\", \"2014-06-16T00:00:00+00:00\", \"2014-06-23T00:00:00+00:00\", \"2014-06-30T00:00:00+00:00\", \"2014-07-07T00:00:00+00:00\", \"2014-07-14T00:00:00+00:00\", \"2014-07-21T00:00:00+00:00\", \"2014-07-28T00:00:00+00:00\", \"2014-08-04T00:00:00+00:00\", \"2014-08-11T00:00:00+00:00\", \"2014-08-18T00:00:00+00:00\", \"2014-08-25T00:00:00+00:00\", \"2014-09-01T00:00:00+00:00\", \"2014-09-08T00:00:00+00:00\", \"2014-09-15T00:00:00+00:00\", \"2014-09-22T00:00:00+00:00\", \"2014-09-29T00:00:00+00:00\", \"2014-10-06T00:00:00+00:00\", \"2014-10-13T00:00:00+00:00\", \"2014-10-20T00:00:00+00:00\", \"2014-10-27T00:00:00+00:00\", \"2014-11-03T00:00:00+00:00\", \"2014-11-10T00:00:00+00:00\", \"2014-11-17T00:00:00+00:00\", \"2014-11-24T00:00:00+00:00\", \"2014-12-01T00:00:00+00:00\", \"2014-12-08T00:00:00+00:00\", \"2014-12-15T00:00:00+00:00\", \"2014-12-22T00:00:00+00:00\", \"2014-12-29T00:00:00+00:00\", \"2015-01-05T00:00:00+00:00\", \"2015-01-12T00:00:00+00:00\", \"2015-01-19T00:00:00+00:00\", \"2015-01-26T00:00:00+00:00\", \"2015-02-02T00:00:00+00:00\", \"2015-02-09T00:00:00+00:00\", \"2015-02-16T00:00:00+00:00\", \"2015-02-23T00:00:00+00:00\", \"2015-03-02T00:00:00+00:00\", \"2015-03-09T00:00:00+00:00\", \"2015-03-16T00:00:00+00:00\", \"2015-03-23T00:00:00+00:00\", \"2015-03-30T00:00:00+00:00\", \"2015-04-06T00:00:00+00:00\", \"2015-04-13T00:00:00+00:00\", \"2015-04-20T00:00:00+00:00\", \"2015-04-27T00:00:00+00:00\", \"2015-05-04T00:00:00+00:00\", \"2015-05-11T00:00:00+00:00\", \"2015-05-18T00:00:00+00:00\", \"2015-05-25T00:00:00+00:00\", \"2015-06-01T00:00:00+00:00\", \"2015-06-08T00:00:00+00:00\", \"2015-06-15T00:00:00+00:00\", \"2015-06-22T00:00:00+00:00\", \"2015-06-29T00:00:00+00:00\", \"2015-07-06T00:00:00+00:00\", \"2015-07-13T00:00:00+00:00\", \"2015-07-20T00:00:00+00:00\", \"2015-07-27T00:00:00+00:00\", \"2015-08-03T00:00:00+00:00\", \"2015-08-10T00:00:00+00:00\", \"2015-08-17T00:00:00+00:00\", \"2015-08-24T00:00:00+00:00\", \"2015-08-31T00:00:00+00:00\", \"2015-09-07T00:00:00+00:00\", \"2015-09-14T00:00:00+00:00\", \"2015-09-21T00:00:00+00:00\", \"2015-09-28T00:00:00+00:00\", \"2015-10-05T00:00:00+00:00\", \"2015-10-12T00:00:00+00:00\", \"2015-10-19T00:00:00+00:00\", \"2015-10-26T00:00:00+00:00\", \"2015-11-02T00:00:00+00:00\", \"2015-11-09T00:00:00+00:00\", \"2015-11-16T00:00:00+00:00\", \"2015-11-23T00:00:00+00:00\", \"2015-11-30T00:00:00+00:00\", \"2015-12-07T00:00:00+00:00\", \"2015-12-14T00:00:00+00:00\", \"2015-12-21T00:00:00+00:00\", \"2015-12-28T00:00:00+00:00\", \"2016-01-04T00:00:00+00:00\", \"2016-01-11T00:00:00+00:00\", \"2016-01-18T00:00:00+00:00\", \"2016-01-25T00:00:00+00:00\", \"2016-02-01T00:00:00+00:00\", \"2016-02-08T00:00:00+00:00\", \"2016-02-15T00:00:00+00:00\", \"2016-02-22T00:00:00+00:00\", \"2016-02-29T00:00:00+00:00\", \"2016-03-07T00:00:00+00:00\", \"2016-03-14T00:00:00+00:00\", \"2016-03-21T00:00:00+00:00\", \"2016-03-28T00:00:00+00:00\", \"2016-04-04T00:00:00+00:00\", \"2016-04-11T00:00:00+00:00\", \"2016-04-18T00:00:00+00:00\", \"2016-04-25T00:00:00+00:00\", \"2016-05-02T00:00:00+00:00\", \"2016-05-09T00:00:00+00:00\", \"2016-05-16T00:00:00+00:00\", \"2016-05-23T00:00:00+00:00\", \"2016-05-30T00:00:00+00:00\", \"2016-06-06T00:00:00+00:00\", \"2016-06-13T00:00:00+00:00\", \"2016-06-20T00:00:00+00:00\", \"2016-06-27T00:00:00+00:00\", \"2016-07-04T00:00:00+00:00\", \"2016-07-11T00:00:00+00:00\", \"2016-07-18T00:00:00+00:00\", \"2016-07-25T00:00:00+00:00\", \"2016-08-01T00:00:00+00:00\", \"2016-08-08T00:00:00+00:00\", \"2016-08-15T00:00:00+00:00\", \"2016-08-22T00:00:00+00:00\", \"2016-08-29T00:00:00+00:00\", \"2016-09-05T00:00:00+00:00\", \"2016-09-12T00:00:00+00:00\", \"2016-09-19T00:00:00+00:00\", \"2016-09-26T00:00:00+00:00\", \"2016-10-03T00:00:00+00:00\", \"2016-10-10T00:00:00+00:00\", \"2016-10-17T00:00:00+00:00\", \"2016-10-24T00:00:00+00:00\", \"2016-10-31T00:00:00+00:00\", \"2016-11-07T00:00:00+00:00\", \"2016-11-14T00:00:00+00:00\", \"2016-11-21T00:00:00+00:00\", \"2016-11-28T00:00:00+00:00\", \"2016-12-05T00:00:00+00:00\", \"2016-12-12T00:00:00+00:00\", \"2016-12-19T00:00:00+00:00\", \"2016-12-26T00:00:00+00:00\", \"2017-01-02T00:00:00+00:00\", \"2017-01-09T00:00:00+00:00\", \"2017-01-16T00:00:00+00:00\", \"2017-01-23T00:00:00+00:00\", \"2017-01-30T00:00:00+00:00\", \"2017-02-06T00:00:00+00:00\", \"2017-02-13T00:00:00+00:00\", \"2017-02-20T00:00:00+00:00\", \"2017-02-27T00:00:00+00:00\", \"2017-03-06T00:00:00+00:00\", \"2017-03-13T00:00:00+00:00\", \"2017-03-20T00:00:00+00:00\", \"2017-03-27T00:00:00+00:00\", \"2017-04-03T00:00:00+00:00\", \"2017-04-10T00:00:00+00:00\", \"2017-04-17T00:00:00+00:00\", \"2017-04-24T00:00:00+00:00\", \"2017-05-01T00:00:00+00:00\", \"2017-05-08T00:00:00+00:00\", \"2017-05-15T00:00:00+00:00\", \"2017-05-22T00:00:00+00:00\", \"2017-05-29T00:00:00+00:00\", \"2017-06-05T00:00:00+00:00\", \"2017-06-12T00:00:00+00:00\", \"2017-06-19T00:00:00+00:00\", \"2017-06-26T00:00:00+00:00\", \"2017-07-03T00:00:00+00:00\", \"2017-07-10T00:00:00+00:00\", \"2017-07-17T00:00:00+00:00\", \"2017-07-24T00:00:00+00:00\", \"2017-07-31T00:00:00+00:00\", \"2017-08-07T00:00:00+00:00\", \"2017-08-14T00:00:00+00:00\", \"2017-08-21T00:00:00+00:00\", \"2017-08-28T00:00:00+00:00\", \"2017-09-04T00:00:00+00:00\", \"2017-09-11T00:00:00+00:00\", \"2017-09-18T00:00:00+00:00\", \"2017-09-25T00:00:00+00:00\", \"2017-10-02T00:00:00+00:00\", \"2017-10-09T00:00:00+00:00\", \"2017-10-16T00:00:00+00:00\", \"2017-10-23T00:00:00+00:00\", \"2017-10-30T00:00:00+00:00\", \"2017-11-06T00:00:00+00:00\", \"2017-11-13T00:00:00+00:00\", \"2017-11-20T00:00:00+00:00\", \"2017-11-27T00:00:00+00:00\", \"2017-12-04T00:00:00+00:00\", \"2017-12-11T00:00:00+00:00\", \"2017-12-18T00:00:00+00:00\", \"2017-12-25T00:00:00+00:00\", \"2018-01-01T00:00:00+00:00\", \"2018-01-08T00:00:00+00:00\", \"2018-01-15T00:00:00+00:00\", \"2018-01-22T00:00:00+00:00\", \"2018-01-29T00:00:00+00:00\", \"2018-02-05T00:00:00+00:00\", \"2018-02-12T00:00:00+00:00\", \"2018-02-19T00:00:00+00:00\", \"2018-02-26T00:00:00+00:00\", \"2018-03-05T00:00:00+00:00\", \"2018-03-12T00:00:00+00:00\", \"2018-03-19T00:00:00+00:00\", \"2018-03-26T00:00:00+00:00\", \"2018-04-02T00:00:00+00:00\", \"2018-04-09T00:00:00+00:00\", \"2018-04-16T00:00:00+00:00\", \"2018-04-23T00:00:00+00:00\", \"2018-04-30T00:00:00+00:00\", \"2018-05-07T00:00:00+00:00\", \"2018-05-14T00:00:00+00:00\", \"2018-05-21T00:00:00+00:00\", \"2018-05-28T00:00:00+00:00\", \"2018-06-04T00:00:00+00:00\", \"2018-06-11T00:00:00+00:00\", \"2018-06-18T00:00:00+00:00\", \"2018-06-25T00:00:00+00:00\", \"2018-07-02T00:00:00+00:00\", \"2018-07-09T00:00:00+00:00\", \"2018-07-16T00:00:00+00:00\", \"2018-07-23T00:00:00+00:00\", \"2018-07-30T00:00:00+00:00\", \"2018-08-06T00:00:00+00:00\", \"2018-08-13T00:00:00+00:00\", \"2018-08-20T00:00:00+00:00\", \"2018-08-27T00:00:00+00:00\", \"2018-09-03T00:00:00+00:00\", \"2018-09-10T00:00:00+00:00\", \"2018-09-17T00:00:00+00:00\", \"2018-09-24T00:00:00+00:00\", \"2018-10-01T00:00:00+00:00\", \"2018-10-08T00:00:00+00:00\", \"2018-10-15T00:00:00+00:00\", \"2018-10-22T00:00:00+00:00\", \"2018-10-29T00:00:00+00:00\", \"2018-11-05T00:00:00+00:00\", \"2018-11-12T00:00:00+00:00\", \"2018-11-19T00:00:00+00:00\", \"2018-11-26T00:00:00+00:00\", \"2018-12-03T00:00:00+00:00\", \"2018-12-10T00:00:00+00:00\", \"2018-12-17T00:00:00+00:00\", \"2018-12-24T00:00:00+00:00\", \"2018-12-31T00:00:00+00:00\", \"2019-01-07T00:00:00+00:00\", \"2019-01-14T00:00:00+00:00\", \"2019-01-21T00:00:00+00:00\", \"2019-01-28T00:00:00+00:00\", \"2019-02-04T00:00:00+00:00\", \"2019-02-11T00:00:00+00:00\", \"2019-02-18T00:00:00+00:00\", \"2019-02-25T00:00:00+00:00\", \"2019-03-04T00:00:00+00:00\", \"2019-03-11T00:00:00+00:00\", \"2019-03-18T00:00:00+00:00\", \"2019-03-25T00:00:00+00:00\", \"2019-04-01T00:00:00+00:00\", \"2019-04-08T00:00:00+00:00\", \"2019-04-15T00:00:00+00:00\", \"2019-04-22T00:00:00+00:00\", \"2019-04-29T00:00:00+00:00\", \"2019-05-06T00:00:00+00:00\", \"2019-05-13T00:00:00+00:00\", \"2019-05-20T00:00:00+00:00\", \"2019-05-27T00:00:00+00:00\", \"2019-06-03T00:00:00+00:00\", \"2019-06-10T00:00:00+00:00\", \"2019-06-17T00:00:00+00:00\", \"2019-06-24T00:00:00+00:00\", \"2019-07-01T00:00:00+00:00\", \"2019-07-08T00:00:00+00:00\", \"2019-07-15T00:00:00+00:00\", \"2019-07-22T00:00:00+00:00\", \"2019-07-29T00:00:00+00:00\", \"2019-08-05T00:00:00+00:00\", \"2019-08-12T00:00:00+00:00\", \"2019-08-19T00:00:00+00:00\", \"2019-08-26T00:00:00+00:00\", \"2019-09-02T00:00:00+00:00\", \"2019-09-09T00:00:00+00:00\", \"2019-09-16T00:00:00+00:00\", \"2019-09-23T00:00:00+00:00\", \"2019-09-30T00:00:00+00:00\", \"2019-10-07T00:00:00+00:00\", \"2019-10-14T00:00:00+00:00\", \"2019-10-21T00:00:00+00:00\", \"2019-10-28T00:00:00+00:00\", \"2019-11-04T00:00:00+00:00\", \"2019-11-11T00:00:00+00:00\", \"2019-11-18T00:00:00+00:00\", \"2019-11-25T00:00:00+00:00\", \"2019-12-02T00:00:00+00:00\", \"2019-12-09T00:00:00+00:00\", \"2019-12-16T00:00:00+00:00\", \"2019-12-23T00:00:00+00:00\", \"2019-12-30T00:00:00+00:00\", \"2020-01-06T00:00:00+00:00\", \"2020-01-13T00:00:00+00:00\", \"2020-01-20T00:00:00+00:00\", \"2020-01-27T00:00:00+00:00\", \"2020-02-03T00:00:00+00:00\", \"2020-02-10T00:00:00+00:00\", \"2020-02-17T00:00:00+00:00\", \"2020-02-24T00:00:00+00:00\", \"2020-03-02T00:00:00+00:00\", \"2020-03-09T00:00:00+00:00\", \"2020-03-16T00:00:00+00:00\", \"2020-03-23T00:00:00+00:00\", \"2020-03-30T00:00:00+00:00\", \"2020-04-06T00:00:00+00:00\", \"2020-04-13T00:00:00+00:00\", \"2020-04-20T00:00:00+00:00\", \"2020-04-27T00:00:00+00:00\", \"2020-05-04T00:00:00+00:00\", \"2020-05-11T00:00:00+00:00\", \"2020-05-18T00:00:00+00:00\", \"2020-05-25T00:00:00+00:00\", \"2020-06-01T00:00:00+00:00\", \"2020-06-08T00:00:00+00:00\", \"2020-06-15T00:00:00+00:00\", \"2020-06-22T00:00:00+00:00\", \"2020-06-29T00:00:00+00:00\", \"2020-07-06T00:00:00+00:00\", \"2020-07-13T00:00:00+00:00\", \"2020-07-20T00:00:00+00:00\", \"2020-07-27T00:00:00+00:00\", \"2020-08-03T00:00:00+00:00\", \"2020-08-10T00:00:00+00:00\", \"2020-08-17T00:00:00+00:00\", \"2020-08-24T00:00:00+00:00\", \"2020-08-31T00:00:00+00:00\", \"2020-09-07T00:00:00+00:00\", \"2020-09-14T00:00:00+00:00\"], \"y\": [734.86, 938.6, 812.9, 828.2, 786.5, 811.68, 663.99, 641.95, 549.26, 675.0, 622.9, 625.06, 572.06, 458.12, 447.9, 457.0, 494.04, 446.71, 431.0, 442.3, 445.78, 585.52, 634.7, 649.86, 595.25, 589.0, 621.0, 623.13, 622.97, 619.5, 588.44, 592.98, 579.47, 464.9, 503.99, 480.75, 474.38, 475.92, 401.51, 382.64, 333.99, 380.49, 384.94, 355.99, 327.55, 375.76, 382.43, 386.3, 378.17, 367.0, 351.94, 332.98, 313.86, 272.45, 270.97, 212.29, 270.89, 225.87, 220.01, 236.72, 236.99, 263.93, 285.24, 290.85, 266.29, 245.23, 256.18, 225.95, 224.52, 222.4, 236.18, 244.0, 235.96, 236.18, 221.92, 227.97, 236.65, 246.48, 254.13, 272.32, 289.05, 277.87, 292.01, 284.13, 264.34, 257.03, 213.16, 231.34, 239.79, 231.07, 227.06, 238.6, 239.46, 246.18, 263.71, 285.22, 342.18, 379.89, 330.09, 324.35, 373.0, 396.32, 445.36, 437.97, 423.18, 433.52, 447.69, 385.78, 387.98, 373.34, 375.0, 400.11, 438.45, 434.99, 411.96, 413.04, 410.99, 422.25, 418.94, 421.1, 426.69, 463.0, 442.53, 463.92, 457.29, 442.75, 531.8, 584.1, 692.03, 739.35, 636.97, 667.83, 648.47, 673.98, 655.82, 613.94, 590.96, 562.55, 583.42, 573.8, 603.14, 604.65, 607.94, 604.2, 610.74, 614.39, 634.9, 649.67, 704.99, 705.49, 698.45, 736.73, 730.96, 750.06, 777.1, 790.6, 899.88, 1022.0, 888.52, 828.46, 919.43, 919.49, 1019.73, 997.3, 1060.62, 1190.33, 1275.01, 1238.0, 1047.51, 1024.83, 1130.88, 1209.68, 1178.85, 1249.72, 1403.92, 1583.43, 1720.0, 2208.22, 2299.37, 2622.02, 2571.84, 2585.95, 2364.31, 2542.29, 2401.75, 2130.5, 2730.74, 2791.32, 3343.44, 4274.99, 3992.54, 4332.48, 4137.47, 4227.99, 4018.23, 3913.93, 4378.33, 4692.11, 5679.3, 5820.03, 6126.0, 7070.0, 6348.16, 8200.0, 9549.99, 11200.57, 16324.99, 18460.67, 14030.56, 13308.31, 15099.24, 13981.06, 10670.1, 11215.39, 6960.87, 8647.47, 11045.0, 10226.68, 11510.21, 9226.49, 8380.85, 7893.11, 6964.98, 6745.69, 8026.91, 8903.6, 9349.86, 9355.98, 8746.78, 8350.05, 7235.11, 7484.99, 6716.79, 6746.23, 6272.21, 6614.47, 6697.69, 6689.24, 7772.71, 7923.83, 6908.08, 6220.0, 6472.2, 6726.34, 7271.62, 6262.86, 6309.45, 6641.56, 6575.32, 6610.36, 6399.4, 6393.9, 6262.0, 6388.8, 6333.31, 4997.93, 3734.26, 3835.51, 3423.73, 3445.64, 4074.54, 3750.64, 4023.98, 3682.77, 3535.59, 3420.65, 3417.38, 3591.5, 3889.98, 3843.57, 3705.73, 3854.38, 3964.51, 3929.25, 4131.78, 5217.37, 5040.89, 5387.19, 5138.64, 5711.05, 7900.0, 7792.1, 8760.2, 8511.12, 7950.87, 9249.16, 11005.96, 10238.78, 11870.03, 10761.32, 10262.66, 9466.07, 11826.53, 11369.51, 10714.27, 10300.05, 10170.69, 10258.24, 10130.0, 9810.63, 8309.21, 8265.63, 8349.49, 8186.25, 9496.5, 9295.79, 8722.36, 8135.71, 7253.98, 7265.58, 7445.71, 7034.71, 7431.12, 7233.65, 7545.14, 8093.11, 8649.32, 8754.21, 9255.3, 9847.9, 9596.16, 9520.71, 8885.41, 7749.44, 5075.12, 6310.51, 6352.99, 7204.08, 6784.79, 6868.55, 7690.08, 8842.75, 8475.34, 9614.24, 8890.0, 9567.4, 9728.7, 9394.64, 9582.24, 9148.88, 9302.5, 9283.19, 9186.9, 10793.25, 11400.36, 11889.13, 12353.81, 11721.02, 11730.13, 10167.78]}, {\"mode\": \"lines\", \"name\": \"Close\", \"type\": \"scatter\", \"x\": [\"2014-01-06T00:00:00+00:00\", \"2014-01-13T00:00:00+00:00\", \"2014-01-20T00:00:00+00:00\", \"2014-01-27T00:00:00+00:00\", \"2014-02-03T00:00:00+00:00\", \"2014-02-10T00:00:00+00:00\", \"2014-02-17T00:00:00+00:00\", \"2014-02-24T00:00:00+00:00\", \"2014-03-03T00:00:00+00:00\", \"2014-03-10T00:00:00+00:00\", \"2014-03-17T00:00:00+00:00\", \"2014-03-24T00:00:00+00:00\", \"2014-03-31T00:00:00+00:00\", \"2014-04-07T00:00:00+00:00\", \"2014-04-14T00:00:00+00:00\", \"2014-04-21T00:00:00+00:00\", \"2014-04-28T00:00:00+00:00\", \"2014-05-05T00:00:00+00:00\", \"2014-05-12T00:00:00+00:00\", \"2014-05-19T00:00:00+00:00\", \"2014-05-26T00:00:00+00:00\", \"2014-06-02T00:00:00+00:00\", \"2014-06-09T00:00:00+00:00\", \"2014-06-16T00:00:00+00:00\", \"2014-06-23T00:00:00+00:00\", \"2014-06-30T00:00:00+00:00\", \"2014-07-07T00:00:00+00:00\", \"2014-07-14T00:00:00+00:00\", \"2014-07-21T00:00:00+00:00\", \"2014-07-28T00:00:00+00:00\", \"2014-08-04T00:00:00+00:00\", \"2014-08-11T00:00:00+00:00\", \"2014-08-18T00:00:00+00:00\", \"2014-08-25T00:00:00+00:00\", \"2014-09-01T00:00:00+00:00\", \"2014-09-08T00:00:00+00:00\", \"2014-09-15T00:00:00+00:00\", \"2014-09-22T00:00:00+00:00\", \"2014-09-29T00:00:00+00:00\", \"2014-10-06T00:00:00+00:00\", \"2014-10-13T00:00:00+00:00\", \"2014-10-20T00:00:00+00:00\", \"2014-10-27T00:00:00+00:00\", \"2014-11-03T00:00:00+00:00\", \"2014-11-10T00:00:00+00:00\", \"2014-11-17T00:00:00+00:00\", \"2014-11-24T00:00:00+00:00\", \"2014-12-01T00:00:00+00:00\", \"2014-12-08T00:00:00+00:00\", \"2014-12-15T00:00:00+00:00\", \"2014-12-22T00:00:00+00:00\", \"2014-12-29T00:00:00+00:00\", \"2015-01-05T00:00:00+00:00\", \"2015-01-12T00:00:00+00:00\", \"2015-01-19T00:00:00+00:00\", \"2015-01-26T00:00:00+00:00\", \"2015-02-02T00:00:00+00:00\", \"2015-02-09T00:00:00+00:00\", \"2015-02-16T00:00:00+00:00\", \"2015-02-23T00:00:00+00:00\", \"2015-03-02T00:00:00+00:00\", \"2015-03-09T00:00:00+00:00\", \"2015-03-16T00:00:00+00:00\", \"2015-03-23T00:00:00+00:00\", \"2015-03-30T00:00:00+00:00\", \"2015-04-06T00:00:00+00:00\", \"2015-04-13T00:00:00+00:00\", \"2015-04-20T00:00:00+00:00\", \"2015-04-27T00:00:00+00:00\", \"2015-05-04T00:00:00+00:00\", \"2015-05-11T00:00:00+00:00\", \"2015-05-18T00:00:00+00:00\", \"2015-05-25T00:00:00+00:00\", \"2015-06-01T00:00:00+00:00\", \"2015-06-08T00:00:00+00:00\", \"2015-06-15T00:00:00+00:00\", \"2015-06-22T00:00:00+00:00\", \"2015-06-29T00:00:00+00:00\", \"2015-07-06T00:00:00+00:00\", \"2015-07-13T00:00:00+00:00\", \"2015-07-20T00:00:00+00:00\", \"2015-07-27T00:00:00+00:00\", \"2015-08-03T00:00:00+00:00\", \"2015-08-10T00:00:00+00:00\", \"2015-08-17T00:00:00+00:00\", \"2015-08-24T00:00:00+00:00\", \"2015-08-31T00:00:00+00:00\", \"2015-09-07T00:00:00+00:00\", \"2015-09-14T00:00:00+00:00\", \"2015-09-21T00:00:00+00:00\", \"2015-09-28T00:00:00+00:00\", \"2015-10-05T00:00:00+00:00\", \"2015-10-12T00:00:00+00:00\", \"2015-10-19T00:00:00+00:00\", \"2015-10-26T00:00:00+00:00\", \"2015-11-02T00:00:00+00:00\", \"2015-11-09T00:00:00+00:00\", \"2015-11-16T00:00:00+00:00\", \"2015-11-23T00:00:00+00:00\", \"2015-11-30T00:00:00+00:00\", \"2015-12-07T00:00:00+00:00\", \"2015-12-14T00:00:00+00:00\", \"2015-12-21T00:00:00+00:00\", \"2015-12-28T00:00:00+00:00\", \"2016-01-04T00:00:00+00:00\", \"2016-01-11T00:00:00+00:00\", \"2016-01-18T00:00:00+00:00\", \"2016-01-25T00:00:00+00:00\", \"2016-02-01T00:00:00+00:00\", \"2016-02-08T00:00:00+00:00\", \"2016-02-15T00:00:00+00:00\", \"2016-02-22T00:00:00+00:00\", \"2016-02-29T00:00:00+00:00\", \"2016-03-07T00:00:00+00:00\", \"2016-03-14T00:00:00+00:00\", \"2016-03-21T00:00:00+00:00\", \"2016-03-28T00:00:00+00:00\", \"2016-04-04T00:00:00+00:00\", \"2016-04-11T00:00:00+00:00\", \"2016-04-18T00:00:00+00:00\", \"2016-04-25T00:00:00+00:00\", \"2016-05-02T00:00:00+00:00\", \"2016-05-09T00:00:00+00:00\", \"2016-05-16T00:00:00+00:00\", \"2016-05-23T00:00:00+00:00\", \"2016-05-30T00:00:00+00:00\", \"2016-06-06T00:00:00+00:00\", \"2016-06-13T00:00:00+00:00\", \"2016-06-20T00:00:00+00:00\", \"2016-06-27T00:00:00+00:00\", \"2016-07-04T00:00:00+00:00\", \"2016-07-11T00:00:00+00:00\", \"2016-07-18T00:00:00+00:00\", \"2016-07-25T00:00:00+00:00\", \"2016-08-01T00:00:00+00:00\", \"2016-08-08T00:00:00+00:00\", \"2016-08-15T00:00:00+00:00\", \"2016-08-22T00:00:00+00:00\", \"2016-08-29T00:00:00+00:00\", \"2016-09-05T00:00:00+00:00\", \"2016-09-12T00:00:00+00:00\", \"2016-09-19T00:00:00+00:00\", \"2016-09-26T00:00:00+00:00\", \"2016-10-03T00:00:00+00:00\", \"2016-10-10T00:00:00+00:00\", \"2016-10-17T00:00:00+00:00\", \"2016-10-24T00:00:00+00:00\", \"2016-10-31T00:00:00+00:00\", \"2016-11-07T00:00:00+00:00\", \"2016-11-14T00:00:00+00:00\", \"2016-11-21T00:00:00+00:00\", \"2016-11-28T00:00:00+00:00\", \"2016-12-05T00:00:00+00:00\", \"2016-12-12T00:00:00+00:00\", \"2016-12-19T00:00:00+00:00\", \"2016-12-26T00:00:00+00:00\", \"2017-01-02T00:00:00+00:00\", \"2017-01-09T00:00:00+00:00\", \"2017-01-16T00:00:00+00:00\", \"2017-01-23T00:00:00+00:00\", \"2017-01-30T00:00:00+00:00\", \"2017-02-06T00:00:00+00:00\", \"2017-02-13T00:00:00+00:00\", \"2017-02-20T00:00:00+00:00\", \"2017-02-27T00:00:00+00:00\", \"2017-03-06T00:00:00+00:00\", \"2017-03-13T00:00:00+00:00\", \"2017-03-20T00:00:00+00:00\", \"2017-03-27T00:00:00+00:00\", \"2017-04-03T00:00:00+00:00\", \"2017-04-10T00:00:00+00:00\", \"2017-04-17T00:00:00+00:00\", \"2017-04-24T00:00:00+00:00\", \"2017-05-01T00:00:00+00:00\", \"2017-05-08T00:00:00+00:00\", \"2017-05-15T00:00:00+00:00\", \"2017-05-22T00:00:00+00:00\", \"2017-05-29T00:00:00+00:00\", \"2017-06-05T00:00:00+00:00\", \"2017-06-12T00:00:00+00:00\", \"2017-06-19T00:00:00+00:00\", \"2017-06-26T00:00:00+00:00\", \"2017-07-03T00:00:00+00:00\", \"2017-07-10T00:00:00+00:00\", \"2017-07-17T00:00:00+00:00\", \"2017-07-24T00:00:00+00:00\", \"2017-07-31T00:00:00+00:00\", \"2017-08-07T00:00:00+00:00\", \"2017-08-14T00:00:00+00:00\", \"2017-08-21T00:00:00+00:00\", \"2017-08-28T00:00:00+00:00\", \"2017-09-04T00:00:00+00:00\", \"2017-09-11T00:00:00+00:00\", \"2017-09-18T00:00:00+00:00\", \"2017-09-25T00:00:00+00:00\", \"2017-10-02T00:00:00+00:00\", \"2017-10-09T00:00:00+00:00\", \"2017-10-16T00:00:00+00:00\", \"2017-10-23T00:00:00+00:00\", \"2017-10-30T00:00:00+00:00\", \"2017-11-06T00:00:00+00:00\", \"2017-11-13T00:00:00+00:00\", \"2017-11-20T00:00:00+00:00\", \"2017-11-27T00:00:00+00:00\", \"2017-12-04T00:00:00+00:00\", \"2017-12-11T00:00:00+00:00\", \"2017-12-18T00:00:00+00:00\", \"2017-12-25T00:00:00+00:00\", \"2018-01-01T00:00:00+00:00\", \"2018-01-08T00:00:00+00:00\", \"2018-01-15T00:00:00+00:00\", \"2018-01-22T00:00:00+00:00\", \"2018-01-29T00:00:00+00:00\", \"2018-02-05T00:00:00+00:00\", \"2018-02-12T00:00:00+00:00\", \"2018-02-19T00:00:00+00:00\", \"2018-02-26T00:00:00+00:00\", \"2018-03-05T00:00:00+00:00\", \"2018-03-12T00:00:00+00:00\", \"2018-03-19T00:00:00+00:00\", \"2018-03-26T00:00:00+00:00\", \"2018-04-02T00:00:00+00:00\", \"2018-04-09T00:00:00+00:00\", \"2018-04-16T00:00:00+00:00\", \"2018-04-23T00:00:00+00:00\", \"2018-04-30T00:00:00+00:00\", \"2018-05-07T00:00:00+00:00\", \"2018-05-14T00:00:00+00:00\", \"2018-05-21T00:00:00+00:00\", \"2018-05-28T00:00:00+00:00\", \"2018-06-04T00:00:00+00:00\", \"2018-06-11T00:00:00+00:00\", \"2018-06-18T00:00:00+00:00\", \"2018-06-25T00:00:00+00:00\", \"2018-07-02T00:00:00+00:00\", \"2018-07-09T00:00:00+00:00\", \"2018-07-16T00:00:00+00:00\", \"2018-07-23T00:00:00+00:00\", \"2018-07-30T00:00:00+00:00\", \"2018-08-06T00:00:00+00:00\", \"2018-08-13T00:00:00+00:00\", \"2018-08-20T00:00:00+00:00\", \"2018-08-27T00:00:00+00:00\", \"2018-09-03T00:00:00+00:00\", \"2018-09-10T00:00:00+00:00\", \"2018-09-17T00:00:00+00:00\", \"2018-09-24T00:00:00+00:00\", \"2018-10-01T00:00:00+00:00\", \"2018-10-08T00:00:00+00:00\", \"2018-10-15T00:00:00+00:00\", \"2018-10-22T00:00:00+00:00\", \"2018-10-29T00:00:00+00:00\", \"2018-11-05T00:00:00+00:00\", \"2018-11-12T00:00:00+00:00\", \"2018-11-19T00:00:00+00:00\", \"2018-11-26T00:00:00+00:00\", \"2018-12-03T00:00:00+00:00\", \"2018-12-10T00:00:00+00:00\", \"2018-12-17T00:00:00+00:00\", \"2018-12-24T00:00:00+00:00\", \"2018-12-31T00:00:00+00:00\", \"2019-01-07T00:00:00+00:00\", \"2019-01-14T00:00:00+00:00\", \"2019-01-21T00:00:00+00:00\", \"2019-01-28T00:00:00+00:00\", \"2019-02-04T00:00:00+00:00\", \"2019-02-11T00:00:00+00:00\", \"2019-02-18T00:00:00+00:00\", \"2019-02-25T00:00:00+00:00\", \"2019-03-04T00:00:00+00:00\", \"2019-03-11T00:00:00+00:00\", \"2019-03-18T00:00:00+00:00\", \"2019-03-25T00:00:00+00:00\", \"2019-04-01T00:00:00+00:00\", \"2019-04-08T00:00:00+00:00\", \"2019-04-15T00:00:00+00:00\", \"2019-04-22T00:00:00+00:00\", \"2019-04-29T00:00:00+00:00\", \"2019-05-06T00:00:00+00:00\", \"2019-05-13T00:00:00+00:00\", \"2019-05-20T00:00:00+00:00\", \"2019-05-27T00:00:00+00:00\", \"2019-06-03T00:00:00+00:00\", \"2019-06-10T00:00:00+00:00\", \"2019-06-17T00:00:00+00:00\", \"2019-06-24T00:00:00+00:00\", \"2019-07-01T00:00:00+00:00\", \"2019-07-08T00:00:00+00:00\", \"2019-07-15T00:00:00+00:00\", \"2019-07-22T00:00:00+00:00\", \"2019-07-29T00:00:00+00:00\", \"2019-08-05T00:00:00+00:00\", \"2019-08-12T00:00:00+00:00\", \"2019-08-19T00:00:00+00:00\", \"2019-08-26T00:00:00+00:00\", \"2019-09-02T00:00:00+00:00\", \"2019-09-09T00:00:00+00:00\", \"2019-09-16T00:00:00+00:00\", \"2019-09-23T00:00:00+00:00\", \"2019-09-30T00:00:00+00:00\", \"2019-10-07T00:00:00+00:00\", \"2019-10-14T00:00:00+00:00\", \"2019-10-21T00:00:00+00:00\", \"2019-10-28T00:00:00+00:00\", \"2019-11-04T00:00:00+00:00\", \"2019-11-11T00:00:00+00:00\", \"2019-11-18T00:00:00+00:00\", \"2019-11-25T00:00:00+00:00\", \"2019-12-02T00:00:00+00:00\", \"2019-12-09T00:00:00+00:00\", \"2019-12-16T00:00:00+00:00\", \"2019-12-23T00:00:00+00:00\", \"2019-12-30T00:00:00+00:00\", \"2020-01-06T00:00:00+00:00\", \"2020-01-13T00:00:00+00:00\", \"2020-01-20T00:00:00+00:00\", \"2020-01-27T00:00:00+00:00\", \"2020-02-03T00:00:00+00:00\", \"2020-02-10T00:00:00+00:00\", \"2020-02-17T00:00:00+00:00\", \"2020-02-24T00:00:00+00:00\", \"2020-03-02T00:00:00+00:00\", \"2020-03-09T00:00:00+00:00\", \"2020-03-16T00:00:00+00:00\", \"2020-03-23T00:00:00+00:00\", \"2020-03-30T00:00:00+00:00\", \"2020-04-06T00:00:00+00:00\", \"2020-04-13T00:00:00+00:00\", \"2020-04-20T00:00:00+00:00\", \"2020-04-27T00:00:00+00:00\", \"2020-05-04T00:00:00+00:00\", \"2020-05-11T00:00:00+00:00\", \"2020-05-18T00:00:00+00:00\", \"2020-05-25T00:00:00+00:00\", \"2020-06-01T00:00:00+00:00\", \"2020-06-08T00:00:00+00:00\", \"2020-06-15T00:00:00+00:00\", \"2020-06-22T00:00:00+00:00\", \"2020-06-29T00:00:00+00:00\", \"2020-07-06T00:00:00+00:00\", \"2020-07-13T00:00:00+00:00\", \"2020-07-20T00:00:00+00:00\", \"2020-07-27T00:00:00+00:00\", \"2020-08-03T00:00:00+00:00\", \"2020-08-10T00:00:00+00:00\", \"2020-08-17T00:00:00+00:00\", \"2020-08-24T00:00:00+00:00\", \"2020-08-31T00:00:00+00:00\", \"2020-09-07T00:00:00+00:00\", \"2020-09-14T00:00:00+00:00\"], \"y\": [734.87, 935.06, 812.99, 828.2, 786.3, 811.26, 660.0, 641.76, 549.13, 673.0, 622.9, 626.75, 572.6, 456.75, 447.9, 459.0, 494.03, 447.7, 431.0, 442.84, 446.13, 585.52, 631.66, 649.98, 595.25, 590.94, 622.0, 625.21, 622.97, 619.5, 588.44, 592.97, 578.01, 462.5, 503.99, 481.48, 474.38, 475.51, 400.74, 379.89, 333.99, 380.49, 383.5, 355.99, 327.0, 375.76, 383.14, 385.23, 378.17, 366.99, 351.97, 332.09, 313.99, 291.1, 271.01, 212.34, 270.02, 225.9, 220.06, 236.78, 236.99, 263.99, 284.0, 290.98, 265.8, 245.24, 256.16, 225.58, 224.5, 222.48, 236.18, 243.85, 235.95, 236.35, 221.98, 227.8, 236.65, 246.48, 254.17, 272.32, 289.05, 277.87, 292.02, 284.13, 264.34, 257.01, 213.7, 231.29, 240.31, 231.11, 227.06, 238.6, 239.48, 246.18, 263.68, 285.48, 342.52, 377.64, 330.09, 324.6, 373.0, 396.32, 445.39, 438.99, 423.87, 433.52, 447.71, 385.96, 387.98, 373.34, 375.0, 401.05, 438.45, 435.1, 411.32, 413.04, 410.99, 422.25, 418.94, 421.1, 427.18, 463.0, 443.11, 463.84, 457.22, 442.7, 531.81, 584.0, 690.17, 740.0, 636.95, 668.55, 648.47, 673.98, 655.82, 612.99, 591.0, 562.59, 583.4, 574.2, 603.93, 605.9, 607.94, 603.3, 610.3, 614.67, 634.9, 649.14, 704.92, 705.49, 698.45, 737.03, 731.2, 750.31, 777.1, 789.66, 899.88, 1022.0, 888.52, 828.47, 919.43, 919.49, 1019.01, 997.3, 1060.42, 1190.33, 1275.0, 1238.0, 1047.51, 1024.99, 1130.69, 1209.86, 1179.0, 1250.0, 1407.04, 1582.0, 1720.0, 2208.23, 2297.99, 2624.48, 2588.12, 2584.96, 2370.0, 2539.0, 2403.01, 2131.78, 2730.72, 2797.5, 3345.99, 4275.5, 3994.99, 4332.48, 4160.0, 4229.0, 4028.76, 3921.38, 4378.33, 4685.95, 5679.33, 5817.35, 6129.05, 7055.55, 6369.24, 8198.24, 9550.0, 11185.32, 16324.98, 18469.93, 14016.82, 13219.34, 15092.48, 14004.25, 10643.21, 11190.78, 6976.92, 8650.45, 11045.0, 10233.82, 11511.0, 9220.48, 8377.41, 7901.08, 6961.5, 6745.45, 8029.86, 8911.61, 9343.45, 9355.97, 8750.97, 8363.16, 7244.1, 7484.8, 6710.0, 6733.99, 6287.01, 6614.46, 6694.66, 6693.13, 7785.04, 7919.45, 6908.06, 6229.35, 6475.04, 6729.66, 7270.26, 6264.3, 6309.45, 6641.58, 6575.35, 6610.35, 6401.48, 6394.42, 6262.0, 6388.8, 6333.32, 5001.46, 3745.96, 3835.68, 3423.43, 3446.35, 4070.46, 3750.64, 4025.19, 3687.69, 3535.42, 3419.79, 3417.22, 3591.5, 3885.33, 3844.16, 3706.42, 3854.38, 3964.36, 3928.54, 4131.78, 5220.17, 5042.37, 5370.63, 5135.72, 5705.77, 7878.63, 7785.63, 8752.55, 8525.23, 7952.35, 9249.16, 11010.64, 10250.0, 11871.69, 10783.0, 10255.06, 9466.42, 11814.22, 11371.31, 10715.87, 10296.99, 10160.0, 10254.1, 10126.08, 9801.35, 8304.95, 8266.88, 8354.41, 8179.93, 9477.32, 9300.31, 8734.23, 8127.76, 7265.43, 7271.75, 7444.35, 6964.01, 7426.87, 7234.61, 7536.73, 8093.11, 8650.02, 8757.12, 9248.22, 9837.18, 9611.35, 9520.74, 8886.3, 7752.69, 5069.11, 6314.7, 6358.58, 7213.6, 6794.81, 6866.16, 7687.19, 8849.92, 8500.0, 9613.23, 8884.35, 9567.4, 9731.09, 9379.61, 9582.25, 9148.88, 9302.51, 9283.19, 9185.79, 10830.45, 11405.0, 11888.0, 12358.5, 11720.21, 11730.13, 10200.0]}, {\"mode\": \"lines\", \"name\": \"Weighted Avg\", \"type\": \"scatter\", \"x\": [\"2014-01-06T00:00:00+00:00\", \"2014-01-13T00:00:00+00:00\", \"2014-01-20T00:00:00+00:00\", \"2014-01-27T00:00:00+00:00\", \"2014-02-03T00:00:00+00:00\", \"2014-02-10T00:00:00+00:00\", \"2014-02-17T00:00:00+00:00\", \"2014-02-24T00:00:00+00:00\", \"2014-03-03T00:00:00+00:00\", \"2014-03-10T00:00:00+00:00\", \"2014-03-17T00:00:00+00:00\", \"2014-03-24T00:00:00+00:00\", \"2014-03-31T00:00:00+00:00\", \"2014-04-07T00:00:00+00:00\", \"2014-04-14T00:00:00+00:00\", \"2014-04-21T00:00:00+00:00\", \"2014-04-28T00:00:00+00:00\", \"2014-05-05T00:00:00+00:00\", \"2014-05-12T00:00:00+00:00\", \"2014-05-19T00:00:00+00:00\", \"2014-05-26T00:00:00+00:00\", \"2014-06-02T00:00:00+00:00\", \"2014-06-09T00:00:00+00:00\", \"2014-06-16T00:00:00+00:00\", \"2014-06-23T00:00:00+00:00\", \"2014-06-30T00:00:00+00:00\", \"2014-07-07T00:00:00+00:00\", \"2014-07-14T00:00:00+00:00\", \"2014-07-21T00:00:00+00:00\", \"2014-07-28T00:00:00+00:00\", \"2014-08-04T00:00:00+00:00\", \"2014-08-11T00:00:00+00:00\", \"2014-08-18T00:00:00+00:00\", \"2014-08-25T00:00:00+00:00\", \"2014-09-01T00:00:00+00:00\", \"2014-09-08T00:00:00+00:00\", \"2014-09-15T00:00:00+00:00\", \"2014-09-22T00:00:00+00:00\", \"2014-09-29T00:00:00+00:00\", \"2014-10-06T00:00:00+00:00\", \"2014-10-13T00:00:00+00:00\", \"2014-10-20T00:00:00+00:00\", \"2014-10-27T00:00:00+00:00\", \"2014-11-03T00:00:00+00:00\", \"2014-11-10T00:00:00+00:00\", \"2014-11-17T00:00:00+00:00\", \"2014-11-24T00:00:00+00:00\", \"2014-12-01T00:00:00+00:00\", \"2014-12-08T00:00:00+00:00\", \"2014-12-15T00:00:00+00:00\", \"2014-12-22T00:00:00+00:00\", \"2014-12-29T00:00:00+00:00\", \"2015-01-05T00:00:00+00:00\", \"2015-01-12T00:00:00+00:00\", \"2015-01-19T00:00:00+00:00\", \"2015-01-26T00:00:00+00:00\", \"2015-02-02T00:00:00+00:00\", \"2015-02-09T00:00:00+00:00\", \"2015-02-16T00:00:00+00:00\", \"2015-02-23T00:00:00+00:00\", \"2015-03-02T00:00:00+00:00\", \"2015-03-09T00:00:00+00:00\", \"2015-03-16T00:00:00+00:00\", \"2015-03-23T00:00:00+00:00\", \"2015-03-30T00:00:00+00:00\", \"2015-04-06T00:00:00+00:00\", \"2015-04-13T00:00:00+00:00\", \"2015-04-20T00:00:00+00:00\", \"2015-04-27T00:00:00+00:00\", \"2015-05-04T00:00:00+00:00\", \"2015-05-11T00:00:00+00:00\", \"2015-05-18T00:00:00+00:00\", \"2015-05-25T00:00:00+00:00\", \"2015-06-01T00:00:00+00:00\", \"2015-06-08T00:00:00+00:00\", \"2015-06-15T00:00:00+00:00\", \"2015-06-22T00:00:00+00:00\", \"2015-06-29T00:00:00+00:00\", \"2015-07-06T00:00:00+00:00\", \"2015-07-13T00:00:00+00:00\", \"2015-07-20T00:00:00+00:00\", \"2015-07-27T00:00:00+00:00\", \"2015-08-03T00:00:00+00:00\", \"2015-08-10T00:00:00+00:00\", \"2015-08-17T00:00:00+00:00\", \"2015-08-24T00:00:00+00:00\", \"2015-08-31T00:00:00+00:00\", \"2015-09-07T00:00:00+00:00\", \"2015-09-14T00:00:00+00:00\", \"2015-09-21T00:00:00+00:00\", \"2015-09-28T00:00:00+00:00\", \"2015-10-05T00:00:00+00:00\", \"2015-10-12T00:00:00+00:00\", \"2015-10-19T00:00:00+00:00\", \"2015-10-26T00:00:00+00:00\", \"2015-11-02T00:00:00+00:00\", \"2015-11-09T00:00:00+00:00\", \"2015-11-16T00:00:00+00:00\", \"2015-11-23T00:00:00+00:00\", \"2015-11-30T00:00:00+00:00\", \"2015-12-07T00:00:00+00:00\", \"2015-12-14T00:00:00+00:00\", \"2015-12-21T00:00:00+00:00\", \"2015-12-28T00:00:00+00:00\", \"2016-01-04T00:00:00+00:00\", \"2016-01-11T00:00:00+00:00\", \"2016-01-18T00:00:00+00:00\", \"2016-01-25T00:00:00+00:00\", \"2016-02-01T00:00:00+00:00\", \"2016-02-08T00:00:00+00:00\", \"2016-02-15T00:00:00+00:00\", \"2016-02-22T00:00:00+00:00\", \"2016-02-29T00:00:00+00:00\", \"2016-03-07T00:00:00+00:00\", \"2016-03-14T00:00:00+00:00\", \"2016-03-21T00:00:00+00:00\", \"2016-03-28T00:00:00+00:00\", \"2016-04-04T00:00:00+00:00\", \"2016-04-11T00:00:00+00:00\", \"2016-04-18T00:00:00+00:00\", \"2016-04-25T00:00:00+00:00\", \"2016-05-02T00:00:00+00:00\", \"2016-05-09T00:00:00+00:00\", \"2016-05-16T00:00:00+00:00\", \"2016-05-23T00:00:00+00:00\", \"2016-05-30T00:00:00+00:00\", \"2016-06-06T00:00:00+00:00\", \"2016-06-13T00:00:00+00:00\", \"2016-06-20T00:00:00+00:00\", \"2016-06-27T00:00:00+00:00\", \"2016-07-04T00:00:00+00:00\", \"2016-07-11T00:00:00+00:00\", \"2016-07-18T00:00:00+00:00\", \"2016-07-25T00:00:00+00:00\", \"2016-08-01T00:00:00+00:00\", \"2016-08-08T00:00:00+00:00\", \"2016-08-15T00:00:00+00:00\", \"2016-08-22T00:00:00+00:00\", \"2016-08-29T00:00:00+00:00\", \"2016-09-05T00:00:00+00:00\", \"2016-09-12T00:00:00+00:00\", \"2016-09-19T00:00:00+00:00\", \"2016-09-26T00:00:00+00:00\", \"2016-10-03T00:00:00+00:00\", \"2016-10-10T00:00:00+00:00\", \"2016-10-17T00:00:00+00:00\", \"2016-10-24T00:00:00+00:00\", \"2016-10-31T00:00:00+00:00\", \"2016-11-07T00:00:00+00:00\", \"2016-11-14T00:00:00+00:00\", \"2016-11-21T00:00:00+00:00\", \"2016-11-28T00:00:00+00:00\", \"2016-12-05T00:00:00+00:00\", \"2016-12-12T00:00:00+00:00\", \"2016-12-19T00:00:00+00:00\", \"2016-12-26T00:00:00+00:00\", \"2017-01-02T00:00:00+00:00\", \"2017-01-09T00:00:00+00:00\", \"2017-01-16T00:00:00+00:00\", \"2017-01-23T00:00:00+00:00\", \"2017-01-30T00:00:00+00:00\", \"2017-02-06T00:00:00+00:00\", \"2017-02-13T00:00:00+00:00\", \"2017-02-20T00:00:00+00:00\", \"2017-02-27T00:00:00+00:00\", \"2017-03-06T00:00:00+00:00\", \"2017-03-13T00:00:00+00:00\", \"2017-03-20T00:00:00+00:00\", \"2017-03-27T00:00:00+00:00\", \"2017-04-03T00:00:00+00:00\", \"2017-04-10T00:00:00+00:00\", \"2017-04-17T00:00:00+00:00\", \"2017-04-24T00:00:00+00:00\", \"2017-05-01T00:00:00+00:00\", \"2017-05-08T00:00:00+00:00\", \"2017-05-15T00:00:00+00:00\", \"2017-05-22T00:00:00+00:00\", \"2017-05-29T00:00:00+00:00\", \"2017-06-05T00:00:00+00:00\", \"2017-06-12T00:00:00+00:00\", \"2017-06-19T00:00:00+00:00\", \"2017-06-26T00:00:00+00:00\", \"2017-07-03T00:00:00+00:00\", \"2017-07-10T00:00:00+00:00\", \"2017-07-17T00:00:00+00:00\", \"2017-07-24T00:00:00+00:00\", \"2017-07-31T00:00:00+00:00\", \"2017-08-07T00:00:00+00:00\", \"2017-08-14T00:00:00+00:00\", \"2017-08-21T00:00:00+00:00\", \"2017-08-28T00:00:00+00:00\", \"2017-09-04T00:00:00+00:00\", \"2017-09-11T00:00:00+00:00\", \"2017-09-18T00:00:00+00:00\", \"2017-09-25T00:00:00+00:00\", \"2017-10-02T00:00:00+00:00\", \"2017-10-09T00:00:00+00:00\", \"2017-10-16T00:00:00+00:00\", \"2017-10-23T00:00:00+00:00\", \"2017-10-30T00:00:00+00:00\", \"2017-11-06T00:00:00+00:00\", \"2017-11-13T00:00:00+00:00\", \"2017-11-20T00:00:00+00:00\", \"2017-11-27T00:00:00+00:00\", \"2017-12-04T00:00:00+00:00\", \"2017-12-11T00:00:00+00:00\", \"2017-12-18T00:00:00+00:00\", \"2017-12-25T00:00:00+00:00\", \"2018-01-01T00:00:00+00:00\", \"2018-01-08T00:00:00+00:00\", \"2018-01-15T00:00:00+00:00\", \"2018-01-22T00:00:00+00:00\", \"2018-01-29T00:00:00+00:00\", \"2018-02-05T00:00:00+00:00\", \"2018-02-12T00:00:00+00:00\", \"2018-02-19T00:00:00+00:00\", \"2018-02-26T00:00:00+00:00\", \"2018-03-05T00:00:00+00:00\", \"2018-03-12T00:00:00+00:00\", \"2018-03-19T00:00:00+00:00\", \"2018-03-26T00:00:00+00:00\", \"2018-04-02T00:00:00+00:00\", \"2018-04-09T00:00:00+00:00\", \"2018-04-16T00:00:00+00:00\", \"2018-04-23T00:00:00+00:00\", \"2018-04-30T00:00:00+00:00\", \"2018-05-07T00:00:00+00:00\", \"2018-05-14T00:00:00+00:00\", \"2018-05-21T00:00:00+00:00\", \"2018-05-28T00:00:00+00:00\", \"2018-06-04T00:00:00+00:00\", \"2018-06-11T00:00:00+00:00\", \"2018-06-18T00:00:00+00:00\", \"2018-06-25T00:00:00+00:00\", \"2018-07-02T00:00:00+00:00\", \"2018-07-09T00:00:00+00:00\", \"2018-07-16T00:00:00+00:00\", \"2018-07-23T00:00:00+00:00\", \"2018-07-30T00:00:00+00:00\", \"2018-08-06T00:00:00+00:00\", \"2018-08-13T00:00:00+00:00\", \"2018-08-20T00:00:00+00:00\", \"2018-08-27T00:00:00+00:00\", \"2018-09-03T00:00:00+00:00\", \"2018-09-10T00:00:00+00:00\", \"2018-09-17T00:00:00+00:00\", \"2018-09-24T00:00:00+00:00\", \"2018-10-01T00:00:00+00:00\", \"2018-10-08T00:00:00+00:00\", \"2018-10-15T00:00:00+00:00\", \"2018-10-22T00:00:00+00:00\", \"2018-10-29T00:00:00+00:00\", \"2018-11-05T00:00:00+00:00\", \"2018-11-12T00:00:00+00:00\", \"2018-11-19T00:00:00+00:00\", \"2018-11-26T00:00:00+00:00\", \"2018-12-03T00:00:00+00:00\", \"2018-12-10T00:00:00+00:00\", \"2018-12-17T00:00:00+00:00\", \"2018-12-24T00:00:00+00:00\", \"2018-12-31T00:00:00+00:00\", \"2019-01-07T00:00:00+00:00\", \"2019-01-14T00:00:00+00:00\", \"2019-01-21T00:00:00+00:00\", \"2019-01-28T00:00:00+00:00\", \"2019-02-04T00:00:00+00:00\", \"2019-02-11T00:00:00+00:00\", \"2019-02-18T00:00:00+00:00\", \"2019-02-25T00:00:00+00:00\", \"2019-03-04T00:00:00+00:00\", \"2019-03-11T00:00:00+00:00\", \"2019-03-18T00:00:00+00:00\", \"2019-03-25T00:00:00+00:00\", \"2019-04-01T00:00:00+00:00\", \"2019-04-08T00:00:00+00:00\", \"2019-04-15T00:00:00+00:00\", \"2019-04-22T00:00:00+00:00\", \"2019-04-29T00:00:00+00:00\", \"2019-05-06T00:00:00+00:00\", \"2019-05-13T00:00:00+00:00\", \"2019-05-20T00:00:00+00:00\", \"2019-05-27T00:00:00+00:00\", \"2019-06-03T00:00:00+00:00\", \"2019-06-10T00:00:00+00:00\", \"2019-06-17T00:00:00+00:00\", \"2019-06-24T00:00:00+00:00\", \"2019-07-01T00:00:00+00:00\", \"2019-07-08T00:00:00+00:00\", \"2019-07-15T00:00:00+00:00\", \"2019-07-22T00:00:00+00:00\", \"2019-07-29T00:00:00+00:00\", \"2019-08-05T00:00:00+00:00\", \"2019-08-12T00:00:00+00:00\", \"2019-08-19T00:00:00+00:00\", \"2019-08-26T00:00:00+00:00\", \"2019-09-02T00:00:00+00:00\", \"2019-09-09T00:00:00+00:00\", \"2019-09-16T00:00:00+00:00\", \"2019-09-23T00:00:00+00:00\", \"2019-09-30T00:00:00+00:00\", \"2019-10-07T00:00:00+00:00\", \"2019-10-14T00:00:00+00:00\", \"2019-10-21T00:00:00+00:00\", \"2019-10-28T00:00:00+00:00\", \"2019-11-04T00:00:00+00:00\", \"2019-11-11T00:00:00+00:00\", \"2019-11-18T00:00:00+00:00\", \"2019-11-25T00:00:00+00:00\", \"2019-12-02T00:00:00+00:00\", \"2019-12-09T00:00:00+00:00\", \"2019-12-16T00:00:00+00:00\", \"2019-12-23T00:00:00+00:00\", \"2019-12-30T00:00:00+00:00\", \"2020-01-06T00:00:00+00:00\", \"2020-01-13T00:00:00+00:00\", \"2020-01-20T00:00:00+00:00\", \"2020-01-27T00:00:00+00:00\", \"2020-02-03T00:00:00+00:00\", \"2020-02-10T00:00:00+00:00\", \"2020-02-17T00:00:00+00:00\", \"2020-02-24T00:00:00+00:00\", \"2020-03-02T00:00:00+00:00\", \"2020-03-09T00:00:00+00:00\", \"2020-03-16T00:00:00+00:00\", \"2020-03-23T00:00:00+00:00\", \"2020-03-30T00:00:00+00:00\", \"2020-04-06T00:00:00+00:00\", \"2020-04-13T00:00:00+00:00\", \"2020-04-20T00:00:00+00:00\", \"2020-04-27T00:00:00+00:00\", \"2020-05-04T00:00:00+00:00\", \"2020-05-11T00:00:00+00:00\", \"2020-05-18T00:00:00+00:00\", \"2020-05-25T00:00:00+00:00\", \"2020-06-01T00:00:00+00:00\", \"2020-06-08T00:00:00+00:00\", \"2020-06-15T00:00:00+00:00\", \"2020-06-22T00:00:00+00:00\", \"2020-06-29T00:00:00+00:00\", \"2020-07-06T00:00:00+00:00\", \"2020-07-13T00:00:00+00:00\", \"2020-07-20T00:00:00+00:00\", \"2020-07-27T00:00:00+00:00\", \"2020-08-03T00:00:00+00:00\", \"2020-08-10T00:00:00+00:00\", \"2020-08-17T00:00:00+00:00\", \"2020-08-24T00:00:00+00:00\", \"2020-08-31T00:00:00+00:00\", \"2020-09-07T00:00:00+00:00\", \"2020-09-14T00:00:00+00:00\"], \"y\": [734.86967854, 0.0, 812.90189573, 828.2, 786.47078211, 811.36535519, 661.09862405, 641.89006334, 549.23112727, 672.85427825, 622.9, 626.74852125, 573.82597654, 458.18649963, 447.9, 457.88352669, 494.03515266, 446.91634505, 0.0, 0.0, 446.02853394, 585.52, 632.93865204, 649.90443899, 595.25, 588.24415179, 621.85091176, 624.92855647, 622.97, 619.5, 588.44, 592.97774208, 578.86128368, 463.13121519, 503.99, 481.47916026, 474.38, 475.52145861, 400.74448006, 380.10698657, 333.99, 380.49, 383.60197276, 354.94575776, 327.08181903, 374.80483675, 382.64396714, 385.26954171, 378.17, 366.99148392, 351.9600724, 332.97787624, 313.90012512, 287.20942631, 271.62836505, 212.32460287, 270.07706165, 225.89857594, 220.03176186, 236.7150491, 236.99052191, 0.0, 285.14025421, 290.89905018, 264.95370852, 245.23030241, 0.0, 226.10804767, 0.0, 222.46372847, 236.23079040000002, 0.0, 235.95010702, 236.21263235, 221.94515384, 227.96963424, 236.66330495, 246.49162863, 254.1591821, 272.31244942, 289.05, 277.87, 292.16252407, 0.0, 0.0, 257.01481433, 213.60849266, 0.0, 240.08917794, 231.07307424, 0.0, 238.6, 239.47325311, 246.18, 263.68609092, 285.24658442, 342.47328519, 377.76088401, 330.09, 0.0, 373.0, 396.32, 445.36830717, 0.0, 423.74787232, 433.52, 447.70841609, 385.92016856, 387.74445311, 373.34, 375.0, 400.38783251, 438.45, 435.08467477, 411.53662605, 0.0, 410.41507, 422.25, 418.94, 0.0, 427.17080786, 463.0, 0.0, 463.88140360000006, 0.0, 442.70860229, 531.80637724, 584.0009464999999, 691.21421053, 739.73255733, 636.96689493, 668.39851871, 0.0, 0.0, 0.0, 613.43759191, 590.98983616, 0.0, 0.0, 574.09375919, 0.0, 604.71373183, 607.94, 604.12823351, 610.57319641, 614.61217392, 0.0, 649.15919056, 704.95478452, 0.0, 698.45, 736.77987494, 0.0, 750.06602605, 0.0, 790.59571128, 899.88, 1022.0, 888.52, 828.46082548, 919.43, 0.0, 1018.5594811000001, 997.3, 1060.7922583, 1190.33, 0.0, 1238.0, 0.0, 1024.9837644, 1130.7237, 1209.859059, 1178.9979114, 1249.9647897, 1403.953043, 1583.8268194, 1719.9981581, 2206.9661348, 2300.58139, 2624.4112010000003, 2572.6534863, 2584.0913489, 2365.4766105, 2539.6576875, 2402.5007464, 2131.5316377, 2728.1367921, 2795.9185540999997, 3345.8840434999997, 4280.4262067, 3991.1966851999996, 4332.48, 4148.7966261, 4227.8398816, 4022.9885780999994, 3918.6799211999996, 4378.33, 4687.270385899999, 5679.1709696, 5817.5604236, 6126.2099892, 7057.1608741, 6347.4737115, 8200.0576248, 9549.999688400001, 11191.546554, 16323.17181, 18458.995165, 14041.606616, 13257.485323, 15081.304147, 13984.682181999999, 10660.506157, 11197.216468, 6953.5385715, 8654.630916, 11045.137231, 10233.615484, 11510.895816, 9227.849455, 8380.2723107, 7894.9539263, 6967.0551368, 6741.594748899999, 8026.5279977, 8908.571455500001, 9349.2177711, 9355.977635, 8746.916997700002, 8350.6067866, 7240.1445373999995, 7481.691393699999, 6708.4190493999995, 6741.2131148, 6281.8723346, 6614.356769399999, 6696.0245049, 6691.9407863999995, 7789.7334992, 7921.5754782, 6906.8599248, 6222.3010011999995, 6472.467439999999, 6727.307125599999, 7270.591337299999, 6264.3174415, 6309.45, 6641.406001199999, 6575.3495648, 6610.3583133, 6401.906755100001, 6394.5146513, 6262.0, 6388.8, 6333.3124622000005, 5001.8353132, 3742.0904539000003, 3834.0459099, 3423.7957621, 3443.2546345, 4070.1737493, 3750.64, 4020.2945296999997, 3686.992486, 3531.0869205, 3421.3595308, 3417.1988019, 3591.5, 3887.7332305, 3843.0476608999998, 3706.1903828, 3854.38, 3964.4549026999994, 3929.2370196999996, 4131.7705549, 5218.8364836, 5042.6190353, 5371.059950399999, 5138.3256455, 5709.162307500001, 7888.7785865999995, 7789.434721199999, 8761.2685636, 8519.463554, 7955.029920999999, 9249.1595775, 11018.243969, 10242.172594, 11869.788551, 10777.321637000001, 10263.980465999999, 9477.813401700001, 11814.604164, 11370.369777, 10713.198597, 10296.463673, 10161.072462, 10258.697723000001, 10126.193301000001, 9810.1772706, 8309.0983007, 8267.741147300001, 8352.785133, 8183.514317800001, 9495.5304748, 9296.5560001, 8732.1403981, 8137.3435566, 7264.034525399999, 7271.417717899999, 7445.4685856999995, 6994.1442087, 7428.621235, 7233.864362199999, 7542.8671362000005, 8089.1595558, 8650.1214259, 8762.3934847, 9250.438143700001, 9843.260814899999, 9606.8430105, 9528.2082496, 8889.506577299999, 7757.1109153, 5072.328717, 6310.78508, 6353.3387, 7206.896592199999, 6788.3751905, 6864.9187325, 7689.872773800001, 8842.9762116, 8503.729267899998, 9616.655644700002, 8890.0822677, 9567.4, 9730.445939700001, 9389.359035899999, 9582.2408325, 9148.88, 9302.5046994, 9283.19, 9186.294645200001, 10805.154923, 11404.683213, 11892.296693, 12350.647549, 11719.191401, 11730.13, 10195.897418]}],                        {\"template\": {\"data\": {\"bar\": [{\"error_x\": {\"color\": \"#2a3f5f\"}, \"error_y\": {\"color\": \"#2a3f5f\"}, \"marker\": {\"line\": {\"color\": \"#E5ECF6\", \"width\": 0.5}}, \"type\": \"bar\"}], \"barpolar\": [{\"marker\": {\"line\": {\"color\": \"#E5ECF6\", \"width\": 0.5}}, \"type\": \"barpolar\"}], \"carpet\": [{\"aaxis\": {\"endlinecolor\": \"#2a3f5f\", \"gridcolor\": \"white\", \"linecolor\": \"white\", \"minorgridcolor\": \"white\", \"startlinecolor\": \"#2a3f5f\"}, \"baxis\": {\"endlinecolor\": \"#2a3f5f\", \"gridcolor\": \"white\", \"linecolor\": \"white\", \"minorgridcolor\": \"white\", \"startlinecolor\": \"#2a3f5f\"}, \"type\": \"carpet\"}], \"choropleth\": [{\"colorbar\": {\"outlinewidth\": 0, \"ticks\": \"\"}, \"type\": \"choropleth\"}], \"contour\": [{\"colorbar\": {\"outlinewidth\": 0, \"ticks\": \"\"}, \"colorscale\": [[0.0, \"#0d0887\"], [0.1111111111111111, \"#46039f\"], [0.2222222222222222, \"#7201a8\"], [0.3333333333333333, \"#9c179e\"], [0.4444444444444444, \"#bd3786\"], [0.5555555555555556, \"#d8576b\"], [0.6666666666666666, \"#ed7953\"], [0.7777777777777778, \"#fb9f3a\"], [0.8888888888888888, \"#fdca26\"], [1.0, \"#f0f921\"]], \"type\": \"contour\"}], \"contourcarpet\": [{\"colorbar\": {\"outlinewidth\": 0, \"ticks\": \"\"}, \"type\": \"contourcarpet\"}], \"heatmap\": [{\"colorbar\": {\"outlinewidth\": 0, \"ticks\": \"\"}, \"colorscale\": [[0.0, \"#0d0887\"], [0.1111111111111111, \"#46039f\"], [0.2222222222222222, \"#7201a8\"], [0.3333333333333333, \"#9c179e\"], [0.4444444444444444, \"#bd3786\"], [0.5555555555555556, \"#d8576b\"], [0.6666666666666666, \"#ed7953\"], [0.7777777777777778, \"#fb9f3a\"], [0.8888888888888888, \"#fdca26\"], [1.0, \"#f0f921\"]], \"type\": \"heatmap\"}], \"heatmapgl\": [{\"colorbar\": {\"outlinewidth\": 0, \"ticks\": \"\"}, \"colorscale\": [[0.0, \"#0d0887\"], [0.1111111111111111, \"#46039f\"], [0.2222222222222222, \"#7201a8\"], [0.3333333333333333, \"#9c179e\"], [0.4444444444444444, \"#bd3786\"], [0.5555555555555556, \"#d8576b\"], [0.6666666666666666, \"#ed7953\"], [0.7777777777777778, \"#fb9f3a\"], [0.8888888888888888, \"#fdca26\"], [1.0, \"#f0f921\"]], \"type\": \"heatmapgl\"}], \"histogram\": [{\"marker\": {\"colorbar\": {\"outlinewidth\": 0, \"ticks\": \"\"}}, \"type\": \"histogram\"}], \"histogram2d\": [{\"colorbar\": {\"outlinewidth\": 0, \"ticks\": \"\"}, \"colorscale\": [[0.0, \"#0d0887\"], [0.1111111111111111, \"#46039f\"], [0.2222222222222222, \"#7201a8\"], [0.3333333333333333, \"#9c179e\"], [0.4444444444444444, \"#bd3786\"], [0.5555555555555556, \"#d8576b\"], [0.6666666666666666, \"#ed7953\"], [0.7777777777777778, \"#fb9f3a\"], [0.8888888888888888, \"#fdca26\"], [1.0, \"#f0f921\"]], \"type\": \"histogram2d\"}], \"histogram2dcontour\": [{\"colorbar\": {\"outlinewidth\": 0, \"ticks\": \"\"}, \"colorscale\": [[0.0, \"#0d0887\"], [0.1111111111111111, \"#46039f\"], [0.2222222222222222, \"#7201a8\"], [0.3333333333333333, \"#9c179e\"], [0.4444444444444444, \"#bd3786\"], [0.5555555555555556, \"#d8576b\"], [0.6666666666666666, \"#ed7953\"], [0.7777777777777778, \"#fb9f3a\"], [0.8888888888888888, \"#fdca26\"], [1.0, \"#f0f921\"]], \"type\": \"histogram2dcontour\"}], \"mesh3d\": [{\"colorbar\": {\"outlinewidth\": 0, \"ticks\": \"\"}, \"type\": \"mesh3d\"}], \"parcoords\": [{\"line\": {\"colorbar\": {\"outlinewidth\": 0, \"ticks\": \"\"}}, \"type\": \"parcoords\"}], \"pie\": [{\"automargin\": true, \"type\": \"pie\"}], \"scatter\": [{\"marker\": {\"colorbar\": {\"outlinewidth\": 0, \"ticks\": \"\"}}, \"type\": \"scatter\"}], \"scatter3d\": [{\"line\": {\"colorbar\": {\"outlinewidth\": 0, \"ticks\": \"\"}}, \"marker\": {\"colorbar\": {\"outlinewidth\": 0, \"ticks\": \"\"}}, \"type\": \"scatter3d\"}], \"scattercarpet\": [{\"marker\": {\"colorbar\": {\"outlinewidth\": 0, \"ticks\": \"\"}}, \"type\": \"scattercarpet\"}], \"scattergeo\": [{\"marker\": {\"colorbar\": {\"outlinewidth\": 0, \"ticks\": \"\"}}, \"type\": \"scattergeo\"}], \"scattergl\": [{\"marker\": {\"colorbar\": {\"outlinewidth\": 0, \"ticks\": \"\"}}, \"type\": \"scattergl\"}], \"scattermapbox\": [{\"marker\": {\"colorbar\": {\"outlinewidth\": 0, \"ticks\": \"\"}}, \"type\": \"scattermapbox\"}], \"scatterpolar\": [{\"marker\": {\"colorbar\": {\"outlinewidth\": 0, \"ticks\": \"\"}}, \"type\": \"scatterpolar\"}], \"scatterpolargl\": [{\"marker\": {\"colorbar\": {\"outlinewidth\": 0, \"ticks\": \"\"}}, \"type\": \"scatterpolargl\"}], \"scatterternary\": [{\"marker\": {\"colorbar\": {\"outlinewidth\": 0, \"ticks\": \"\"}}, \"type\": \"scatterternary\"}], \"surface\": [{\"colorbar\": {\"outlinewidth\": 0, \"ticks\": \"\"}, \"colorscale\": [[0.0, \"#0d0887\"], [0.1111111111111111, \"#46039f\"], [0.2222222222222222, \"#7201a8\"], [0.3333333333333333, \"#9c179e\"], [0.4444444444444444, \"#bd3786\"], [0.5555555555555556, \"#d8576b\"], [0.6666666666666666, \"#ed7953\"], [0.7777777777777778, \"#fb9f3a\"], [0.8888888888888888, \"#fdca26\"], [1.0, \"#f0f921\"]], \"type\": \"surface\"}], \"table\": [{\"cells\": {\"fill\": {\"color\": \"#EBF0F8\"}, \"line\": {\"color\": \"white\"}}, \"header\": {\"fill\": {\"color\": \"#C8D4E3\"}, \"line\": {\"color\": \"white\"}}, \"type\": \"table\"}]}, \"layout\": {\"annotationdefaults\": {\"arrowcolor\": \"#2a3f5f\", \"arrowhead\": 0, \"arrowwidth\": 1}, \"coloraxis\": {\"colorbar\": {\"outlinewidth\": 0, \"ticks\": \"\"}}, \"colorscale\": {\"diverging\": [[0, \"#8e0152\"], [0.1, \"#c51b7d\"], [0.2, \"#de77ae\"], [0.3, \"#f1b6da\"], [0.4, \"#fde0ef\"], [0.5, \"#f7f7f7\"], [0.6, \"#e6f5d0\"], [0.7, \"#b8e186\"], [0.8, \"#7fbc41\"], [0.9, \"#4d9221\"], [1, \"#276419\"]], \"sequential\": [[0.0, \"#0d0887\"], [0.1111111111111111, \"#46039f\"], [0.2222222222222222, \"#7201a8\"], [0.3333333333333333, \"#9c179e\"], [0.4444444444444444, \"#bd3786\"], [0.5555555555555556, \"#d8576b\"], [0.6666666666666666, \"#ed7953\"], [0.7777777777777778, \"#fb9f3a\"], [0.8888888888888888, \"#fdca26\"], [1.0, \"#f0f921\"]], \"sequentialminus\": [[0.0, \"#0d0887\"], [0.1111111111111111, \"#46039f\"], [0.2222222222222222, \"#7201a8\"], [0.3333333333333333, \"#9c179e\"], [0.4444444444444444, \"#bd3786\"], [0.5555555555555556, \"#d8576b\"], [0.6666666666666666, \"#ed7953\"], [0.7777777777777778, \"#fb9f3a\"], [0.8888888888888888, \"#fdca26\"], [1.0, \"#f0f921\"]]}, \"colorway\": [\"#636efa\", \"#EF553B\", \"#00cc96\", \"#ab63fa\", \"#FFA15A\", \"#19d3f3\", \"#FF6692\", \"#B6E880\", \"#FF97FF\", \"#FECB52\"], \"font\": {\"color\": \"#2a3f5f\"}, \"geo\": {\"bgcolor\": \"white\", \"lakecolor\": \"white\", \"landcolor\": \"#E5ECF6\", \"showlakes\": true, \"showland\": true, \"subunitcolor\": \"white\"}, \"hoverlabel\": {\"align\": \"left\"}, \"hovermode\": \"closest\", \"mapbox\": {\"style\": \"light\"}, \"paper_bgcolor\": \"white\", \"plot_bgcolor\": \"#E5ECF6\", \"polar\": {\"angularaxis\": {\"gridcolor\": \"white\", \"linecolor\": \"white\", \"ticks\": \"\"}, \"bgcolor\": \"#E5ECF6\", \"radialaxis\": {\"gridcolor\": \"white\", \"linecolor\": \"white\", \"ticks\": \"\"}}, \"scene\": {\"xaxis\": {\"backgroundcolor\": \"#E5ECF6\", \"gridcolor\": \"white\", \"gridwidth\": 2, \"linecolor\": \"white\", \"showbackground\": true, \"ticks\": \"\", \"zerolinecolor\": \"white\"}, \"yaxis\": {\"backgroundcolor\": \"#E5ECF6\", \"gridcolor\": \"white\", \"gridwidth\": 2, \"linecolor\": \"white\", \"showbackground\": true, \"ticks\": \"\", \"zerolinecolor\": \"white\"}, \"zaxis\": {\"backgroundcolor\": \"#E5ECF6\", \"gridcolor\": \"white\", \"gridwidth\": 2, \"linecolor\": \"white\", \"showbackground\": true, \"ticks\": \"\", \"zerolinecolor\": \"white\"}}, \"shapedefaults\": {\"line\": {\"color\": \"#2a3f5f\"}}, \"ternary\": {\"aaxis\": {\"gridcolor\": \"white\", \"linecolor\": \"white\", \"ticks\": \"\"}, \"baxis\": {\"gridcolor\": \"white\", \"linecolor\": \"white\", \"ticks\": \"\"}, \"bgcolor\": \"#E5ECF6\", \"caxis\": {\"gridcolor\": \"white\", \"linecolor\": \"white\", \"ticks\": \"\"}}, \"title\": {\"x\": 0.05}, \"xaxis\": {\"automargin\": true, \"gridcolor\": \"white\", \"linecolor\": \"white\", \"ticks\": \"\", \"title\": {\"standoff\": 15}, \"zerolinecolor\": \"white\", \"zerolinewidth\": 2}, \"yaxis\": {\"automargin\": true, \"gridcolor\": \"white\", \"linecolor\": \"white\", \"ticks\": \"\", \"title\": {\"standoff\": 15}, \"zerolinecolor\": \"white\", \"zerolinewidth\": 2}}}, \"title\": {\"text\": \"Historical Bitcoin Prices (2014-2020) with the Slider \"}, \"xaxis\": {\"rangeselector\": {\"buttons\": [{\"count\": 1, \"label\": \"1m\", \"step\": \"month\", \"stepmode\": \"backward\"}, {\"count\": 6, \"label\": \"6m\", \"step\": \"month\", \"stepmode\": \"backward\"}, {\"count\": 12, \"label\": \"1y\", \"step\": \"month\", \"stepmode\": \"backward\"}, {\"count\": 36, \"label\": \"3y\", \"step\": \"month\", \"stepmode\": \"backward\"}, {\"count\": 60, \"label\": \"5y\", \"step\": \"month\", \"stepmode\": \"backward\"}, {\"step\": \"all\"}]}, \"rangeslider\": {\"visible\": true}, \"type\": \"date\"}},                        {\"responsive\": true}                    ).then(function(){\n",
       "                            \n",
       "var gd = document.getElementById('1c8c4dfb-d719-49ba-adcb-45f5d24f7339');\n",
       "var x = new MutationObserver(function (mutations, observer) {{\n",
       "        var display = window.getComputedStyle(gd).display;\n",
       "        if (!display || display === 'none') {{\n",
       "            console.log([gd, 'removed!']);\n",
       "            Plotly.purge(gd);\n",
       "            observer.disconnect();\n",
       "        }}\n",
       "}});\n",
       "\n",
       "// Listen for the removal of the full notebook cells\n",
       "var notebookContainer = gd.closest('#notebook-container');\n",
       "if (notebookContainer) {{\n",
       "    x.observe(notebookContainer, {childList: true});\n",
       "}}\n",
       "\n",
       "// Listen for the clearing of the current output cell\n",
       "var outputEl = gd.closest('.output');\n",
       "if (outputEl) {{\n",
       "    x.observe(outputEl, {childList: true});\n",
       "}}\n",
       "\n",
       "                        })                };                });            </script>        </div>"
      ]
     },
     "metadata": {},
     "output_type": "display_data"
    }
   ],
   "source": [
    "# We use Plotly to create the plots \n",
    "trace1 = go.Scatter(\n",
    "    x = weekly_rows['Timestamp'],\n",
    "    y = weekly_rows['Open'].astype(float),\n",
    "    mode = 'lines',\n",
    "    name = 'Open'\n",
    ")\n",
    "\n",
    "trace2 = go.Scatter(\n",
    "    x = weekly_rows['Timestamp'],\n",
    "    y = weekly_rows['Close'].astype(float),\n",
    "    mode = 'lines',\n",
    "    name = 'Close'\n",
    ")\n",
    "trace3 = go.Scatter(\n",
    "    x = weekly_rows['Timestamp'],\n",
    "    y = weekly_rows['Weighted_Price'].astype(float),\n",
    "    mode = 'lines',\n",
    "    name = 'Weighted Avg'\n",
    ")\n",
    "\n",
    "layout = dict(\n",
    "    title='Historical Bitcoin Prices (2014-2020) with the Slider ',\n",
    "    xaxis=dict(\n",
    "        rangeselector=dict(\n",
    "            buttons=list([\n",
    "                dict(count=1,\n",
    "                     label='1m',\n",
    "                     step='month',\n",
    "                     stepmode='backward'),\n",
    "                dict(count=6,\n",
    "                     label='6m',\n",
    "                     step='month',\n",
    "                     stepmode='backward'),\n",
    "                dict(count=12,\n",
    "                     label='1y',\n",
    "                     step='month',\n",
    "                     stepmode='backward'),\n",
    "                dict(count=36,\n",
    "                     label='3y',\n",
    "                     step='month',\n",
    "                     stepmode='backward'),\n",
    "                dict(count=60,\n",
    "                     label='5y',\n",
    "                     step='month',\n",
    "                     stepmode='backward'),\n",
    "                dict(step='all')\n",
    "            ])\n",
    "        ),\n",
    "        rangeslider=dict(\n",
    "            visible = True\n",
    "        ),\n",
    "        type='date'\n",
    "    )\n",
    ")\n",
    "\n",
    "data = [trace1,trace2, trace3]\n",
    "fig = dict(data=data, layout=layout)\n",
    "iplot(fig, filename = \"Time Series with Rangeslider\")"
   ]
  },
  {
   "cell_type": "code",
   "execution_count": 20,
   "metadata": {},
   "outputs": [
    {
     "data": {
      "application/vnd.plotly.v1+json": {
       "config": {
        "linkText": "Export to plot.ly",
        "plotlyServerURL": "https://plot.ly",
        "showLink": false
       },
       "data": [
        {
         "marker": {
          "color": "#FFBB33"
         },
         "mode": "lines",
         "name": "Currency",
         "type": "scatter",
         "x": [
          "2014-01-06T00:00:00+00:00",
          "2014-01-13T00:00:00+00:00",
          "2014-01-20T00:00:00+00:00",
          "2014-01-27T00:00:00+00:00",
          "2014-02-03T00:00:00+00:00",
          "2014-02-10T00:00:00+00:00",
          "2014-02-17T00:00:00+00:00",
          "2014-02-24T00:00:00+00:00",
          "2014-03-03T00:00:00+00:00",
          "2014-03-10T00:00:00+00:00",
          "2014-03-17T00:00:00+00:00",
          "2014-03-24T00:00:00+00:00",
          "2014-03-31T00:00:00+00:00",
          "2014-04-07T00:00:00+00:00",
          "2014-04-14T00:00:00+00:00",
          "2014-04-21T00:00:00+00:00",
          "2014-04-28T00:00:00+00:00",
          "2014-05-05T00:00:00+00:00",
          "2014-05-12T00:00:00+00:00",
          "2014-05-19T00:00:00+00:00",
          "2014-05-26T00:00:00+00:00",
          "2014-06-02T00:00:00+00:00",
          "2014-06-09T00:00:00+00:00",
          "2014-06-16T00:00:00+00:00",
          "2014-06-23T00:00:00+00:00",
          "2014-06-30T00:00:00+00:00",
          "2014-07-07T00:00:00+00:00",
          "2014-07-14T00:00:00+00:00",
          "2014-07-21T00:00:00+00:00",
          "2014-07-28T00:00:00+00:00",
          "2014-08-04T00:00:00+00:00",
          "2014-08-11T00:00:00+00:00",
          "2014-08-18T00:00:00+00:00",
          "2014-08-25T00:00:00+00:00",
          "2014-09-01T00:00:00+00:00",
          "2014-09-08T00:00:00+00:00",
          "2014-09-15T00:00:00+00:00",
          "2014-09-22T00:00:00+00:00",
          "2014-09-29T00:00:00+00:00",
          "2014-10-06T00:00:00+00:00",
          "2014-10-13T00:00:00+00:00",
          "2014-10-20T00:00:00+00:00",
          "2014-10-27T00:00:00+00:00",
          "2014-11-03T00:00:00+00:00",
          "2014-11-10T00:00:00+00:00",
          "2014-11-17T00:00:00+00:00",
          "2014-11-24T00:00:00+00:00",
          "2014-12-01T00:00:00+00:00",
          "2014-12-08T00:00:00+00:00",
          "2014-12-15T00:00:00+00:00",
          "2014-12-22T00:00:00+00:00",
          "2014-12-29T00:00:00+00:00",
          "2015-01-05T00:00:00+00:00",
          "2015-01-12T00:00:00+00:00",
          "2015-01-19T00:00:00+00:00",
          "2015-01-26T00:00:00+00:00",
          "2015-02-02T00:00:00+00:00",
          "2015-02-09T00:00:00+00:00",
          "2015-02-16T00:00:00+00:00",
          "2015-02-23T00:00:00+00:00",
          "2015-03-02T00:00:00+00:00",
          "2015-03-09T00:00:00+00:00",
          "2015-03-16T00:00:00+00:00",
          "2015-03-23T00:00:00+00:00",
          "2015-03-30T00:00:00+00:00",
          "2015-04-06T00:00:00+00:00",
          "2015-04-13T00:00:00+00:00",
          "2015-04-20T00:00:00+00:00",
          "2015-04-27T00:00:00+00:00",
          "2015-05-04T00:00:00+00:00",
          "2015-05-11T00:00:00+00:00",
          "2015-05-18T00:00:00+00:00",
          "2015-05-25T00:00:00+00:00",
          "2015-06-01T00:00:00+00:00",
          "2015-06-08T00:00:00+00:00",
          "2015-06-15T00:00:00+00:00",
          "2015-06-22T00:00:00+00:00",
          "2015-06-29T00:00:00+00:00",
          "2015-07-06T00:00:00+00:00",
          "2015-07-13T00:00:00+00:00",
          "2015-07-20T00:00:00+00:00",
          "2015-07-27T00:00:00+00:00",
          "2015-08-03T00:00:00+00:00",
          "2015-08-10T00:00:00+00:00",
          "2015-08-17T00:00:00+00:00",
          "2015-08-24T00:00:00+00:00",
          "2015-08-31T00:00:00+00:00",
          "2015-09-07T00:00:00+00:00",
          "2015-09-14T00:00:00+00:00",
          "2015-09-21T00:00:00+00:00",
          "2015-09-28T00:00:00+00:00",
          "2015-10-05T00:00:00+00:00",
          "2015-10-12T00:00:00+00:00",
          "2015-10-19T00:00:00+00:00",
          "2015-10-26T00:00:00+00:00",
          "2015-11-02T00:00:00+00:00",
          "2015-11-09T00:00:00+00:00",
          "2015-11-16T00:00:00+00:00",
          "2015-11-23T00:00:00+00:00",
          "2015-11-30T00:00:00+00:00",
          "2015-12-07T00:00:00+00:00",
          "2015-12-14T00:00:00+00:00",
          "2015-12-21T00:00:00+00:00",
          "2015-12-28T00:00:00+00:00",
          "2016-01-04T00:00:00+00:00",
          "2016-01-11T00:00:00+00:00",
          "2016-01-18T00:00:00+00:00",
          "2016-01-25T00:00:00+00:00",
          "2016-02-01T00:00:00+00:00",
          "2016-02-08T00:00:00+00:00",
          "2016-02-15T00:00:00+00:00",
          "2016-02-22T00:00:00+00:00",
          "2016-02-29T00:00:00+00:00",
          "2016-03-07T00:00:00+00:00",
          "2016-03-14T00:00:00+00:00",
          "2016-03-21T00:00:00+00:00",
          "2016-03-28T00:00:00+00:00",
          "2016-04-04T00:00:00+00:00",
          "2016-04-11T00:00:00+00:00",
          "2016-04-18T00:00:00+00:00",
          "2016-04-25T00:00:00+00:00",
          "2016-05-02T00:00:00+00:00",
          "2016-05-09T00:00:00+00:00",
          "2016-05-16T00:00:00+00:00",
          "2016-05-23T00:00:00+00:00",
          "2016-05-30T00:00:00+00:00",
          "2016-06-06T00:00:00+00:00",
          "2016-06-13T00:00:00+00:00",
          "2016-06-20T00:00:00+00:00",
          "2016-06-27T00:00:00+00:00",
          "2016-07-04T00:00:00+00:00",
          "2016-07-11T00:00:00+00:00",
          "2016-07-18T00:00:00+00:00",
          "2016-07-25T00:00:00+00:00",
          "2016-08-01T00:00:00+00:00",
          "2016-08-08T00:00:00+00:00",
          "2016-08-15T00:00:00+00:00",
          "2016-08-22T00:00:00+00:00",
          "2016-08-29T00:00:00+00:00",
          "2016-09-05T00:00:00+00:00",
          "2016-09-12T00:00:00+00:00",
          "2016-09-19T00:00:00+00:00",
          "2016-09-26T00:00:00+00:00",
          "2016-10-03T00:00:00+00:00",
          "2016-10-10T00:00:00+00:00",
          "2016-10-17T00:00:00+00:00",
          "2016-10-24T00:00:00+00:00",
          "2016-10-31T00:00:00+00:00",
          "2016-11-07T00:00:00+00:00",
          "2016-11-14T00:00:00+00:00",
          "2016-11-21T00:00:00+00:00",
          "2016-11-28T00:00:00+00:00",
          "2016-12-05T00:00:00+00:00",
          "2016-12-12T00:00:00+00:00",
          "2016-12-19T00:00:00+00:00",
          "2016-12-26T00:00:00+00:00",
          "2017-01-02T00:00:00+00:00",
          "2017-01-09T00:00:00+00:00",
          "2017-01-16T00:00:00+00:00",
          "2017-01-23T00:00:00+00:00",
          "2017-01-30T00:00:00+00:00",
          "2017-02-06T00:00:00+00:00",
          "2017-02-13T00:00:00+00:00",
          "2017-02-20T00:00:00+00:00",
          "2017-02-27T00:00:00+00:00",
          "2017-03-06T00:00:00+00:00",
          "2017-03-13T00:00:00+00:00",
          "2017-03-20T00:00:00+00:00",
          "2017-03-27T00:00:00+00:00",
          "2017-04-03T00:00:00+00:00",
          "2017-04-10T00:00:00+00:00",
          "2017-04-17T00:00:00+00:00",
          "2017-04-24T00:00:00+00:00",
          "2017-05-01T00:00:00+00:00",
          "2017-05-08T00:00:00+00:00",
          "2017-05-15T00:00:00+00:00",
          "2017-05-22T00:00:00+00:00",
          "2017-05-29T00:00:00+00:00",
          "2017-06-05T00:00:00+00:00",
          "2017-06-12T00:00:00+00:00",
          "2017-06-19T00:00:00+00:00",
          "2017-06-26T00:00:00+00:00",
          "2017-07-03T00:00:00+00:00",
          "2017-07-10T00:00:00+00:00",
          "2017-07-17T00:00:00+00:00",
          "2017-07-24T00:00:00+00:00",
          "2017-07-31T00:00:00+00:00",
          "2017-08-07T00:00:00+00:00",
          "2017-08-14T00:00:00+00:00",
          "2017-08-21T00:00:00+00:00",
          "2017-08-28T00:00:00+00:00",
          "2017-09-04T00:00:00+00:00",
          "2017-09-11T00:00:00+00:00",
          "2017-09-18T00:00:00+00:00",
          "2017-09-25T00:00:00+00:00",
          "2017-10-02T00:00:00+00:00",
          "2017-10-09T00:00:00+00:00",
          "2017-10-16T00:00:00+00:00",
          "2017-10-23T00:00:00+00:00",
          "2017-10-30T00:00:00+00:00",
          "2017-11-06T00:00:00+00:00",
          "2017-11-13T00:00:00+00:00",
          "2017-11-20T00:00:00+00:00",
          "2017-11-27T00:00:00+00:00",
          "2017-12-04T00:00:00+00:00",
          "2017-12-11T00:00:00+00:00",
          "2017-12-18T00:00:00+00:00",
          "2017-12-25T00:00:00+00:00",
          "2018-01-01T00:00:00+00:00",
          "2018-01-08T00:00:00+00:00",
          "2018-01-15T00:00:00+00:00",
          "2018-01-22T00:00:00+00:00",
          "2018-01-29T00:00:00+00:00",
          "2018-02-05T00:00:00+00:00",
          "2018-02-12T00:00:00+00:00",
          "2018-02-19T00:00:00+00:00",
          "2018-02-26T00:00:00+00:00",
          "2018-03-05T00:00:00+00:00",
          "2018-03-12T00:00:00+00:00",
          "2018-03-19T00:00:00+00:00",
          "2018-03-26T00:00:00+00:00",
          "2018-04-02T00:00:00+00:00",
          "2018-04-09T00:00:00+00:00",
          "2018-04-16T00:00:00+00:00",
          "2018-04-23T00:00:00+00:00",
          "2018-04-30T00:00:00+00:00",
          "2018-05-07T00:00:00+00:00",
          "2018-05-14T00:00:00+00:00",
          "2018-05-21T00:00:00+00:00",
          "2018-05-28T00:00:00+00:00",
          "2018-06-04T00:00:00+00:00",
          "2018-06-11T00:00:00+00:00",
          "2018-06-18T00:00:00+00:00",
          "2018-06-25T00:00:00+00:00",
          "2018-07-02T00:00:00+00:00",
          "2018-07-09T00:00:00+00:00",
          "2018-07-16T00:00:00+00:00",
          "2018-07-23T00:00:00+00:00",
          "2018-07-30T00:00:00+00:00",
          "2018-08-06T00:00:00+00:00",
          "2018-08-13T00:00:00+00:00",
          "2018-08-20T00:00:00+00:00",
          "2018-08-27T00:00:00+00:00",
          "2018-09-03T00:00:00+00:00",
          "2018-09-10T00:00:00+00:00",
          "2018-09-17T00:00:00+00:00",
          "2018-09-24T00:00:00+00:00",
          "2018-10-01T00:00:00+00:00",
          "2018-10-08T00:00:00+00:00",
          "2018-10-15T00:00:00+00:00",
          "2018-10-22T00:00:00+00:00",
          "2018-10-29T00:00:00+00:00",
          "2018-11-05T00:00:00+00:00",
          "2018-11-12T00:00:00+00:00",
          "2018-11-19T00:00:00+00:00",
          "2018-11-26T00:00:00+00:00",
          "2018-12-03T00:00:00+00:00",
          "2018-12-10T00:00:00+00:00",
          "2018-12-17T00:00:00+00:00",
          "2018-12-24T00:00:00+00:00",
          "2018-12-31T00:00:00+00:00",
          "2019-01-07T00:00:00+00:00",
          "2019-01-14T00:00:00+00:00",
          "2019-01-21T00:00:00+00:00",
          "2019-01-28T00:00:00+00:00",
          "2019-02-04T00:00:00+00:00",
          "2019-02-11T00:00:00+00:00",
          "2019-02-18T00:00:00+00:00",
          "2019-02-25T00:00:00+00:00",
          "2019-03-04T00:00:00+00:00",
          "2019-03-11T00:00:00+00:00",
          "2019-03-18T00:00:00+00:00",
          "2019-03-25T00:00:00+00:00",
          "2019-04-01T00:00:00+00:00",
          "2019-04-08T00:00:00+00:00",
          "2019-04-15T00:00:00+00:00",
          "2019-04-22T00:00:00+00:00",
          "2019-04-29T00:00:00+00:00",
          "2019-05-06T00:00:00+00:00",
          "2019-05-13T00:00:00+00:00",
          "2019-05-20T00:00:00+00:00",
          "2019-05-27T00:00:00+00:00",
          "2019-06-03T00:00:00+00:00",
          "2019-06-10T00:00:00+00:00",
          "2019-06-17T00:00:00+00:00",
          "2019-06-24T00:00:00+00:00",
          "2019-07-01T00:00:00+00:00",
          "2019-07-08T00:00:00+00:00",
          "2019-07-15T00:00:00+00:00",
          "2019-07-22T00:00:00+00:00",
          "2019-07-29T00:00:00+00:00",
          "2019-08-05T00:00:00+00:00",
          "2019-08-12T00:00:00+00:00",
          "2019-08-19T00:00:00+00:00",
          "2019-08-26T00:00:00+00:00",
          "2019-09-02T00:00:00+00:00",
          "2019-09-09T00:00:00+00:00",
          "2019-09-16T00:00:00+00:00",
          "2019-09-23T00:00:00+00:00",
          "2019-09-30T00:00:00+00:00",
          "2019-10-07T00:00:00+00:00",
          "2019-10-14T00:00:00+00:00",
          "2019-10-21T00:00:00+00:00",
          "2019-10-28T00:00:00+00:00",
          "2019-11-04T00:00:00+00:00",
          "2019-11-11T00:00:00+00:00",
          "2019-11-18T00:00:00+00:00",
          "2019-11-25T00:00:00+00:00",
          "2019-12-02T00:00:00+00:00",
          "2019-12-09T00:00:00+00:00",
          "2019-12-16T00:00:00+00:00",
          "2019-12-23T00:00:00+00:00",
          "2019-12-30T00:00:00+00:00",
          "2020-01-06T00:00:00+00:00",
          "2020-01-13T00:00:00+00:00",
          "2020-01-20T00:00:00+00:00",
          "2020-01-27T00:00:00+00:00",
          "2020-02-03T00:00:00+00:00",
          "2020-02-10T00:00:00+00:00",
          "2020-02-17T00:00:00+00:00",
          "2020-02-24T00:00:00+00:00",
          "2020-03-02T00:00:00+00:00",
          "2020-03-09T00:00:00+00:00",
          "2020-03-16T00:00:00+00:00",
          "2020-03-23T00:00:00+00:00",
          "2020-03-30T00:00:00+00:00",
          "2020-04-06T00:00:00+00:00",
          "2020-04-13T00:00:00+00:00",
          "2020-04-20T00:00:00+00:00",
          "2020-04-27T00:00:00+00:00",
          "2020-05-04T00:00:00+00:00",
          "2020-05-11T00:00:00+00:00",
          "2020-05-18T00:00:00+00:00",
          "2020-05-25T00:00:00+00:00",
          "2020-06-01T00:00:00+00:00",
          "2020-06-08T00:00:00+00:00",
          "2020-06-15T00:00:00+00:00",
          "2020-06-22T00:00:00+00:00",
          "2020-06-29T00:00:00+00:00",
          "2020-07-06T00:00:00+00:00",
          "2020-07-13T00:00:00+00:00",
          "2020-07-20T00:00:00+00:00",
          "2020-07-27T00:00:00+00:00",
          "2020-08-03T00:00:00+00:00",
          "2020-08-10T00:00:00+00:00",
          "2020-08-17T00:00:00+00:00",
          "2020-08-24T00:00:00+00:00",
          "2020-08-31T00:00:00+00:00",
          "2020-09-07T00:00:00+00:00",
          "2020-09-14T00:00:00+00:00"
         ],
         "y": [
          141.09497828,
          0,
          46928.547794,
          4.979999728,
          543.73219848,
          148.47986,
          1780.3829344,
          508.69999985,
          22529.641214,
          33918.736931,
          619.91738662,
          1153.2172790999998,
          5697.370900299999,
          1622.6647072,
          24.09702,
          74668.821435,
          1662.7048842,
          216.77966471,
          0,
          0,
          1872.8120971,
          229.13000168,
          2976.4725145999996,
          323.05564886,
          672.8599986,
          426.96051144,
          1670.5828923000001,
          7318.4497912,
          323.11104680000005,
          10.465529445,
          274.22064853,
          22.056014659000002,
          3832.5066571,
          29664.426289,
          4349.6661906,
          11.200649705,
          757.03413328,
          1271.2082865,
          3617.8614670999996,
          855.05148731,
          694.80095673,
          9.8561254473,
          1986.1460517,
          1503.4361752,
          380.96382893,
          538.89439429,
          1964.0765173,
          150.78015119,
          5.6166300021,
          1723.7578145999998,
          101.08265474,
          1067.3782667,
          1524.6129077,
          50502.066285,
          21388.088766,
          376.20816292,
          2930.7755505,
          788.38603003,
          817.44657082,
          3672.6731845,
          1149.2855359999999,
          0,
          1246.7432982999999,
          555.62856582,
          30589.003329000003,
          3503.2126015,
          0,
          373.82784492,
          0,
          4492.4191848,
          217.55273049,
          0,
          477.00530371,
          61.8862924,
          983.15645603,
          50.107725607,
          75.375499483,
          180.44522214,
          7159.922204899999,
          1322.975573,
          198.80808994,
          144.45811640000002,
          2667.5202044,
          0,
          0,
          6114.0125295,
          7816.8256028,
          0,
          287.32743677,
          1799.735679,
          0,
          59.65,
          70.987786814,
          80.997614313,
          32986.390944,
          142.14892429,
          1788.0945570999997,
          21479.011596,
          5.7986085075,
          0,
          5343.1027567,
          136.33408,
          317.81482400000004,
          0,
          87.711847527,
          21.676,
          4033.3997346,
          456.71801848,
          390.81134112,
          590.38768645,
          1213.9699988,
          406.39365,
          228.20383779,
          1407.8641678,
          62.21059253600001,
          0,
          3197.0801438999997,
          38.42475,
          48.1781,
          0,
          625.50621395,
          453.72912876,
          0,
          540.2626311,
          0,
          534.47290048,
          3866.8953974,
          17687.439677000002,
          19.699605,
          1505.5384385,
          3492.9827584,
          3430.2405816,
          0,
          0,
          0,
          445.10812672,
          2663.9339656999996,
          0,
          0,
          22963.750368,
          0,
          870.99759136,
          882.09899337,
          370.47491525,
          1591.0222202,
          62.793967015,
          0,
          358.56623382,
          6384.813536899999,
          0,
          4909.8552779,
          441.846891,
          0,
          16525.094654,
          0,
          8458.5306558,
          58.671195131000005,
          1268.8120494999998,
          31.986720000000002,
          145.00440472,
          36.7772,
          0,
          71420.190689,
          14.690159189000001,
          1649.5643159,
          8.259580837,
          0,
          19.3006057,
          0,
          2144.9117748,
          571.28109809,
          56.932253048,
          4911.0872446,
          249.23716673,
          4011.4862067000004,
          13276.842564,
          15657.877466,
          1105.8077972,
          72705.740502,
          2834.7772056,
          136306.90689,
          14639.635741,
          95744.08001,
          2399.887906,
          39745.303259,
          33606.780543,
          25847.832187,
          35132.414818,
          3553.8550279,
          288559.03450999997,
          12690.095751,
          569.0712480000001,
          139213.85613,
          59697.86204199999,
          9480.1127222,
          140850.56154,
          59.816963376000004,
          1477.8840252,
          17278.237235,
          20811.205677,
          4802.200682600001,
          135814.73322,
          101475.95522999999,
          584404.3136,
          11437.585395,
          81695.67203300001,
          23212.036908000002,
          23450.655963,
          57355.383638,
          2825.0282672,
          344759.18906,
          45450.90402,
          94485.56728300001,
          8079.5300263,
          395516.83038,
          40809.356414999995,
          4648.2060617,
          21572.46144,
          32114.42677,
          5944.1782846,
          40238.619573,
          36428.616768,
          22121.193607,
          4192.0615479,
          14741.338878,
          14667.965396000001,
          126304.40715,
          676.0543364,
          208957.37899,
          87386.207789,
          3660.4490343,
          3032.2038295,
          44897.632057999996,
          45857.673801,
          27003.779698000002,
          3244.4203094,
          27799.574375,
          22854.45028,
          1131545.5336,
          56455.514062,
          2089.467892,
          27714.836507999997,
          7264.59629,
          1044.4067621,
          694.5331982000001,
          11810.927085,
          39.99560355,
          2133.1476147,
          1468.6748788,
          16245.032169,
          20032.689323,
          16201.360501,
          2143.8635175,
          110.73815649999999,
          331.65999369,
          112887.51919,
          1179.9281955999998,
          77202.275786,
          34637.481684,
          8523.9261818,
          3234.2069903,
          7236.125804699999,
          7281.7548486000005,
          82849.515791,
          158813.08504,
          3424.5097133,
          61695.513415999994,
          36.640483,
          41190.952752,
          18753.661916999998,
          2021.1301571,
          4641.6677188,
          21792.941099,
          20691.912671000002,
          7955.3677555,
          20292.028803999998,
          32749.225435000004,
          103119.69052,
          1223.3370400000001,
          73.72075722,
          57287.936246000005,
          2077.6621359,
          63941.609034,
          21555.271943,
          62252.625441,
          11332.458687,
          12176.37644,
          21676.434115,
          62433.564528999996,
          439916.1475,
          49355.842558,
          27453.649446,
          5438.9958656,
          217.67879345,
          4597.279278800001,
          45770.144887,
          273011.48355,
          1382.5078589000002,
          10136.997645,
          1327.862823,
          954.48274,
          16173.004928,
          13846.847346,
          2333.9426206999997,
          92757.55235,
          47164.473954,
          107101.47077,
          226914.24365,
          86428.888155,
          982.71581659,
          108313.51333,
          1243579.7475,
          156.26884773,
          1112.319928,
          376.89595077,
          330.26792736,
          819.08406338,
          3282.4190618000002,
          3378.0380920999996,
          3913.9886924999996,
          4061.0055420000003,
          1905.9489346,
          3529.2730541999995,
          10023.994632,
          49883.936931000004,
          42402.921995,
          45600.139013,
          126261.48163,
          51015.457284,
          59069.340692,
          1686.9513059,
          26393.229186,
          1374454.3943,
          12062.856170000001,
          26604.42579,
          74.09482497399999,
          6949.5965848999995,
          213646.77555,
          746.12032002,
          182.9776,
          2043.2189697000001,
          51.14090804600001,
          1274.5825816,
          2518095.8975,
          993.45693664,
          1701.9009904,
          268023.67991,
          48559.434995999996,
          686.7626307999999,
          172750.7002
         ]
        }
       ],
       "layout": {
        "template": {
         "data": {
          "bar": [
           {
            "error_x": {
             "color": "#2a3f5f"
            },
            "error_y": {
             "color": "#2a3f5f"
            },
            "marker": {
             "line": {
              "color": "#E5ECF6",
              "width": 0.5
             }
            },
            "type": "bar"
           }
          ],
          "barpolar": [
           {
            "marker": {
             "line": {
              "color": "#E5ECF6",
              "width": 0.5
             }
            },
            "type": "barpolar"
           }
          ],
          "carpet": [
           {
            "aaxis": {
             "endlinecolor": "#2a3f5f",
             "gridcolor": "white",
             "linecolor": "white",
             "minorgridcolor": "white",
             "startlinecolor": "#2a3f5f"
            },
            "baxis": {
             "endlinecolor": "#2a3f5f",
             "gridcolor": "white",
             "linecolor": "white",
             "minorgridcolor": "white",
             "startlinecolor": "#2a3f5f"
            },
            "type": "carpet"
           }
          ],
          "choropleth": [
           {
            "colorbar": {
             "outlinewidth": 0,
             "ticks": ""
            },
            "type": "choropleth"
           }
          ],
          "contour": [
           {
            "colorbar": {
             "outlinewidth": 0,
             "ticks": ""
            },
            "colorscale": [
             [
              0,
              "#0d0887"
             ],
             [
              0.1111111111111111,
              "#46039f"
             ],
             [
              0.2222222222222222,
              "#7201a8"
             ],
             [
              0.3333333333333333,
              "#9c179e"
             ],
             [
              0.4444444444444444,
              "#bd3786"
             ],
             [
              0.5555555555555556,
              "#d8576b"
             ],
             [
              0.6666666666666666,
              "#ed7953"
             ],
             [
              0.7777777777777778,
              "#fb9f3a"
             ],
             [
              0.8888888888888888,
              "#fdca26"
             ],
             [
              1,
              "#f0f921"
             ]
            ],
            "type": "contour"
           }
          ],
          "contourcarpet": [
           {
            "colorbar": {
             "outlinewidth": 0,
             "ticks": ""
            },
            "type": "contourcarpet"
           }
          ],
          "heatmap": [
           {
            "colorbar": {
             "outlinewidth": 0,
             "ticks": ""
            },
            "colorscale": [
             [
              0,
              "#0d0887"
             ],
             [
              0.1111111111111111,
              "#46039f"
             ],
             [
              0.2222222222222222,
              "#7201a8"
             ],
             [
              0.3333333333333333,
              "#9c179e"
             ],
             [
              0.4444444444444444,
              "#bd3786"
             ],
             [
              0.5555555555555556,
              "#d8576b"
             ],
             [
              0.6666666666666666,
              "#ed7953"
             ],
             [
              0.7777777777777778,
              "#fb9f3a"
             ],
             [
              0.8888888888888888,
              "#fdca26"
             ],
             [
              1,
              "#f0f921"
             ]
            ],
            "type": "heatmap"
           }
          ],
          "heatmapgl": [
           {
            "colorbar": {
             "outlinewidth": 0,
             "ticks": ""
            },
            "colorscale": [
             [
              0,
              "#0d0887"
             ],
             [
              0.1111111111111111,
              "#46039f"
             ],
             [
              0.2222222222222222,
              "#7201a8"
             ],
             [
              0.3333333333333333,
              "#9c179e"
             ],
             [
              0.4444444444444444,
              "#bd3786"
             ],
             [
              0.5555555555555556,
              "#d8576b"
             ],
             [
              0.6666666666666666,
              "#ed7953"
             ],
             [
              0.7777777777777778,
              "#fb9f3a"
             ],
             [
              0.8888888888888888,
              "#fdca26"
             ],
             [
              1,
              "#f0f921"
             ]
            ],
            "type": "heatmapgl"
           }
          ],
          "histogram": [
           {
            "marker": {
             "colorbar": {
              "outlinewidth": 0,
              "ticks": ""
             }
            },
            "type": "histogram"
           }
          ],
          "histogram2d": [
           {
            "colorbar": {
             "outlinewidth": 0,
             "ticks": ""
            },
            "colorscale": [
             [
              0,
              "#0d0887"
             ],
             [
              0.1111111111111111,
              "#46039f"
             ],
             [
              0.2222222222222222,
              "#7201a8"
             ],
             [
              0.3333333333333333,
              "#9c179e"
             ],
             [
              0.4444444444444444,
              "#bd3786"
             ],
             [
              0.5555555555555556,
              "#d8576b"
             ],
             [
              0.6666666666666666,
              "#ed7953"
             ],
             [
              0.7777777777777778,
              "#fb9f3a"
             ],
             [
              0.8888888888888888,
              "#fdca26"
             ],
             [
              1,
              "#f0f921"
             ]
            ],
            "type": "histogram2d"
           }
          ],
          "histogram2dcontour": [
           {
            "colorbar": {
             "outlinewidth": 0,
             "ticks": ""
            },
            "colorscale": [
             [
              0,
              "#0d0887"
             ],
             [
              0.1111111111111111,
              "#46039f"
             ],
             [
              0.2222222222222222,
              "#7201a8"
             ],
             [
              0.3333333333333333,
              "#9c179e"
             ],
             [
              0.4444444444444444,
              "#bd3786"
             ],
             [
              0.5555555555555556,
              "#d8576b"
             ],
             [
              0.6666666666666666,
              "#ed7953"
             ],
             [
              0.7777777777777778,
              "#fb9f3a"
             ],
             [
              0.8888888888888888,
              "#fdca26"
             ],
             [
              1,
              "#f0f921"
             ]
            ],
            "type": "histogram2dcontour"
           }
          ],
          "mesh3d": [
           {
            "colorbar": {
             "outlinewidth": 0,
             "ticks": ""
            },
            "type": "mesh3d"
           }
          ],
          "parcoords": [
           {
            "line": {
             "colorbar": {
              "outlinewidth": 0,
              "ticks": ""
             }
            },
            "type": "parcoords"
           }
          ],
          "pie": [
           {
            "automargin": true,
            "type": "pie"
           }
          ],
          "scatter": [
           {
            "marker": {
             "colorbar": {
              "outlinewidth": 0,
              "ticks": ""
             }
            },
            "type": "scatter"
           }
          ],
          "scatter3d": [
           {
            "line": {
             "colorbar": {
              "outlinewidth": 0,
              "ticks": ""
             }
            },
            "marker": {
             "colorbar": {
              "outlinewidth": 0,
              "ticks": ""
             }
            },
            "type": "scatter3d"
           }
          ],
          "scattercarpet": [
           {
            "marker": {
             "colorbar": {
              "outlinewidth": 0,
              "ticks": ""
             }
            },
            "type": "scattercarpet"
           }
          ],
          "scattergeo": [
           {
            "marker": {
             "colorbar": {
              "outlinewidth": 0,
              "ticks": ""
             }
            },
            "type": "scattergeo"
           }
          ],
          "scattergl": [
           {
            "marker": {
             "colorbar": {
              "outlinewidth": 0,
              "ticks": ""
             }
            },
            "type": "scattergl"
           }
          ],
          "scattermapbox": [
           {
            "marker": {
             "colorbar": {
              "outlinewidth": 0,
              "ticks": ""
             }
            },
            "type": "scattermapbox"
           }
          ],
          "scatterpolar": [
           {
            "marker": {
             "colorbar": {
              "outlinewidth": 0,
              "ticks": ""
             }
            },
            "type": "scatterpolar"
           }
          ],
          "scatterpolargl": [
           {
            "marker": {
             "colorbar": {
              "outlinewidth": 0,
              "ticks": ""
             }
            },
            "type": "scatterpolargl"
           }
          ],
          "scatterternary": [
           {
            "marker": {
             "colorbar": {
              "outlinewidth": 0,
              "ticks": ""
             }
            },
            "type": "scatterternary"
           }
          ],
          "surface": [
           {
            "colorbar": {
             "outlinewidth": 0,
             "ticks": ""
            },
            "colorscale": [
             [
              0,
              "#0d0887"
             ],
             [
              0.1111111111111111,
              "#46039f"
             ],
             [
              0.2222222222222222,
              "#7201a8"
             ],
             [
              0.3333333333333333,
              "#9c179e"
             ],
             [
              0.4444444444444444,
              "#bd3786"
             ],
             [
              0.5555555555555556,
              "#d8576b"
             ],
             [
              0.6666666666666666,
              "#ed7953"
             ],
             [
              0.7777777777777778,
              "#fb9f3a"
             ],
             [
              0.8888888888888888,
              "#fdca26"
             ],
             [
              1,
              "#f0f921"
             ]
            ],
            "type": "surface"
           }
          ],
          "table": [
           {
            "cells": {
             "fill": {
              "color": "#EBF0F8"
             },
             "line": {
              "color": "white"
             }
            },
            "header": {
             "fill": {
              "color": "#C8D4E3"
             },
             "line": {
              "color": "white"
             }
            },
            "type": "table"
           }
          ]
         },
         "layout": {
          "annotationdefaults": {
           "arrowcolor": "#2a3f5f",
           "arrowhead": 0,
           "arrowwidth": 1
          },
          "coloraxis": {
           "colorbar": {
            "outlinewidth": 0,
            "ticks": ""
           }
          },
          "colorscale": {
           "diverging": [
            [
             0,
             "#8e0152"
            ],
            [
             0.1,
             "#c51b7d"
            ],
            [
             0.2,
             "#de77ae"
            ],
            [
             0.3,
             "#f1b6da"
            ],
            [
             0.4,
             "#fde0ef"
            ],
            [
             0.5,
             "#f7f7f7"
            ],
            [
             0.6,
             "#e6f5d0"
            ],
            [
             0.7,
             "#b8e186"
            ],
            [
             0.8,
             "#7fbc41"
            ],
            [
             0.9,
             "#4d9221"
            ],
            [
             1,
             "#276419"
            ]
           ],
           "sequential": [
            [
             0,
             "#0d0887"
            ],
            [
             0.1111111111111111,
             "#46039f"
            ],
            [
             0.2222222222222222,
             "#7201a8"
            ],
            [
             0.3333333333333333,
             "#9c179e"
            ],
            [
             0.4444444444444444,
             "#bd3786"
            ],
            [
             0.5555555555555556,
             "#d8576b"
            ],
            [
             0.6666666666666666,
             "#ed7953"
            ],
            [
             0.7777777777777778,
             "#fb9f3a"
            ],
            [
             0.8888888888888888,
             "#fdca26"
            ],
            [
             1,
             "#f0f921"
            ]
           ],
           "sequentialminus": [
            [
             0,
             "#0d0887"
            ],
            [
             0.1111111111111111,
             "#46039f"
            ],
            [
             0.2222222222222222,
             "#7201a8"
            ],
            [
             0.3333333333333333,
             "#9c179e"
            ],
            [
             0.4444444444444444,
             "#bd3786"
            ],
            [
             0.5555555555555556,
             "#d8576b"
            ],
            [
             0.6666666666666666,
             "#ed7953"
            ],
            [
             0.7777777777777778,
             "#fb9f3a"
            ],
            [
             0.8888888888888888,
             "#fdca26"
            ],
            [
             1,
             "#f0f921"
            ]
           ]
          },
          "colorway": [
           "#636efa",
           "#EF553B",
           "#00cc96",
           "#ab63fa",
           "#FFA15A",
           "#19d3f3",
           "#FF6692",
           "#B6E880",
           "#FF97FF",
           "#FECB52"
          ],
          "font": {
           "color": "#2a3f5f"
          },
          "geo": {
           "bgcolor": "white",
           "lakecolor": "white",
           "landcolor": "#E5ECF6",
           "showlakes": true,
           "showland": true,
           "subunitcolor": "white"
          },
          "hoverlabel": {
           "align": "left"
          },
          "hovermode": "closest",
          "mapbox": {
           "style": "light"
          },
          "paper_bgcolor": "white",
          "plot_bgcolor": "#E5ECF6",
          "polar": {
           "angularaxis": {
            "gridcolor": "white",
            "linecolor": "white",
            "ticks": ""
           },
           "bgcolor": "#E5ECF6",
           "radialaxis": {
            "gridcolor": "white",
            "linecolor": "white",
            "ticks": ""
           }
          },
          "scene": {
           "xaxis": {
            "backgroundcolor": "#E5ECF6",
            "gridcolor": "white",
            "gridwidth": 2,
            "linecolor": "white",
            "showbackground": true,
            "ticks": "",
            "zerolinecolor": "white"
           },
           "yaxis": {
            "backgroundcolor": "#E5ECF6",
            "gridcolor": "white",
            "gridwidth": 2,
            "linecolor": "white",
            "showbackground": true,
            "ticks": "",
            "zerolinecolor": "white"
           },
           "zaxis": {
            "backgroundcolor": "#E5ECF6",
            "gridcolor": "white",
            "gridwidth": 2,
            "linecolor": "white",
            "showbackground": true,
            "ticks": "",
            "zerolinecolor": "white"
           }
          },
          "shapedefaults": {
           "line": {
            "color": "#2a3f5f"
           }
          },
          "ternary": {
           "aaxis": {
            "gridcolor": "white",
            "linecolor": "white",
            "ticks": ""
           },
           "baxis": {
            "gridcolor": "white",
            "linecolor": "white",
            "ticks": ""
           },
           "bgcolor": "#E5ECF6",
           "caxis": {
            "gridcolor": "white",
            "linecolor": "white",
            "ticks": ""
           }
          },
          "title": {
           "x": 0.05
          },
          "xaxis": {
           "automargin": true,
           "gridcolor": "white",
           "linecolor": "white",
           "ticks": "",
           "title": {
            "standoff": 15
           },
           "zerolinecolor": "white",
           "zerolinewidth": 2
          },
          "yaxis": {
           "automargin": true,
           "gridcolor": "white",
           "linecolor": "white",
           "ticks": "",
           "title": {
            "standoff": 15
           },
           "zerolinecolor": "white",
           "zerolinewidth": 2
          }
         }
        },
        "title": {
         "text": "Currency(USD) Volume traded in Bitcoin (2014-2020) with the slider"
        },
        "xaxis": {
         "rangeselector": {
          "buttons": [
           {
            "count": 1,
            "label": "1m",
            "step": "month",
            "stepmode": "backward"
           },
           {
            "count": 6,
            "label": "6m",
            "step": "month",
            "stepmode": "backward"
           },
           {
            "count": 12,
            "label": "1y",
            "step": "month",
            "stepmode": "backward"
           },
           {
            "count": 36,
            "label": "3y",
            "step": "month",
            "stepmode": "backward"
           },
           {
            "count": 60,
            "label": "5y",
            "step": "month",
            "stepmode": "backward"
           },
           {
            "step": "all"
           }
          ]
         },
         "rangeslider": {
          "visible": true
         },
         "type": "date"
        }
       }
      },
      "text/html": [
       "<div>                            <div id=\"e7bdc291-9184-4772-ba01-4cd10ecca313\" class=\"plotly-graph-div\" style=\"height:525px; width:100%;\"></div>            <script type=\"text/javascript\">                require([\"plotly\"], function(Plotly) {                    window.PLOTLYENV=window.PLOTLYENV || {};                                    if (document.getElementById(\"e7bdc291-9184-4772-ba01-4cd10ecca313\")) {                    Plotly.newPlot(                        \"e7bdc291-9184-4772-ba01-4cd10ecca313\",                        [{\"marker\": {\"color\": \"#FFBB33\"}, \"mode\": \"lines\", \"name\": \"Currency\", \"type\": \"scatter\", \"x\": [\"2014-01-06T00:00:00+00:00\", \"2014-01-13T00:00:00+00:00\", \"2014-01-20T00:00:00+00:00\", \"2014-01-27T00:00:00+00:00\", \"2014-02-03T00:00:00+00:00\", \"2014-02-10T00:00:00+00:00\", \"2014-02-17T00:00:00+00:00\", \"2014-02-24T00:00:00+00:00\", \"2014-03-03T00:00:00+00:00\", \"2014-03-10T00:00:00+00:00\", \"2014-03-17T00:00:00+00:00\", \"2014-03-24T00:00:00+00:00\", \"2014-03-31T00:00:00+00:00\", \"2014-04-07T00:00:00+00:00\", \"2014-04-14T00:00:00+00:00\", \"2014-04-21T00:00:00+00:00\", \"2014-04-28T00:00:00+00:00\", \"2014-05-05T00:00:00+00:00\", \"2014-05-12T00:00:00+00:00\", \"2014-05-19T00:00:00+00:00\", \"2014-05-26T00:00:00+00:00\", \"2014-06-02T00:00:00+00:00\", \"2014-06-09T00:00:00+00:00\", \"2014-06-16T00:00:00+00:00\", \"2014-06-23T00:00:00+00:00\", \"2014-06-30T00:00:00+00:00\", \"2014-07-07T00:00:00+00:00\", \"2014-07-14T00:00:00+00:00\", \"2014-07-21T00:00:00+00:00\", \"2014-07-28T00:00:00+00:00\", \"2014-08-04T00:00:00+00:00\", \"2014-08-11T00:00:00+00:00\", \"2014-08-18T00:00:00+00:00\", \"2014-08-25T00:00:00+00:00\", \"2014-09-01T00:00:00+00:00\", \"2014-09-08T00:00:00+00:00\", \"2014-09-15T00:00:00+00:00\", \"2014-09-22T00:00:00+00:00\", \"2014-09-29T00:00:00+00:00\", \"2014-10-06T00:00:00+00:00\", \"2014-10-13T00:00:00+00:00\", \"2014-10-20T00:00:00+00:00\", \"2014-10-27T00:00:00+00:00\", \"2014-11-03T00:00:00+00:00\", \"2014-11-10T00:00:00+00:00\", \"2014-11-17T00:00:00+00:00\", \"2014-11-24T00:00:00+00:00\", \"2014-12-01T00:00:00+00:00\", \"2014-12-08T00:00:00+00:00\", \"2014-12-15T00:00:00+00:00\", \"2014-12-22T00:00:00+00:00\", \"2014-12-29T00:00:00+00:00\", \"2015-01-05T00:00:00+00:00\", \"2015-01-12T00:00:00+00:00\", \"2015-01-19T00:00:00+00:00\", \"2015-01-26T00:00:00+00:00\", \"2015-02-02T00:00:00+00:00\", \"2015-02-09T00:00:00+00:00\", \"2015-02-16T00:00:00+00:00\", \"2015-02-23T00:00:00+00:00\", \"2015-03-02T00:00:00+00:00\", \"2015-03-09T00:00:00+00:00\", \"2015-03-16T00:00:00+00:00\", \"2015-03-23T00:00:00+00:00\", \"2015-03-30T00:00:00+00:00\", \"2015-04-06T00:00:00+00:00\", \"2015-04-13T00:00:00+00:00\", \"2015-04-20T00:00:00+00:00\", \"2015-04-27T00:00:00+00:00\", \"2015-05-04T00:00:00+00:00\", \"2015-05-11T00:00:00+00:00\", \"2015-05-18T00:00:00+00:00\", \"2015-05-25T00:00:00+00:00\", \"2015-06-01T00:00:00+00:00\", \"2015-06-08T00:00:00+00:00\", \"2015-06-15T00:00:00+00:00\", \"2015-06-22T00:00:00+00:00\", \"2015-06-29T00:00:00+00:00\", \"2015-07-06T00:00:00+00:00\", \"2015-07-13T00:00:00+00:00\", \"2015-07-20T00:00:00+00:00\", \"2015-07-27T00:00:00+00:00\", \"2015-08-03T00:00:00+00:00\", \"2015-08-10T00:00:00+00:00\", \"2015-08-17T00:00:00+00:00\", \"2015-08-24T00:00:00+00:00\", \"2015-08-31T00:00:00+00:00\", \"2015-09-07T00:00:00+00:00\", \"2015-09-14T00:00:00+00:00\", \"2015-09-21T00:00:00+00:00\", \"2015-09-28T00:00:00+00:00\", \"2015-10-05T00:00:00+00:00\", \"2015-10-12T00:00:00+00:00\", \"2015-10-19T00:00:00+00:00\", \"2015-10-26T00:00:00+00:00\", \"2015-11-02T00:00:00+00:00\", \"2015-11-09T00:00:00+00:00\", \"2015-11-16T00:00:00+00:00\", \"2015-11-23T00:00:00+00:00\", \"2015-11-30T00:00:00+00:00\", \"2015-12-07T00:00:00+00:00\", \"2015-12-14T00:00:00+00:00\", \"2015-12-21T00:00:00+00:00\", \"2015-12-28T00:00:00+00:00\", \"2016-01-04T00:00:00+00:00\", \"2016-01-11T00:00:00+00:00\", \"2016-01-18T00:00:00+00:00\", \"2016-01-25T00:00:00+00:00\", \"2016-02-01T00:00:00+00:00\", \"2016-02-08T00:00:00+00:00\", \"2016-02-15T00:00:00+00:00\", \"2016-02-22T00:00:00+00:00\", \"2016-02-29T00:00:00+00:00\", \"2016-03-07T00:00:00+00:00\", \"2016-03-14T00:00:00+00:00\", \"2016-03-21T00:00:00+00:00\", \"2016-03-28T00:00:00+00:00\", \"2016-04-04T00:00:00+00:00\", \"2016-04-11T00:00:00+00:00\", \"2016-04-18T00:00:00+00:00\", \"2016-04-25T00:00:00+00:00\", \"2016-05-02T00:00:00+00:00\", \"2016-05-09T00:00:00+00:00\", \"2016-05-16T00:00:00+00:00\", \"2016-05-23T00:00:00+00:00\", \"2016-05-30T00:00:00+00:00\", \"2016-06-06T00:00:00+00:00\", \"2016-06-13T00:00:00+00:00\", \"2016-06-20T00:00:00+00:00\", \"2016-06-27T00:00:00+00:00\", \"2016-07-04T00:00:00+00:00\", \"2016-07-11T00:00:00+00:00\", \"2016-07-18T00:00:00+00:00\", \"2016-07-25T00:00:00+00:00\", \"2016-08-01T00:00:00+00:00\", \"2016-08-08T00:00:00+00:00\", \"2016-08-15T00:00:00+00:00\", \"2016-08-22T00:00:00+00:00\", \"2016-08-29T00:00:00+00:00\", \"2016-09-05T00:00:00+00:00\", \"2016-09-12T00:00:00+00:00\", \"2016-09-19T00:00:00+00:00\", \"2016-09-26T00:00:00+00:00\", \"2016-10-03T00:00:00+00:00\", \"2016-10-10T00:00:00+00:00\", \"2016-10-17T00:00:00+00:00\", \"2016-10-24T00:00:00+00:00\", \"2016-10-31T00:00:00+00:00\", \"2016-11-07T00:00:00+00:00\", \"2016-11-14T00:00:00+00:00\", \"2016-11-21T00:00:00+00:00\", \"2016-11-28T00:00:00+00:00\", \"2016-12-05T00:00:00+00:00\", \"2016-12-12T00:00:00+00:00\", \"2016-12-19T00:00:00+00:00\", \"2016-12-26T00:00:00+00:00\", \"2017-01-02T00:00:00+00:00\", \"2017-01-09T00:00:00+00:00\", \"2017-01-16T00:00:00+00:00\", \"2017-01-23T00:00:00+00:00\", \"2017-01-30T00:00:00+00:00\", \"2017-02-06T00:00:00+00:00\", \"2017-02-13T00:00:00+00:00\", \"2017-02-20T00:00:00+00:00\", \"2017-02-27T00:00:00+00:00\", \"2017-03-06T00:00:00+00:00\", \"2017-03-13T00:00:00+00:00\", \"2017-03-20T00:00:00+00:00\", \"2017-03-27T00:00:00+00:00\", \"2017-04-03T00:00:00+00:00\", \"2017-04-10T00:00:00+00:00\", \"2017-04-17T00:00:00+00:00\", \"2017-04-24T00:00:00+00:00\", \"2017-05-01T00:00:00+00:00\", \"2017-05-08T00:00:00+00:00\", \"2017-05-15T00:00:00+00:00\", \"2017-05-22T00:00:00+00:00\", \"2017-05-29T00:00:00+00:00\", \"2017-06-05T00:00:00+00:00\", \"2017-06-12T00:00:00+00:00\", \"2017-06-19T00:00:00+00:00\", \"2017-06-26T00:00:00+00:00\", \"2017-07-03T00:00:00+00:00\", \"2017-07-10T00:00:00+00:00\", \"2017-07-17T00:00:00+00:00\", \"2017-07-24T00:00:00+00:00\", \"2017-07-31T00:00:00+00:00\", \"2017-08-07T00:00:00+00:00\", \"2017-08-14T00:00:00+00:00\", \"2017-08-21T00:00:00+00:00\", \"2017-08-28T00:00:00+00:00\", \"2017-09-04T00:00:00+00:00\", \"2017-09-11T00:00:00+00:00\", \"2017-09-18T00:00:00+00:00\", \"2017-09-25T00:00:00+00:00\", \"2017-10-02T00:00:00+00:00\", \"2017-10-09T00:00:00+00:00\", \"2017-10-16T00:00:00+00:00\", \"2017-10-23T00:00:00+00:00\", \"2017-10-30T00:00:00+00:00\", \"2017-11-06T00:00:00+00:00\", \"2017-11-13T00:00:00+00:00\", \"2017-11-20T00:00:00+00:00\", \"2017-11-27T00:00:00+00:00\", \"2017-12-04T00:00:00+00:00\", \"2017-12-11T00:00:00+00:00\", \"2017-12-18T00:00:00+00:00\", \"2017-12-25T00:00:00+00:00\", \"2018-01-01T00:00:00+00:00\", \"2018-01-08T00:00:00+00:00\", \"2018-01-15T00:00:00+00:00\", \"2018-01-22T00:00:00+00:00\", \"2018-01-29T00:00:00+00:00\", \"2018-02-05T00:00:00+00:00\", \"2018-02-12T00:00:00+00:00\", \"2018-02-19T00:00:00+00:00\", \"2018-02-26T00:00:00+00:00\", \"2018-03-05T00:00:00+00:00\", \"2018-03-12T00:00:00+00:00\", \"2018-03-19T00:00:00+00:00\", \"2018-03-26T00:00:00+00:00\", \"2018-04-02T00:00:00+00:00\", \"2018-04-09T00:00:00+00:00\", \"2018-04-16T00:00:00+00:00\", \"2018-04-23T00:00:00+00:00\", \"2018-04-30T00:00:00+00:00\", \"2018-05-07T00:00:00+00:00\", \"2018-05-14T00:00:00+00:00\", \"2018-05-21T00:00:00+00:00\", \"2018-05-28T00:00:00+00:00\", \"2018-06-04T00:00:00+00:00\", \"2018-06-11T00:00:00+00:00\", \"2018-06-18T00:00:00+00:00\", \"2018-06-25T00:00:00+00:00\", \"2018-07-02T00:00:00+00:00\", \"2018-07-09T00:00:00+00:00\", \"2018-07-16T00:00:00+00:00\", \"2018-07-23T00:00:00+00:00\", \"2018-07-30T00:00:00+00:00\", \"2018-08-06T00:00:00+00:00\", \"2018-08-13T00:00:00+00:00\", \"2018-08-20T00:00:00+00:00\", \"2018-08-27T00:00:00+00:00\", \"2018-09-03T00:00:00+00:00\", \"2018-09-10T00:00:00+00:00\", \"2018-09-17T00:00:00+00:00\", \"2018-09-24T00:00:00+00:00\", \"2018-10-01T00:00:00+00:00\", \"2018-10-08T00:00:00+00:00\", \"2018-10-15T00:00:00+00:00\", \"2018-10-22T00:00:00+00:00\", \"2018-10-29T00:00:00+00:00\", \"2018-11-05T00:00:00+00:00\", \"2018-11-12T00:00:00+00:00\", \"2018-11-19T00:00:00+00:00\", \"2018-11-26T00:00:00+00:00\", \"2018-12-03T00:00:00+00:00\", \"2018-12-10T00:00:00+00:00\", \"2018-12-17T00:00:00+00:00\", \"2018-12-24T00:00:00+00:00\", \"2018-12-31T00:00:00+00:00\", \"2019-01-07T00:00:00+00:00\", \"2019-01-14T00:00:00+00:00\", \"2019-01-21T00:00:00+00:00\", \"2019-01-28T00:00:00+00:00\", \"2019-02-04T00:00:00+00:00\", \"2019-02-11T00:00:00+00:00\", \"2019-02-18T00:00:00+00:00\", \"2019-02-25T00:00:00+00:00\", \"2019-03-04T00:00:00+00:00\", \"2019-03-11T00:00:00+00:00\", \"2019-03-18T00:00:00+00:00\", \"2019-03-25T00:00:00+00:00\", \"2019-04-01T00:00:00+00:00\", \"2019-04-08T00:00:00+00:00\", \"2019-04-15T00:00:00+00:00\", \"2019-04-22T00:00:00+00:00\", \"2019-04-29T00:00:00+00:00\", \"2019-05-06T00:00:00+00:00\", \"2019-05-13T00:00:00+00:00\", \"2019-05-20T00:00:00+00:00\", \"2019-05-27T00:00:00+00:00\", \"2019-06-03T00:00:00+00:00\", \"2019-06-10T00:00:00+00:00\", \"2019-06-17T00:00:00+00:00\", \"2019-06-24T00:00:00+00:00\", \"2019-07-01T00:00:00+00:00\", \"2019-07-08T00:00:00+00:00\", \"2019-07-15T00:00:00+00:00\", \"2019-07-22T00:00:00+00:00\", \"2019-07-29T00:00:00+00:00\", \"2019-08-05T00:00:00+00:00\", \"2019-08-12T00:00:00+00:00\", \"2019-08-19T00:00:00+00:00\", \"2019-08-26T00:00:00+00:00\", \"2019-09-02T00:00:00+00:00\", \"2019-09-09T00:00:00+00:00\", \"2019-09-16T00:00:00+00:00\", \"2019-09-23T00:00:00+00:00\", \"2019-09-30T00:00:00+00:00\", \"2019-10-07T00:00:00+00:00\", \"2019-10-14T00:00:00+00:00\", \"2019-10-21T00:00:00+00:00\", \"2019-10-28T00:00:00+00:00\", \"2019-11-04T00:00:00+00:00\", \"2019-11-11T00:00:00+00:00\", \"2019-11-18T00:00:00+00:00\", \"2019-11-25T00:00:00+00:00\", \"2019-12-02T00:00:00+00:00\", \"2019-12-09T00:00:00+00:00\", \"2019-12-16T00:00:00+00:00\", \"2019-12-23T00:00:00+00:00\", \"2019-12-30T00:00:00+00:00\", \"2020-01-06T00:00:00+00:00\", \"2020-01-13T00:00:00+00:00\", \"2020-01-20T00:00:00+00:00\", \"2020-01-27T00:00:00+00:00\", \"2020-02-03T00:00:00+00:00\", \"2020-02-10T00:00:00+00:00\", \"2020-02-17T00:00:00+00:00\", \"2020-02-24T00:00:00+00:00\", \"2020-03-02T00:00:00+00:00\", \"2020-03-09T00:00:00+00:00\", \"2020-03-16T00:00:00+00:00\", \"2020-03-23T00:00:00+00:00\", \"2020-03-30T00:00:00+00:00\", \"2020-04-06T00:00:00+00:00\", \"2020-04-13T00:00:00+00:00\", \"2020-04-20T00:00:00+00:00\", \"2020-04-27T00:00:00+00:00\", \"2020-05-04T00:00:00+00:00\", \"2020-05-11T00:00:00+00:00\", \"2020-05-18T00:00:00+00:00\", \"2020-05-25T00:00:00+00:00\", \"2020-06-01T00:00:00+00:00\", \"2020-06-08T00:00:00+00:00\", \"2020-06-15T00:00:00+00:00\", \"2020-06-22T00:00:00+00:00\", \"2020-06-29T00:00:00+00:00\", \"2020-07-06T00:00:00+00:00\", \"2020-07-13T00:00:00+00:00\", \"2020-07-20T00:00:00+00:00\", \"2020-07-27T00:00:00+00:00\", \"2020-08-03T00:00:00+00:00\", \"2020-08-10T00:00:00+00:00\", \"2020-08-17T00:00:00+00:00\", \"2020-08-24T00:00:00+00:00\", \"2020-08-31T00:00:00+00:00\", \"2020-09-07T00:00:00+00:00\", \"2020-09-14T00:00:00+00:00\"], \"y\": [141.09497828, 0.0, 46928.547794, 4.979999728, 543.73219848, 148.47986, 1780.3829344, 508.69999985, 22529.641214, 33918.736931, 619.91738662, 1153.2172790999998, 5697.370900299999, 1622.6647072, 24.09702, 74668.821435, 1662.7048842, 216.77966471, 0.0, 0.0, 1872.8120971, 229.13000168, 2976.4725145999996, 323.05564886, 672.8599986, 426.96051144, 1670.5828923000001, 7318.4497912, 323.11104680000005, 10.465529445, 274.22064853, 22.056014659000002, 3832.5066571, 29664.426289, 4349.6661906, 11.200649705, 757.03413328, 1271.2082865, 3617.8614670999996, 855.05148731, 694.80095673, 9.8561254473, 1986.1460517, 1503.4361752, 380.96382893, 538.89439429, 1964.0765173, 150.78015119, 5.6166300021, 1723.7578145999998, 101.08265474, 1067.3782667, 1524.6129077, 50502.066285, 21388.088766, 376.20816292, 2930.7755505, 788.38603003, 817.44657082, 3672.6731845, 1149.2855359999999, 0.0, 1246.7432982999999, 555.62856582, 30589.003329000003, 3503.2126015, 0.0, 373.82784492, 0.0, 4492.4191848, 217.55273049, 0.0, 477.00530371, 61.8862924, 983.15645603, 50.107725607, 75.375499483, 180.44522214, 7159.922204899999, 1322.975573, 198.80808994, 144.45811640000002, 2667.5202044, 0.0, 0.0, 6114.0125295, 7816.8256028, 0.0, 287.32743677, 1799.735679, 0.0, 59.65, 70.987786814, 80.997614313, 32986.390944, 142.14892429, 1788.0945570999997, 21479.011596, 5.7986085075, 0.0, 5343.1027567, 136.33408, 317.81482400000004, 0.0, 87.711847527, 21.676, 4033.3997346, 456.71801848, 390.81134112, 590.38768645, 1213.9699988, 406.39365, 228.20383779, 1407.8641678, 62.21059253600001, 0.0, 3197.0801438999997, 38.42475, 48.1781, 0.0, 625.50621395, 453.72912876, 0.0, 540.2626311, 0.0, 534.47290048, 3866.8953974, 17687.439677000002, 19.699605, 1505.5384385, 3492.9827584, 3430.2405816, 0.0, 0.0, 0.0, 445.10812672, 2663.9339656999996, 0.0, 0.0, 22963.750368, 0.0, 870.99759136, 882.09899337, 370.47491525, 1591.0222202, 62.793967015, 0.0, 358.56623382, 6384.813536899999, 0.0, 4909.8552779, 441.846891, 0.0, 16525.094654, 0.0, 8458.5306558, 58.671195131000005, 1268.8120494999998, 31.986720000000002, 145.00440472, 36.7772, 0.0, 71420.190689, 14.690159189000001, 1649.5643159, 8.259580837, 0.0, 19.3006057, 0.0, 2144.9117748, 571.28109809, 56.932253048, 4911.0872446, 249.23716673, 4011.4862067000004, 13276.842564, 15657.877466, 1105.8077972, 72705.740502, 2834.7772056, 136306.90689, 14639.635741, 95744.08001, 2399.887906, 39745.303259, 33606.780543, 25847.832187, 35132.414818, 3553.8550279, 288559.03450999997, 12690.095751, 569.0712480000001, 139213.85613, 59697.86204199999, 9480.1127222, 140850.56154, 59.816963376000004, 1477.8840252, 17278.237235, 20811.205677, 4802.200682600001, 135814.73322, 101475.95522999999, 584404.3136, 11437.585395, 81695.67203300001, 23212.036908000002, 23450.655963, 57355.383638, 2825.0282672, 344759.18906, 45450.90402, 94485.56728300001, 8079.5300263, 395516.83038, 40809.356414999995, 4648.2060617, 21572.46144, 32114.42677, 5944.1782846, 40238.619573, 36428.616768, 22121.193607, 4192.0615479, 14741.338878, 14667.965396000001, 126304.40715, 676.0543364, 208957.37899, 87386.207789, 3660.4490343, 3032.2038295, 44897.632057999996, 45857.673801, 27003.779698000002, 3244.4203094, 27799.574375, 22854.45028, 1131545.5336, 56455.514062, 2089.467892, 27714.836507999997, 7264.59629, 1044.4067621, 694.5331982000001, 11810.927085, 39.99560355, 2133.1476147, 1468.6748788, 16245.032169, 20032.689323, 16201.360501, 2143.8635175, 110.73815649999999, 331.65999369, 112887.51919, 1179.9281955999998, 77202.275786, 34637.481684, 8523.9261818, 3234.2069903, 7236.125804699999, 7281.7548486000005, 82849.515791, 158813.08504, 3424.5097133, 61695.513415999994, 36.640483, 41190.952752, 18753.661916999998, 2021.1301571, 4641.6677188, 21792.941099, 20691.912671000002, 7955.3677555, 20292.028803999998, 32749.225435000004, 103119.69052, 1223.3370400000001, 73.72075722, 57287.936246000005, 2077.6621359, 63941.609034, 21555.271943, 62252.625441, 11332.458687, 12176.37644, 21676.434115, 62433.564528999996, 439916.1475, 49355.842558, 27453.649446, 5438.9958656, 217.67879345, 4597.279278800001, 45770.144887, 273011.48355, 1382.5078589000002, 10136.997645, 1327.862823, 954.48274, 16173.004928, 13846.847346, 2333.9426206999997, 92757.55235, 47164.473954, 107101.47077, 226914.24365, 86428.888155, 982.71581659, 108313.51333, 1243579.7475, 156.26884773, 1112.319928, 376.89595077, 330.26792736, 819.08406338, 3282.4190618000002, 3378.0380920999996, 3913.9886924999996, 4061.0055420000003, 1905.9489346, 3529.2730541999995, 10023.994632, 49883.936931000004, 42402.921995, 45600.139013, 126261.48163, 51015.457284, 59069.340692, 1686.9513059, 26393.229186, 1374454.3943, 12062.856170000001, 26604.42579, 74.09482497399999, 6949.5965848999995, 213646.77555, 746.12032002, 182.9776, 2043.2189697000001, 51.14090804600001, 1274.5825816, 2518095.8975, 993.45693664, 1701.9009904, 268023.67991, 48559.434995999996, 686.7626307999999, 172750.7002]}],                        {\"template\": {\"data\": {\"bar\": [{\"error_x\": {\"color\": \"#2a3f5f\"}, \"error_y\": {\"color\": \"#2a3f5f\"}, \"marker\": {\"line\": {\"color\": \"#E5ECF6\", \"width\": 0.5}}, \"type\": \"bar\"}], \"barpolar\": [{\"marker\": {\"line\": {\"color\": \"#E5ECF6\", \"width\": 0.5}}, \"type\": \"barpolar\"}], \"carpet\": [{\"aaxis\": {\"endlinecolor\": \"#2a3f5f\", \"gridcolor\": \"white\", \"linecolor\": \"white\", \"minorgridcolor\": \"white\", \"startlinecolor\": \"#2a3f5f\"}, \"baxis\": {\"endlinecolor\": \"#2a3f5f\", \"gridcolor\": \"white\", \"linecolor\": \"white\", \"minorgridcolor\": \"white\", \"startlinecolor\": \"#2a3f5f\"}, \"type\": \"carpet\"}], \"choropleth\": [{\"colorbar\": {\"outlinewidth\": 0, \"ticks\": \"\"}, \"type\": \"choropleth\"}], \"contour\": [{\"colorbar\": {\"outlinewidth\": 0, \"ticks\": \"\"}, \"colorscale\": [[0.0, \"#0d0887\"], [0.1111111111111111, \"#46039f\"], [0.2222222222222222, \"#7201a8\"], [0.3333333333333333, \"#9c179e\"], [0.4444444444444444, \"#bd3786\"], [0.5555555555555556, \"#d8576b\"], [0.6666666666666666, \"#ed7953\"], [0.7777777777777778, \"#fb9f3a\"], [0.8888888888888888, \"#fdca26\"], [1.0, \"#f0f921\"]], \"type\": \"contour\"}], \"contourcarpet\": [{\"colorbar\": {\"outlinewidth\": 0, \"ticks\": \"\"}, \"type\": \"contourcarpet\"}], \"heatmap\": [{\"colorbar\": {\"outlinewidth\": 0, \"ticks\": \"\"}, \"colorscale\": [[0.0, \"#0d0887\"], [0.1111111111111111, \"#46039f\"], [0.2222222222222222, \"#7201a8\"], [0.3333333333333333, \"#9c179e\"], [0.4444444444444444, \"#bd3786\"], [0.5555555555555556, \"#d8576b\"], [0.6666666666666666, \"#ed7953\"], [0.7777777777777778, \"#fb9f3a\"], [0.8888888888888888, \"#fdca26\"], [1.0, \"#f0f921\"]], \"type\": \"heatmap\"}], \"heatmapgl\": [{\"colorbar\": {\"outlinewidth\": 0, \"ticks\": \"\"}, \"colorscale\": [[0.0, \"#0d0887\"], [0.1111111111111111, \"#46039f\"], [0.2222222222222222, \"#7201a8\"], [0.3333333333333333, \"#9c179e\"], [0.4444444444444444, \"#bd3786\"], [0.5555555555555556, \"#d8576b\"], [0.6666666666666666, \"#ed7953\"], [0.7777777777777778, \"#fb9f3a\"], [0.8888888888888888, \"#fdca26\"], [1.0, \"#f0f921\"]], \"type\": \"heatmapgl\"}], \"histogram\": [{\"marker\": {\"colorbar\": {\"outlinewidth\": 0, \"ticks\": \"\"}}, \"type\": \"histogram\"}], \"histogram2d\": [{\"colorbar\": {\"outlinewidth\": 0, \"ticks\": \"\"}, \"colorscale\": [[0.0, \"#0d0887\"], [0.1111111111111111, \"#46039f\"], [0.2222222222222222, \"#7201a8\"], [0.3333333333333333, \"#9c179e\"], [0.4444444444444444, \"#bd3786\"], [0.5555555555555556, \"#d8576b\"], [0.6666666666666666, \"#ed7953\"], [0.7777777777777778, \"#fb9f3a\"], [0.8888888888888888, \"#fdca26\"], [1.0, \"#f0f921\"]], \"type\": \"histogram2d\"}], \"histogram2dcontour\": [{\"colorbar\": {\"outlinewidth\": 0, \"ticks\": \"\"}, \"colorscale\": [[0.0, \"#0d0887\"], [0.1111111111111111, \"#46039f\"], [0.2222222222222222, \"#7201a8\"], [0.3333333333333333, \"#9c179e\"], [0.4444444444444444, \"#bd3786\"], [0.5555555555555556, \"#d8576b\"], [0.6666666666666666, \"#ed7953\"], [0.7777777777777778, \"#fb9f3a\"], [0.8888888888888888, \"#fdca26\"], [1.0, \"#f0f921\"]], \"type\": \"histogram2dcontour\"}], \"mesh3d\": [{\"colorbar\": {\"outlinewidth\": 0, \"ticks\": \"\"}, \"type\": \"mesh3d\"}], \"parcoords\": [{\"line\": {\"colorbar\": {\"outlinewidth\": 0, \"ticks\": \"\"}}, \"type\": \"parcoords\"}], \"pie\": [{\"automargin\": true, \"type\": \"pie\"}], \"scatter\": [{\"marker\": {\"colorbar\": {\"outlinewidth\": 0, \"ticks\": \"\"}}, \"type\": \"scatter\"}], \"scatter3d\": [{\"line\": {\"colorbar\": {\"outlinewidth\": 0, \"ticks\": \"\"}}, \"marker\": {\"colorbar\": {\"outlinewidth\": 0, \"ticks\": \"\"}}, \"type\": \"scatter3d\"}], \"scattercarpet\": [{\"marker\": {\"colorbar\": {\"outlinewidth\": 0, \"ticks\": \"\"}}, \"type\": \"scattercarpet\"}], \"scattergeo\": [{\"marker\": {\"colorbar\": {\"outlinewidth\": 0, \"ticks\": \"\"}}, \"type\": \"scattergeo\"}], \"scattergl\": [{\"marker\": {\"colorbar\": {\"outlinewidth\": 0, \"ticks\": \"\"}}, \"type\": \"scattergl\"}], \"scattermapbox\": [{\"marker\": {\"colorbar\": {\"outlinewidth\": 0, \"ticks\": \"\"}}, \"type\": \"scattermapbox\"}], \"scatterpolar\": [{\"marker\": {\"colorbar\": {\"outlinewidth\": 0, \"ticks\": \"\"}}, \"type\": \"scatterpolar\"}], \"scatterpolargl\": [{\"marker\": {\"colorbar\": {\"outlinewidth\": 0, \"ticks\": \"\"}}, \"type\": \"scatterpolargl\"}], \"scatterternary\": [{\"marker\": {\"colorbar\": {\"outlinewidth\": 0, \"ticks\": \"\"}}, \"type\": \"scatterternary\"}], \"surface\": [{\"colorbar\": {\"outlinewidth\": 0, \"ticks\": \"\"}, \"colorscale\": [[0.0, \"#0d0887\"], [0.1111111111111111, \"#46039f\"], [0.2222222222222222, \"#7201a8\"], [0.3333333333333333, \"#9c179e\"], [0.4444444444444444, \"#bd3786\"], [0.5555555555555556, \"#d8576b\"], [0.6666666666666666, \"#ed7953\"], [0.7777777777777778, \"#fb9f3a\"], [0.8888888888888888, \"#fdca26\"], [1.0, \"#f0f921\"]], \"type\": \"surface\"}], \"table\": [{\"cells\": {\"fill\": {\"color\": \"#EBF0F8\"}, \"line\": {\"color\": \"white\"}}, \"header\": {\"fill\": {\"color\": \"#C8D4E3\"}, \"line\": {\"color\": \"white\"}}, \"type\": \"table\"}]}, \"layout\": {\"annotationdefaults\": {\"arrowcolor\": \"#2a3f5f\", \"arrowhead\": 0, \"arrowwidth\": 1}, \"coloraxis\": {\"colorbar\": {\"outlinewidth\": 0, \"ticks\": \"\"}}, \"colorscale\": {\"diverging\": [[0, \"#8e0152\"], [0.1, \"#c51b7d\"], [0.2, \"#de77ae\"], [0.3, \"#f1b6da\"], [0.4, \"#fde0ef\"], [0.5, \"#f7f7f7\"], [0.6, \"#e6f5d0\"], [0.7, \"#b8e186\"], [0.8, \"#7fbc41\"], [0.9, \"#4d9221\"], [1, \"#276419\"]], \"sequential\": [[0.0, \"#0d0887\"], [0.1111111111111111, \"#46039f\"], [0.2222222222222222, \"#7201a8\"], [0.3333333333333333, \"#9c179e\"], [0.4444444444444444, \"#bd3786\"], [0.5555555555555556, \"#d8576b\"], [0.6666666666666666, \"#ed7953\"], [0.7777777777777778, \"#fb9f3a\"], [0.8888888888888888, \"#fdca26\"], [1.0, \"#f0f921\"]], \"sequentialminus\": [[0.0, \"#0d0887\"], [0.1111111111111111, \"#46039f\"], [0.2222222222222222, \"#7201a8\"], [0.3333333333333333, \"#9c179e\"], [0.4444444444444444, \"#bd3786\"], [0.5555555555555556, \"#d8576b\"], [0.6666666666666666, \"#ed7953\"], [0.7777777777777778, \"#fb9f3a\"], [0.8888888888888888, \"#fdca26\"], [1.0, \"#f0f921\"]]}, \"colorway\": [\"#636efa\", \"#EF553B\", \"#00cc96\", \"#ab63fa\", \"#FFA15A\", \"#19d3f3\", \"#FF6692\", \"#B6E880\", \"#FF97FF\", \"#FECB52\"], \"font\": {\"color\": \"#2a3f5f\"}, \"geo\": {\"bgcolor\": \"white\", \"lakecolor\": \"white\", \"landcolor\": \"#E5ECF6\", \"showlakes\": true, \"showland\": true, \"subunitcolor\": \"white\"}, \"hoverlabel\": {\"align\": \"left\"}, \"hovermode\": \"closest\", \"mapbox\": {\"style\": \"light\"}, \"paper_bgcolor\": \"white\", \"plot_bgcolor\": \"#E5ECF6\", \"polar\": {\"angularaxis\": {\"gridcolor\": \"white\", \"linecolor\": \"white\", \"ticks\": \"\"}, \"bgcolor\": \"#E5ECF6\", \"radialaxis\": {\"gridcolor\": \"white\", \"linecolor\": \"white\", \"ticks\": \"\"}}, \"scene\": {\"xaxis\": {\"backgroundcolor\": \"#E5ECF6\", \"gridcolor\": \"white\", \"gridwidth\": 2, \"linecolor\": \"white\", \"showbackground\": true, \"ticks\": \"\", \"zerolinecolor\": \"white\"}, \"yaxis\": {\"backgroundcolor\": \"#E5ECF6\", \"gridcolor\": \"white\", \"gridwidth\": 2, \"linecolor\": \"white\", \"showbackground\": true, \"ticks\": \"\", \"zerolinecolor\": \"white\"}, \"zaxis\": {\"backgroundcolor\": \"#E5ECF6\", \"gridcolor\": \"white\", \"gridwidth\": 2, \"linecolor\": \"white\", \"showbackground\": true, \"ticks\": \"\", \"zerolinecolor\": \"white\"}}, \"shapedefaults\": {\"line\": {\"color\": \"#2a3f5f\"}}, \"ternary\": {\"aaxis\": {\"gridcolor\": \"white\", \"linecolor\": \"white\", \"ticks\": \"\"}, \"baxis\": {\"gridcolor\": \"white\", \"linecolor\": \"white\", \"ticks\": \"\"}, \"bgcolor\": \"#E5ECF6\", \"caxis\": {\"gridcolor\": \"white\", \"linecolor\": \"white\", \"ticks\": \"\"}}, \"title\": {\"x\": 0.05}, \"xaxis\": {\"automargin\": true, \"gridcolor\": \"white\", \"linecolor\": \"white\", \"ticks\": \"\", \"title\": {\"standoff\": 15}, \"zerolinecolor\": \"white\", \"zerolinewidth\": 2}, \"yaxis\": {\"automargin\": true, \"gridcolor\": \"white\", \"linecolor\": \"white\", \"ticks\": \"\", \"title\": {\"standoff\": 15}, \"zerolinecolor\": \"white\", \"zerolinewidth\": 2}}}, \"title\": {\"text\": \"Currency(USD) Volume traded in Bitcoin (2014-2020) with the slider\"}, \"xaxis\": {\"rangeselector\": {\"buttons\": [{\"count\": 1, \"label\": \"1m\", \"step\": \"month\", \"stepmode\": \"backward\"}, {\"count\": 6, \"label\": \"6m\", \"step\": \"month\", \"stepmode\": \"backward\"}, {\"count\": 12, \"label\": \"1y\", \"step\": \"month\", \"stepmode\": \"backward\"}, {\"count\": 36, \"label\": \"3y\", \"step\": \"month\", \"stepmode\": \"backward\"}, {\"count\": 60, \"label\": \"5y\", \"step\": \"month\", \"stepmode\": \"backward\"}, {\"step\": \"all\"}]}, \"rangeslider\": {\"visible\": true}, \"type\": \"date\"}},                        {\"responsive\": true}                    ).then(function(){\n",
       "                            \n",
       "var gd = document.getElementById('e7bdc291-9184-4772-ba01-4cd10ecca313');\n",
       "var x = new MutationObserver(function (mutations, observer) {{\n",
       "        var display = window.getComputedStyle(gd).display;\n",
       "        if (!display || display === 'none') {{\n",
       "            console.log([gd, 'removed!']);\n",
       "            Plotly.purge(gd);\n",
       "            observer.disconnect();\n",
       "        }}\n",
       "}});\n",
       "\n",
       "// Listen for the removal of the full notebook cells\n",
       "var notebookContainer = gd.closest('#notebook-container');\n",
       "if (notebookContainer) {{\n",
       "    x.observe(notebookContainer, {childList: true});\n",
       "}}\n",
       "\n",
       "// Listen for the clearing of the current output cell\n",
       "var outputEl = gd.closest('.output');\n",
       "if (outputEl) {{\n",
       "    x.observe(outputEl, {childList: true});\n",
       "}}\n",
       "\n",
       "                        })                };                });            </script>        </div>"
      ]
     },
     "metadata": {},
     "output_type": "display_data"
    }
   ],
   "source": [
    "trace1 = go.Scatter(\n",
    "    x = weekly_rows['Timestamp'],\n",
    "    y = weekly_rows['Volume_(Currency)'].astype(float),\n",
    "    mode = 'lines',\n",
    "    name = 'Currency',\n",
    "    marker = dict(\n",
    "            color='#FFBB33')\n",
    ")\n",
    "\n",
    "layout = dict(\n",
    "    title='Currency(USD) Volume traded in Bitcoin (2014-2020) with the slider',\n",
    "    xaxis=dict(\n",
    "        rangeselector=dict(\n",
    "            buttons=list([\n",
    "                dict(count=1,\n",
    "                     label='1m',\n",
    "                     step='month',\n",
    "                     stepmode='backward'),\n",
    "                dict(count=6,\n",
    "                     label='6m',\n",
    "                     step='month',\n",
    "                     stepmode='backward'),\n",
    "                dict(count=12,\n",
    "                     label='1y',\n",
    "                     step='month',\n",
    "                     stepmode='backward'),\n",
    "                dict(count=36,\n",
    "                     label='3y',\n",
    "                     step='month',\n",
    "                     stepmode='backward'),\n",
    "                dict(count=60,\n",
    "                     label='5y',\n",
    "                     step='month',\n",
    "                     stepmode='backward'),\n",
    "                dict(step='all')\n",
    "            ])\n",
    "        ),\n",
    "        rangeslider=dict(\n",
    "            visible = True\n",
    "        ),\n",
    "        type='date'\n",
    "    )\n",
    ")\n",
    "\n",
    "data = [trace1]\n",
    "fig = dict(data=data, layout=layout)\n",
    "iplot(fig, filename = \"Time Series with Rangeslider\")"
   ]
  },
  {
   "cell_type": "code",
   "execution_count": 21,
   "metadata": {},
   "outputs": [
    {
     "data": {
      "application/vnd.plotly.v1+json": {
       "config": {
        "linkText": "Export to plot.ly",
        "plotlyServerURL": "https://plot.ly",
        "showLink": false
       },
       "data": [
        {
         "marker": {
          "color": "#00FF00",
          "line": {
           "width": 1
          }
         },
         "mode": "markers",
         "type": "scattergl",
         "x": [
          734.86967854,
          0,
          812.90189573,
          828.2,
          786.47078211,
          811.36535519,
          661.09862405,
          641.89006334,
          549.23112727,
          672.85427825,
          622.9,
          626.74852125,
          573.82597654,
          458.18649963,
          447.9,
          457.88352669,
          494.03515266,
          446.91634505,
          0,
          0,
          446.02853394,
          585.52,
          632.93865204,
          649.90443899,
          595.25,
          588.24415179,
          621.85091176,
          624.92855647,
          622.97,
          619.5,
          588.44,
          592.97774208,
          578.86128368,
          463.13121519,
          503.99,
          481.47916026,
          474.38,
          475.52145861,
          400.74448006,
          380.10698657,
          333.99,
          380.49,
          383.60197276,
          354.94575776,
          327.08181903,
          374.80483675,
          382.64396714,
          385.26954171,
          378.17,
          366.99148392,
          351.9600724,
          332.97787624,
          313.90012512,
          287.20942631,
          271.62836505,
          212.32460287,
          270.07706165,
          225.89857594,
          220.03176186,
          236.7150491,
          236.99052191,
          0,
          285.14025421,
          290.89905018,
          264.95370852,
          245.23030241,
          0,
          226.10804767,
          0,
          222.46372847,
          236.23079040000002,
          0,
          235.95010702,
          236.21263235,
          221.94515384,
          227.96963424,
          236.66330495,
          246.49162863,
          254.1591821,
          272.31244942,
          289.05,
          277.87,
          292.16252407,
          0,
          0,
          257.01481433,
          213.60849266,
          0,
          240.08917794,
          231.07307424,
          0,
          238.6,
          239.47325311,
          246.18,
          263.68609092,
          285.24658442,
          342.47328519,
          377.76088401,
          330.09,
          0,
          373,
          396.32,
          445.36830717,
          0,
          423.74787232,
          433.52,
          447.70841609,
          385.92016856,
          387.74445311,
          373.34,
          375,
          400.38783251,
          438.45,
          435.08467477,
          411.53662605,
          0,
          410.41507,
          422.25,
          418.94,
          0,
          427.17080786,
          463,
          0,
          463.88140360000006,
          0,
          442.70860229,
          531.80637724,
          584.0009464999999,
          691.21421053,
          739.73255733,
          636.96689493,
          668.39851871,
          0,
          0,
          0,
          613.43759191,
          590.98983616,
          0,
          0,
          574.09375919,
          0,
          604.71373183,
          607.94,
          604.12823351,
          610.57319641,
          614.61217392,
          0,
          649.15919056,
          704.95478452,
          0,
          698.45,
          736.77987494,
          0,
          750.06602605,
          0,
          790.59571128,
          899.88,
          1022,
          888.52,
          828.46082548,
          919.43,
          0,
          1018.5594811000001,
          997.3,
          1060.7922583,
          1190.33,
          0,
          1238,
          0,
          1024.9837644,
          1130.7237,
          1209.859059,
          1178.9979114,
          1249.9647897,
          1403.953043,
          1583.8268194,
          1719.9981581,
          2206.9661348,
          2300.58139,
          2624.4112010000003,
          2572.6534863,
          2584.0913489,
          2365.4766105,
          2539.6576875,
          2402.5007464,
          2131.5316377,
          2728.1367921,
          2795.9185540999997,
          3345.8840434999997,
          4280.4262067,
          3991.1966851999996,
          4332.48,
          4148.7966261,
          4227.8398816,
          4022.9885780999994,
          3918.6799211999996,
          4378.33,
          4687.270385899999,
          5679.1709696,
          5817.5604236,
          6126.2099892,
          7057.1608741,
          6347.4737115,
          8200.0576248,
          9549.999688400001,
          11191.546554,
          16323.17181,
          18458.995165,
          14041.606616,
          13257.485323,
          15081.304147,
          13984.682181999999,
          10660.506157,
          11197.216468,
          6953.5385715,
          8654.630916,
          11045.137231,
          10233.615484,
          11510.895816,
          9227.849455,
          8380.2723107,
          7894.9539263,
          6967.0551368,
          6741.594748899999,
          8026.5279977,
          8908.571455500001,
          9349.2177711,
          9355.977635,
          8746.916997700002,
          8350.6067866,
          7240.1445373999995,
          7481.691393699999,
          6708.4190493999995,
          6741.2131148,
          6281.8723346,
          6614.356769399999,
          6696.0245049,
          6691.9407863999995,
          7789.7334992,
          7921.5754782,
          6906.8599248,
          6222.3010011999995,
          6472.467439999999,
          6727.307125599999,
          7270.591337299999,
          6264.3174415,
          6309.45,
          6641.406001199999,
          6575.3495648,
          6610.3583133,
          6401.906755100001,
          6394.5146513,
          6262,
          6388.8,
          6333.3124622000005,
          5001.8353132,
          3742.0904539000003,
          3834.0459099,
          3423.7957621,
          3443.2546345,
          4070.1737493,
          3750.64,
          4020.2945296999997,
          3686.992486,
          3531.0869205,
          3421.3595308,
          3417.1988019,
          3591.5,
          3887.7332305,
          3843.0476608999998,
          3706.1903828,
          3854.38,
          3964.4549026999994,
          3929.2370196999996,
          4131.7705549,
          5218.8364836,
          5042.6190353,
          5371.059950399999,
          5138.3256455,
          5709.162307500001,
          7888.7785865999995,
          7789.434721199999,
          8761.2685636,
          8519.463554,
          7955.029920999999,
          9249.1595775,
          11018.243969,
          10242.172594,
          11869.788551,
          10777.321637000001,
          10263.980465999999,
          9477.813401700001,
          11814.604164,
          11370.369777,
          10713.198597,
          10296.463673,
          10161.072462,
          10258.697723000001,
          10126.193301000001,
          9810.1772706,
          8309.0983007,
          8267.741147300001,
          8352.785133,
          8183.514317800001,
          9495.5304748,
          9296.5560001,
          8732.1403981,
          8137.3435566,
          7264.034525399999,
          7271.417717899999,
          7445.4685856999995,
          6994.1442087,
          7428.621235,
          7233.864362199999,
          7542.8671362000005,
          8089.1595558,
          8650.1214259,
          8762.3934847,
          9250.438143700001,
          9843.260814899999,
          9606.8430105,
          9528.2082496,
          8889.506577299999,
          7757.1109153,
          5072.328717,
          6310.78508,
          6353.3387,
          7206.896592199999,
          6788.3751905,
          6864.9187325,
          7689.872773800001,
          8842.9762116,
          8503.729267899998,
          9616.655644700002,
          8890.0822677,
          9567.4,
          9730.445939700001,
          9389.359035899999,
          9582.2408325,
          9148.88,
          9302.5046994,
          9283.19,
          9186.294645200001,
          10805.154923,
          11404.683213,
          11892.296693,
          12350.647549,
          11719.191401,
          11730.13,
          10195.897418
         ],
         "y": [
          0.192,
          0,
          57.72965722,
          0.00601304,
          0.69135715,
          0.183,
          2.69306707,
          0.79250331,
          41.02032841,
          50.41022704,
          0.99521173,
          1.84,
          9.92874344,
          3.54149393,
          0.0538,
          163.07383228,
          3.36555987,
          0.48505647,
          0,
          0,
          4.19886163,
          0.39132737,
          4.70262403,
          0.49708177,
          1.13038219,
          0.72582194,
          2.68646851,
          11.71085833,
          0.51866229,
          0.01689351,
          0.46601293,
          0.03719535,
          6.62076868,
          64.05188274,
          8.6304613,
          0.023263,
          1.59583906,
          2.67329321,
          9.02785103,
          2.24950216,
          2.08030467,
          0.02590377,
          5.1776221,
          4.23567867,
          1.16473557,
          1.4378,
          5.13290862,
          0.39136276,
          0.01485213,
          4.69699677,
          0.28719921,
          3.20555311,
          4.857,
          175.83707796,
          78.7402625,
          1.77185384,
          10.85162706,
          3.49,
          3.71512987,
          15.51516559,
          4.8495,
          0,
          4.37238615,
          1.91003912,
          115.45036867,
          14.28539853,
          0,
          1.65331508,
          0,
          20.193939999999998,
          0.920933,
          0,
          2.02163631,
          0.261994,
          4.42972707,
          0.2198,
          0.31849255,
          0.73205416,
          28.17101529,
          4.8583,
          0.68779827,
          0.51987662,
          9.13026136,
          0,
          0,
          23.78856077,
          36.59417051,
          0,
          1.19675297,
          7.78859971,
          0,
          0.25,
          0.29643305,
          0.32901785,
          125.09719731,
          0.49833699,
          5.22112128,
          56.85874982,
          0.01756675,
          0,
          14.32467227,
          0.344,
          0.7136,
          0,
          0.20699065,
          0.05,
          9.00898797,
          1.18345206,
          1.00790956,
          1.58136735,
          3.23725333,
          1.015,
          0.52047859,
          3.23583948,
          0.1511666,
          0,
          7.78987025,
          0.091,
          0.115,
          0,
          1.4643,
          0.97997652,
          0,
          1.1646568000000002,
          0,
          1.20727923,
          7.27124676,
          30.28666269,
          0.0285,
          2.03524696,
          5.48377441,
          5.132029,
          0,
          0,
          0,
          0.72559643,
          4.50758,
          0,
          0,
          40,
          0,
          1.44034697,
          1.4509638999999999,
          0.61323887,
          2.60578458,
          0.10216844,
          0,
          0.55235486,
          9.05705398,
          0,
          7.02964461,
          0.5997,
          0,
          22.03152,
          0,
          10.69893314,
          0.06519891,
          1.24149907,
          0.036000000000000004,
          0.17502868,
          0.04,
          0,
          70.11882174,
          0.01472993,
          1.5550305,
          0.0069389,
          0,
          0.01559015,
          0,
          2.0926299999999998,
          0.50523492,
          0.04705693,
          4.16547578,
          0.19939535,
          2.85727947,
          8.38276155,
          9.10342688,
          0.50105336,
          31.60320292,
          1.08015741,
          52.98300281,
          5.66529343,
          40.47559785,
          0.94496511,
          16.54330527,
          15.76649389,
          9.47453671,
          12.56560738,
          1.06215726,
          67.41362205,
          3.17952152,
          0.13135,
          33.5552375,
          14.12018045,
          2.35648512,
          35.9433698,
          0.01366205,
          0.31529737,
          3.04238723,
          3.57730804,
          0.78387791,
          19.24495355,
          15.9868256,
          71.2683179,
          1.19765296,
          7.29976609,
          1.42202981,
          1.27041888,
          4.08467387,
          0.2130893,
          22.86003821,
          3.25004912,
          8.86314082,
          0.72156594,
          56.87993621,
          4.71532025,
          0.42083733,
          2.108,
          2.78991551,
          0.6441564000000001,
          4.80158855,
          4.61416458,
          3.1751139,
          0.62182046,
          1.83657727,
          1.64650028,
          13.50962297,
          0.07225908,
          23.88926053,
          10.46465365,
          0.50557679,
          0.4052832,
          6.6927292000000005,
          6.80258479,
          4.2986832999999995,
          0.49051184,
          4.15165362,
          3.41522004,
          145.26113554,
          7.12680378,
          0.30252067,
          4.45411376,
          1.12238437,
          0.15524886,
          0.09552637,
          1.88542921,
          0.006339,
          0.32118916,
          0.22336073,
          2.45751159,
          3.12917543,
          2.53363412,
          0.34236083,
          0.01733317,
          0.05236754,
          22.56921952,
          0.31531258,
          20.13598105,
          10.11669039,
          2.47554337,
          0.79461153,
          1.92930428,
          1.8112491000000002,
          22.47075797,
          44.97569406,
          1.00092074,
          18.05441152,
          0.010202,
          10.59510782,
          4.87989314,
          0.545339,
          1.20425794,
          5.49708387,
          5.26614011,
          1.92541373,
          3.88822851,
          6.49448733,
          19.19913229,
          0.23808087,
          0.01291271,
          7.26195261,
          0.26672823,
          7.29821356,
          2.5301207999999997,
          7.82556773,
          1.22524199,
          1.10511044,
          2.11639024,
          5.25987167,
          40.81868968,
          4.80864541,
          2.8966227000000004,
          0.46036209,
          0.01914439,
          0.42912294,
          4.44522958,
          26.86837286,
          0.13476446,
          1.00106697,
          0.13535564,
          0.114872,
          1.95615763,
          1.65775213,
          0.28520053,
          9.76854875,
          5.07332758,
          12.26520256,
          27.885543,
          11.89819347,
          0.13514776,
          14.54757509,
          177.80298925,
          0.02103605,
          0.15376566,
          0.049967199999999996,
          0.04082846,
          0.09469047,
          0.37460302,
          0.36517601,
          0.39763131,
          0.42272009,
          0.20003225,
          0.39701563,
          1.29223299,
          9.83452369,
          6.71911996,
          7.17735055,
          17.51953563,
          7.51512046,
          8.60452148,
          0.21937311,
          2.98465455,
          161.62960403,
          1.25437123,
          2.99259613,
          0.00774451,
          0.71421152,
          22.75413846,
          0.07786491,
          0.02,
          0.21964181,
          0.00550898,
          0.13874828,
          233.045793,
          0.08710956,
          0.14310953,
          21.7011844,
          4.14358238,
          0.05854689,
          16.94315793
         ]
        }
       ],
       "layout": {
        "template": {
         "data": {
          "bar": [
           {
            "error_x": {
             "color": "#2a3f5f"
            },
            "error_y": {
             "color": "#2a3f5f"
            },
            "marker": {
             "line": {
              "color": "#E5ECF6",
              "width": 0.5
             }
            },
            "type": "bar"
           }
          ],
          "barpolar": [
           {
            "marker": {
             "line": {
              "color": "#E5ECF6",
              "width": 0.5
             }
            },
            "type": "barpolar"
           }
          ],
          "carpet": [
           {
            "aaxis": {
             "endlinecolor": "#2a3f5f",
             "gridcolor": "white",
             "linecolor": "white",
             "minorgridcolor": "white",
             "startlinecolor": "#2a3f5f"
            },
            "baxis": {
             "endlinecolor": "#2a3f5f",
             "gridcolor": "white",
             "linecolor": "white",
             "minorgridcolor": "white",
             "startlinecolor": "#2a3f5f"
            },
            "type": "carpet"
           }
          ],
          "choropleth": [
           {
            "colorbar": {
             "outlinewidth": 0,
             "ticks": ""
            },
            "type": "choropleth"
           }
          ],
          "contour": [
           {
            "colorbar": {
             "outlinewidth": 0,
             "ticks": ""
            },
            "colorscale": [
             [
              0,
              "#0d0887"
             ],
             [
              0.1111111111111111,
              "#46039f"
             ],
             [
              0.2222222222222222,
              "#7201a8"
             ],
             [
              0.3333333333333333,
              "#9c179e"
             ],
             [
              0.4444444444444444,
              "#bd3786"
             ],
             [
              0.5555555555555556,
              "#d8576b"
             ],
             [
              0.6666666666666666,
              "#ed7953"
             ],
             [
              0.7777777777777778,
              "#fb9f3a"
             ],
             [
              0.8888888888888888,
              "#fdca26"
             ],
             [
              1,
              "#f0f921"
             ]
            ],
            "type": "contour"
           }
          ],
          "contourcarpet": [
           {
            "colorbar": {
             "outlinewidth": 0,
             "ticks": ""
            },
            "type": "contourcarpet"
           }
          ],
          "heatmap": [
           {
            "colorbar": {
             "outlinewidth": 0,
             "ticks": ""
            },
            "colorscale": [
             [
              0,
              "#0d0887"
             ],
             [
              0.1111111111111111,
              "#46039f"
             ],
             [
              0.2222222222222222,
              "#7201a8"
             ],
             [
              0.3333333333333333,
              "#9c179e"
             ],
             [
              0.4444444444444444,
              "#bd3786"
             ],
             [
              0.5555555555555556,
              "#d8576b"
             ],
             [
              0.6666666666666666,
              "#ed7953"
             ],
             [
              0.7777777777777778,
              "#fb9f3a"
             ],
             [
              0.8888888888888888,
              "#fdca26"
             ],
             [
              1,
              "#f0f921"
             ]
            ],
            "type": "heatmap"
           }
          ],
          "heatmapgl": [
           {
            "colorbar": {
             "outlinewidth": 0,
             "ticks": ""
            },
            "colorscale": [
             [
              0,
              "#0d0887"
             ],
             [
              0.1111111111111111,
              "#46039f"
             ],
             [
              0.2222222222222222,
              "#7201a8"
             ],
             [
              0.3333333333333333,
              "#9c179e"
             ],
             [
              0.4444444444444444,
              "#bd3786"
             ],
             [
              0.5555555555555556,
              "#d8576b"
             ],
             [
              0.6666666666666666,
              "#ed7953"
             ],
             [
              0.7777777777777778,
              "#fb9f3a"
             ],
             [
              0.8888888888888888,
              "#fdca26"
             ],
             [
              1,
              "#f0f921"
             ]
            ],
            "type": "heatmapgl"
           }
          ],
          "histogram": [
           {
            "marker": {
             "colorbar": {
              "outlinewidth": 0,
              "ticks": ""
             }
            },
            "type": "histogram"
           }
          ],
          "histogram2d": [
           {
            "colorbar": {
             "outlinewidth": 0,
             "ticks": ""
            },
            "colorscale": [
             [
              0,
              "#0d0887"
             ],
             [
              0.1111111111111111,
              "#46039f"
             ],
             [
              0.2222222222222222,
              "#7201a8"
             ],
             [
              0.3333333333333333,
              "#9c179e"
             ],
             [
              0.4444444444444444,
              "#bd3786"
             ],
             [
              0.5555555555555556,
              "#d8576b"
             ],
             [
              0.6666666666666666,
              "#ed7953"
             ],
             [
              0.7777777777777778,
              "#fb9f3a"
             ],
             [
              0.8888888888888888,
              "#fdca26"
             ],
             [
              1,
              "#f0f921"
             ]
            ],
            "type": "histogram2d"
           }
          ],
          "histogram2dcontour": [
           {
            "colorbar": {
             "outlinewidth": 0,
             "ticks": ""
            },
            "colorscale": [
             [
              0,
              "#0d0887"
             ],
             [
              0.1111111111111111,
              "#46039f"
             ],
             [
              0.2222222222222222,
              "#7201a8"
             ],
             [
              0.3333333333333333,
              "#9c179e"
             ],
             [
              0.4444444444444444,
              "#bd3786"
             ],
             [
              0.5555555555555556,
              "#d8576b"
             ],
             [
              0.6666666666666666,
              "#ed7953"
             ],
             [
              0.7777777777777778,
              "#fb9f3a"
             ],
             [
              0.8888888888888888,
              "#fdca26"
             ],
             [
              1,
              "#f0f921"
             ]
            ],
            "type": "histogram2dcontour"
           }
          ],
          "mesh3d": [
           {
            "colorbar": {
             "outlinewidth": 0,
             "ticks": ""
            },
            "type": "mesh3d"
           }
          ],
          "parcoords": [
           {
            "line": {
             "colorbar": {
              "outlinewidth": 0,
              "ticks": ""
             }
            },
            "type": "parcoords"
           }
          ],
          "pie": [
           {
            "automargin": true,
            "type": "pie"
           }
          ],
          "scatter": [
           {
            "marker": {
             "colorbar": {
              "outlinewidth": 0,
              "ticks": ""
             }
            },
            "type": "scatter"
           }
          ],
          "scatter3d": [
           {
            "line": {
             "colorbar": {
              "outlinewidth": 0,
              "ticks": ""
             }
            },
            "marker": {
             "colorbar": {
              "outlinewidth": 0,
              "ticks": ""
             }
            },
            "type": "scatter3d"
           }
          ],
          "scattercarpet": [
           {
            "marker": {
             "colorbar": {
              "outlinewidth": 0,
              "ticks": ""
             }
            },
            "type": "scattercarpet"
           }
          ],
          "scattergeo": [
           {
            "marker": {
             "colorbar": {
              "outlinewidth": 0,
              "ticks": ""
             }
            },
            "type": "scattergeo"
           }
          ],
          "scattergl": [
           {
            "marker": {
             "colorbar": {
              "outlinewidth": 0,
              "ticks": ""
             }
            },
            "type": "scattergl"
           }
          ],
          "scattermapbox": [
           {
            "marker": {
             "colorbar": {
              "outlinewidth": 0,
              "ticks": ""
             }
            },
            "type": "scattermapbox"
           }
          ],
          "scatterpolar": [
           {
            "marker": {
             "colorbar": {
              "outlinewidth": 0,
              "ticks": ""
             }
            },
            "type": "scatterpolar"
           }
          ],
          "scatterpolargl": [
           {
            "marker": {
             "colorbar": {
              "outlinewidth": 0,
              "ticks": ""
             }
            },
            "type": "scatterpolargl"
           }
          ],
          "scatterternary": [
           {
            "marker": {
             "colorbar": {
              "outlinewidth": 0,
              "ticks": ""
             }
            },
            "type": "scatterternary"
           }
          ],
          "surface": [
           {
            "colorbar": {
             "outlinewidth": 0,
             "ticks": ""
            },
            "colorscale": [
             [
              0,
              "#0d0887"
             ],
             [
              0.1111111111111111,
              "#46039f"
             ],
             [
              0.2222222222222222,
              "#7201a8"
             ],
             [
              0.3333333333333333,
              "#9c179e"
             ],
             [
              0.4444444444444444,
              "#bd3786"
             ],
             [
              0.5555555555555556,
              "#d8576b"
             ],
             [
              0.6666666666666666,
              "#ed7953"
             ],
             [
              0.7777777777777778,
              "#fb9f3a"
             ],
             [
              0.8888888888888888,
              "#fdca26"
             ],
             [
              1,
              "#f0f921"
             ]
            ],
            "type": "surface"
           }
          ],
          "table": [
           {
            "cells": {
             "fill": {
              "color": "#EBF0F8"
             },
             "line": {
              "color": "white"
             }
            },
            "header": {
             "fill": {
              "color": "#C8D4E3"
             },
             "line": {
              "color": "white"
             }
            },
            "type": "table"
           }
          ]
         },
         "layout": {
          "annotationdefaults": {
           "arrowcolor": "#2a3f5f",
           "arrowhead": 0,
           "arrowwidth": 1
          },
          "coloraxis": {
           "colorbar": {
            "outlinewidth": 0,
            "ticks": ""
           }
          },
          "colorscale": {
           "diverging": [
            [
             0,
             "#8e0152"
            ],
            [
             0.1,
             "#c51b7d"
            ],
            [
             0.2,
             "#de77ae"
            ],
            [
             0.3,
             "#f1b6da"
            ],
            [
             0.4,
             "#fde0ef"
            ],
            [
             0.5,
             "#f7f7f7"
            ],
            [
             0.6,
             "#e6f5d0"
            ],
            [
             0.7,
             "#b8e186"
            ],
            [
             0.8,
             "#7fbc41"
            ],
            [
             0.9,
             "#4d9221"
            ],
            [
             1,
             "#276419"
            ]
           ],
           "sequential": [
            [
             0,
             "#0d0887"
            ],
            [
             0.1111111111111111,
             "#46039f"
            ],
            [
             0.2222222222222222,
             "#7201a8"
            ],
            [
             0.3333333333333333,
             "#9c179e"
            ],
            [
             0.4444444444444444,
             "#bd3786"
            ],
            [
             0.5555555555555556,
             "#d8576b"
            ],
            [
             0.6666666666666666,
             "#ed7953"
            ],
            [
             0.7777777777777778,
             "#fb9f3a"
            ],
            [
             0.8888888888888888,
             "#fdca26"
            ],
            [
             1,
             "#f0f921"
            ]
           ],
           "sequentialminus": [
            [
             0,
             "#0d0887"
            ],
            [
             0.1111111111111111,
             "#46039f"
            ],
            [
             0.2222222222222222,
             "#7201a8"
            ],
            [
             0.3333333333333333,
             "#9c179e"
            ],
            [
             0.4444444444444444,
             "#bd3786"
            ],
            [
             0.5555555555555556,
             "#d8576b"
            ],
            [
             0.6666666666666666,
             "#ed7953"
            ],
            [
             0.7777777777777778,
             "#fb9f3a"
            ],
            [
             0.8888888888888888,
             "#fdca26"
            ],
            [
             1,
             "#f0f921"
            ]
           ]
          },
          "colorway": [
           "#636efa",
           "#EF553B",
           "#00cc96",
           "#ab63fa",
           "#FFA15A",
           "#19d3f3",
           "#FF6692",
           "#B6E880",
           "#FF97FF",
           "#FECB52"
          ],
          "font": {
           "color": "#2a3f5f"
          },
          "geo": {
           "bgcolor": "white",
           "lakecolor": "white",
           "landcolor": "#E5ECF6",
           "showlakes": true,
           "showland": true,
           "subunitcolor": "white"
          },
          "hoverlabel": {
           "align": "left"
          },
          "hovermode": "closest",
          "mapbox": {
           "style": "light"
          },
          "paper_bgcolor": "white",
          "plot_bgcolor": "#E5ECF6",
          "polar": {
           "angularaxis": {
            "gridcolor": "white",
            "linecolor": "white",
            "ticks": ""
           },
           "bgcolor": "#E5ECF6",
           "radialaxis": {
            "gridcolor": "white",
            "linecolor": "white",
            "ticks": ""
           }
          },
          "scene": {
           "xaxis": {
            "backgroundcolor": "#E5ECF6",
            "gridcolor": "white",
            "gridwidth": 2,
            "linecolor": "white",
            "showbackground": true,
            "ticks": "",
            "zerolinecolor": "white"
           },
           "yaxis": {
            "backgroundcolor": "#E5ECF6",
            "gridcolor": "white",
            "gridwidth": 2,
            "linecolor": "white",
            "showbackground": true,
            "ticks": "",
            "zerolinecolor": "white"
           },
           "zaxis": {
            "backgroundcolor": "#E5ECF6",
            "gridcolor": "white",
            "gridwidth": 2,
            "linecolor": "white",
            "showbackground": true,
            "ticks": "",
            "zerolinecolor": "white"
           }
          },
          "shapedefaults": {
           "line": {
            "color": "#2a3f5f"
           }
          },
          "ternary": {
           "aaxis": {
            "gridcolor": "white",
            "linecolor": "white",
            "ticks": ""
           },
           "baxis": {
            "gridcolor": "white",
            "linecolor": "white",
            "ticks": ""
           },
           "bgcolor": "#E5ECF6",
           "caxis": {
            "gridcolor": "white",
            "linecolor": "white",
            "ticks": ""
           }
          },
          "title": {
           "x": 0.05
          },
          "xaxis": {
           "automargin": true,
           "gridcolor": "white",
           "linecolor": "white",
           "ticks": "",
           "title": {
            "standoff": 15
           },
           "zerolinecolor": "white",
           "zerolinewidth": 2
          },
          "yaxis": {
           "automargin": true,
           "gridcolor": "white",
           "linecolor": "white",
           "ticks": "",
           "title": {
            "standoff": 15
           },
           "zerolinecolor": "white",
           "zerolinewidth": 2
          }
         }
        },
        "title": {
         "text": "BTC Volume v/s USD"
        },
        "xaxis": {
         "title": {
          "font": {
           "family": "Times New Roman, monospace",
           "size": 18
          },
          "text": "Weighted Price"
         }
        },
        "yaxis": {
         "title": {
          "font": {
           "family": "Times New Roman, monospace",
           "size": 18
          },
          "text": "Volume BTC"
         }
        }
       }
      },
      "text/html": [
       "<div>                            <div id=\"c82bdb26-4c5f-437f-b4a6-1826142978dc\" class=\"plotly-graph-div\" style=\"height:525px; width:100%;\"></div>            <script type=\"text/javascript\">                require([\"plotly\"], function(Plotly) {                    window.PLOTLYENV=window.PLOTLYENV || {};                                    if (document.getElementById(\"c82bdb26-4c5f-437f-b4a6-1826142978dc\")) {                    Plotly.newPlot(                        \"c82bdb26-4c5f-437f-b4a6-1826142978dc\",                        [{\"marker\": {\"color\": \"#00FF00\", \"line\": {\"width\": 1}}, \"mode\": \"markers\", \"type\": \"scattergl\", \"x\": [734.86967854, 0.0, 812.90189573, 828.2, 786.47078211, 811.36535519, 661.09862405, 641.89006334, 549.23112727, 672.85427825, 622.9, 626.74852125, 573.82597654, 458.18649963, 447.9, 457.88352669, 494.03515266, 446.91634505, 0.0, 0.0, 446.02853394, 585.52, 632.93865204, 649.90443899, 595.25, 588.24415179, 621.85091176, 624.92855647, 622.97, 619.5, 588.44, 592.97774208, 578.86128368, 463.13121519, 503.99, 481.47916026, 474.38, 475.52145861, 400.74448006, 380.10698657, 333.99, 380.49, 383.60197276, 354.94575776, 327.08181903, 374.80483675, 382.64396714, 385.26954171, 378.17, 366.99148392, 351.9600724, 332.97787624, 313.90012512, 287.20942631, 271.62836505, 212.32460287, 270.07706165, 225.89857594, 220.03176186, 236.7150491, 236.99052191, 0.0, 285.14025421, 290.89905018, 264.95370852, 245.23030241, 0.0, 226.10804767, 0.0, 222.46372847, 236.23079040000002, 0.0, 235.95010702, 236.21263235, 221.94515384, 227.96963424, 236.66330495, 246.49162863, 254.1591821, 272.31244942, 289.05, 277.87, 292.16252407, 0.0, 0.0, 257.01481433, 213.60849266, 0.0, 240.08917794, 231.07307424, 0.0, 238.6, 239.47325311, 246.18, 263.68609092, 285.24658442, 342.47328519, 377.76088401, 330.09, 0.0, 373.0, 396.32, 445.36830717, 0.0, 423.74787232, 433.52, 447.70841609, 385.92016856, 387.74445311, 373.34, 375.0, 400.38783251, 438.45, 435.08467477, 411.53662605, 0.0, 410.41507, 422.25, 418.94, 0.0, 427.17080786, 463.0, 0.0, 463.88140360000006, 0.0, 442.70860229, 531.80637724, 584.0009464999999, 691.21421053, 739.73255733, 636.96689493, 668.39851871, 0.0, 0.0, 0.0, 613.43759191, 590.98983616, 0.0, 0.0, 574.09375919, 0.0, 604.71373183, 607.94, 604.12823351, 610.57319641, 614.61217392, 0.0, 649.15919056, 704.95478452, 0.0, 698.45, 736.77987494, 0.0, 750.06602605, 0.0, 790.59571128, 899.88, 1022.0, 888.52, 828.46082548, 919.43, 0.0, 1018.5594811000001, 997.3, 1060.7922583, 1190.33, 0.0, 1238.0, 0.0, 1024.9837644, 1130.7237, 1209.859059, 1178.9979114, 1249.9647897, 1403.953043, 1583.8268194, 1719.9981581, 2206.9661348, 2300.58139, 2624.4112010000003, 2572.6534863, 2584.0913489, 2365.4766105, 2539.6576875, 2402.5007464, 2131.5316377, 2728.1367921, 2795.9185540999997, 3345.8840434999997, 4280.4262067, 3991.1966851999996, 4332.48, 4148.7966261, 4227.8398816, 4022.9885780999994, 3918.6799211999996, 4378.33, 4687.270385899999, 5679.1709696, 5817.5604236, 6126.2099892, 7057.1608741, 6347.4737115, 8200.0576248, 9549.999688400001, 11191.546554, 16323.17181, 18458.995165, 14041.606616, 13257.485323, 15081.304147, 13984.682181999999, 10660.506157, 11197.216468, 6953.5385715, 8654.630916, 11045.137231, 10233.615484, 11510.895816, 9227.849455, 8380.2723107, 7894.9539263, 6967.0551368, 6741.594748899999, 8026.5279977, 8908.571455500001, 9349.2177711, 9355.977635, 8746.916997700002, 8350.6067866, 7240.1445373999995, 7481.691393699999, 6708.4190493999995, 6741.2131148, 6281.8723346, 6614.356769399999, 6696.0245049, 6691.9407863999995, 7789.7334992, 7921.5754782, 6906.8599248, 6222.3010011999995, 6472.467439999999, 6727.307125599999, 7270.591337299999, 6264.3174415, 6309.45, 6641.406001199999, 6575.3495648, 6610.3583133, 6401.906755100001, 6394.5146513, 6262.0, 6388.8, 6333.3124622000005, 5001.8353132, 3742.0904539000003, 3834.0459099, 3423.7957621, 3443.2546345, 4070.1737493, 3750.64, 4020.2945296999997, 3686.992486, 3531.0869205, 3421.3595308, 3417.1988019, 3591.5, 3887.7332305, 3843.0476608999998, 3706.1903828, 3854.38, 3964.4549026999994, 3929.2370196999996, 4131.7705549, 5218.8364836, 5042.6190353, 5371.059950399999, 5138.3256455, 5709.162307500001, 7888.7785865999995, 7789.434721199999, 8761.2685636, 8519.463554, 7955.029920999999, 9249.1595775, 11018.243969, 10242.172594, 11869.788551, 10777.321637000001, 10263.980465999999, 9477.813401700001, 11814.604164, 11370.369777, 10713.198597, 10296.463673, 10161.072462, 10258.697723000001, 10126.193301000001, 9810.1772706, 8309.0983007, 8267.741147300001, 8352.785133, 8183.514317800001, 9495.5304748, 9296.5560001, 8732.1403981, 8137.3435566, 7264.034525399999, 7271.417717899999, 7445.4685856999995, 6994.1442087, 7428.621235, 7233.864362199999, 7542.8671362000005, 8089.1595558, 8650.1214259, 8762.3934847, 9250.438143700001, 9843.260814899999, 9606.8430105, 9528.2082496, 8889.506577299999, 7757.1109153, 5072.328717, 6310.78508, 6353.3387, 7206.896592199999, 6788.3751905, 6864.9187325, 7689.872773800001, 8842.9762116, 8503.729267899998, 9616.655644700002, 8890.0822677, 9567.4, 9730.445939700001, 9389.359035899999, 9582.2408325, 9148.88, 9302.5046994, 9283.19, 9186.294645200001, 10805.154923, 11404.683213, 11892.296693, 12350.647549, 11719.191401, 11730.13, 10195.897418], \"y\": [0.192, 0.0, 57.72965722, 0.00601304, 0.69135715, 0.183, 2.69306707, 0.79250331, 41.02032841, 50.41022704, 0.99521173, 1.84, 9.92874344, 3.54149393, 0.0538, 163.07383228, 3.36555987, 0.48505647, 0.0, 0.0, 4.19886163, 0.39132737, 4.70262403, 0.49708177, 1.13038219, 0.72582194, 2.68646851, 11.71085833, 0.51866229, 0.01689351, 0.46601293, 0.03719535, 6.62076868, 64.05188274, 8.6304613, 0.023263, 1.59583906, 2.67329321, 9.02785103, 2.24950216, 2.08030467, 0.02590377, 5.1776221, 4.23567867, 1.16473557, 1.4378, 5.13290862, 0.39136276, 0.01485213, 4.69699677, 0.28719921, 3.20555311, 4.857, 175.83707796, 78.7402625, 1.77185384, 10.85162706, 3.49, 3.71512987, 15.51516559, 4.8495, 0.0, 4.37238615, 1.91003912, 115.45036867, 14.28539853, 0.0, 1.65331508, 0.0, 20.193939999999998, 0.920933, 0.0, 2.02163631, 0.261994, 4.42972707, 0.2198, 0.31849255, 0.73205416, 28.17101529, 4.8583, 0.68779827, 0.51987662, 9.13026136, 0.0, 0.0, 23.78856077, 36.59417051, 0.0, 1.19675297, 7.78859971, 0.0, 0.25, 0.29643305, 0.32901785, 125.09719731, 0.49833699, 5.22112128, 56.85874982, 0.01756675, 0.0, 14.32467227, 0.344, 0.7136, 0.0, 0.20699065, 0.05, 9.00898797, 1.18345206, 1.00790956, 1.58136735, 3.23725333, 1.015, 0.52047859, 3.23583948, 0.1511666, 0.0, 7.78987025, 0.091, 0.115, 0.0, 1.4643, 0.97997652, 0.0, 1.1646568000000002, 0.0, 1.20727923, 7.27124676, 30.28666269, 0.0285, 2.03524696, 5.48377441, 5.132029, 0.0, 0.0, 0.0, 0.72559643, 4.50758, 0.0, 0.0, 40.0, 0.0, 1.44034697, 1.4509638999999999, 0.61323887, 2.60578458, 0.10216844, 0.0, 0.55235486, 9.05705398, 0.0, 7.02964461, 0.5997, 0.0, 22.03152, 0.0, 10.69893314, 0.06519891, 1.24149907, 0.036000000000000004, 0.17502868, 0.04, 0.0, 70.11882174, 0.01472993, 1.5550305, 0.0069389, 0.0, 0.01559015, 0.0, 2.0926299999999998, 0.50523492, 0.04705693, 4.16547578, 0.19939535, 2.85727947, 8.38276155, 9.10342688, 0.50105336, 31.60320292, 1.08015741, 52.98300281, 5.66529343, 40.47559785, 0.94496511, 16.54330527, 15.76649389, 9.47453671, 12.56560738, 1.06215726, 67.41362205, 3.17952152, 0.13135, 33.5552375, 14.12018045, 2.35648512, 35.9433698, 0.01366205, 0.31529737, 3.04238723, 3.57730804, 0.78387791, 19.24495355, 15.9868256, 71.2683179, 1.19765296, 7.29976609, 1.42202981, 1.27041888, 4.08467387, 0.2130893, 22.86003821, 3.25004912, 8.86314082, 0.72156594, 56.87993621, 4.71532025, 0.42083733, 2.108, 2.78991551, 0.6441564000000001, 4.80158855, 4.61416458, 3.1751139, 0.62182046, 1.83657727, 1.64650028, 13.50962297, 0.07225908, 23.88926053, 10.46465365, 0.50557679, 0.4052832, 6.6927292000000005, 6.80258479, 4.2986832999999995, 0.49051184, 4.15165362, 3.41522004, 145.26113554, 7.12680378, 0.30252067, 4.45411376, 1.12238437, 0.15524886, 0.09552637, 1.88542921, 0.006339, 0.32118916, 0.22336073, 2.45751159, 3.12917543, 2.53363412, 0.34236083, 0.01733317, 0.05236754, 22.56921952, 0.31531258, 20.13598105, 10.11669039, 2.47554337, 0.79461153, 1.92930428, 1.8112491000000002, 22.47075797, 44.97569406, 1.00092074, 18.05441152, 0.010202, 10.59510782, 4.87989314, 0.545339, 1.20425794, 5.49708387, 5.26614011, 1.92541373, 3.88822851, 6.49448733, 19.19913229, 0.23808087, 0.01291271, 7.26195261, 0.26672823, 7.29821356, 2.5301207999999997, 7.82556773, 1.22524199, 1.10511044, 2.11639024, 5.25987167, 40.81868968, 4.80864541, 2.8966227000000004, 0.46036209, 0.01914439, 0.42912294, 4.44522958, 26.86837286, 0.13476446, 1.00106697, 0.13535564, 0.114872, 1.95615763, 1.65775213, 0.28520053, 9.76854875, 5.07332758, 12.26520256, 27.885543, 11.89819347, 0.13514776, 14.54757509, 177.80298925, 0.02103605, 0.15376566, 0.049967199999999996, 0.04082846, 0.09469047, 0.37460302, 0.36517601, 0.39763131, 0.42272009, 0.20003225, 0.39701563, 1.29223299, 9.83452369, 6.71911996, 7.17735055, 17.51953563, 7.51512046, 8.60452148, 0.21937311, 2.98465455, 161.62960403, 1.25437123, 2.99259613, 0.00774451, 0.71421152, 22.75413846, 0.07786491, 0.02, 0.21964181, 0.00550898, 0.13874828, 233.045793, 0.08710956, 0.14310953, 21.7011844, 4.14358238, 0.05854689, 16.94315793]}],                        {\"template\": {\"data\": {\"bar\": [{\"error_x\": {\"color\": \"#2a3f5f\"}, \"error_y\": {\"color\": \"#2a3f5f\"}, \"marker\": {\"line\": {\"color\": \"#E5ECF6\", \"width\": 0.5}}, \"type\": \"bar\"}], \"barpolar\": [{\"marker\": {\"line\": {\"color\": \"#E5ECF6\", \"width\": 0.5}}, \"type\": \"barpolar\"}], \"carpet\": [{\"aaxis\": {\"endlinecolor\": \"#2a3f5f\", \"gridcolor\": \"white\", \"linecolor\": \"white\", \"minorgridcolor\": \"white\", \"startlinecolor\": \"#2a3f5f\"}, \"baxis\": {\"endlinecolor\": \"#2a3f5f\", \"gridcolor\": \"white\", \"linecolor\": \"white\", \"minorgridcolor\": \"white\", \"startlinecolor\": \"#2a3f5f\"}, \"type\": \"carpet\"}], \"choropleth\": [{\"colorbar\": {\"outlinewidth\": 0, \"ticks\": \"\"}, \"type\": \"choropleth\"}], \"contour\": [{\"colorbar\": {\"outlinewidth\": 0, \"ticks\": \"\"}, \"colorscale\": [[0.0, \"#0d0887\"], [0.1111111111111111, \"#46039f\"], [0.2222222222222222, \"#7201a8\"], [0.3333333333333333, \"#9c179e\"], [0.4444444444444444, \"#bd3786\"], [0.5555555555555556, \"#d8576b\"], [0.6666666666666666, \"#ed7953\"], [0.7777777777777778, \"#fb9f3a\"], [0.8888888888888888, \"#fdca26\"], [1.0, \"#f0f921\"]], \"type\": \"contour\"}], \"contourcarpet\": [{\"colorbar\": {\"outlinewidth\": 0, \"ticks\": \"\"}, \"type\": \"contourcarpet\"}], \"heatmap\": [{\"colorbar\": {\"outlinewidth\": 0, \"ticks\": \"\"}, \"colorscale\": [[0.0, \"#0d0887\"], [0.1111111111111111, \"#46039f\"], [0.2222222222222222, \"#7201a8\"], [0.3333333333333333, \"#9c179e\"], [0.4444444444444444, \"#bd3786\"], [0.5555555555555556, \"#d8576b\"], [0.6666666666666666, \"#ed7953\"], [0.7777777777777778, \"#fb9f3a\"], [0.8888888888888888, \"#fdca26\"], [1.0, \"#f0f921\"]], \"type\": \"heatmap\"}], \"heatmapgl\": [{\"colorbar\": {\"outlinewidth\": 0, \"ticks\": \"\"}, \"colorscale\": [[0.0, \"#0d0887\"], [0.1111111111111111, \"#46039f\"], [0.2222222222222222, \"#7201a8\"], [0.3333333333333333, \"#9c179e\"], [0.4444444444444444, \"#bd3786\"], [0.5555555555555556, \"#d8576b\"], [0.6666666666666666, \"#ed7953\"], [0.7777777777777778, \"#fb9f3a\"], [0.8888888888888888, \"#fdca26\"], [1.0, \"#f0f921\"]], \"type\": \"heatmapgl\"}], \"histogram\": [{\"marker\": {\"colorbar\": {\"outlinewidth\": 0, \"ticks\": \"\"}}, \"type\": \"histogram\"}], \"histogram2d\": [{\"colorbar\": {\"outlinewidth\": 0, \"ticks\": \"\"}, \"colorscale\": [[0.0, \"#0d0887\"], [0.1111111111111111, \"#46039f\"], [0.2222222222222222, \"#7201a8\"], [0.3333333333333333, \"#9c179e\"], [0.4444444444444444, \"#bd3786\"], [0.5555555555555556, \"#d8576b\"], [0.6666666666666666, \"#ed7953\"], [0.7777777777777778, \"#fb9f3a\"], [0.8888888888888888, \"#fdca26\"], [1.0, \"#f0f921\"]], \"type\": \"histogram2d\"}], \"histogram2dcontour\": [{\"colorbar\": {\"outlinewidth\": 0, \"ticks\": \"\"}, \"colorscale\": [[0.0, \"#0d0887\"], [0.1111111111111111, \"#46039f\"], [0.2222222222222222, \"#7201a8\"], [0.3333333333333333, \"#9c179e\"], [0.4444444444444444, \"#bd3786\"], [0.5555555555555556, \"#d8576b\"], [0.6666666666666666, \"#ed7953\"], [0.7777777777777778, \"#fb9f3a\"], [0.8888888888888888, \"#fdca26\"], [1.0, \"#f0f921\"]], \"type\": \"histogram2dcontour\"}], \"mesh3d\": [{\"colorbar\": {\"outlinewidth\": 0, \"ticks\": \"\"}, \"type\": \"mesh3d\"}], \"parcoords\": [{\"line\": {\"colorbar\": {\"outlinewidth\": 0, \"ticks\": \"\"}}, \"type\": \"parcoords\"}], \"pie\": [{\"automargin\": true, \"type\": \"pie\"}], \"scatter\": [{\"marker\": {\"colorbar\": {\"outlinewidth\": 0, \"ticks\": \"\"}}, \"type\": \"scatter\"}], \"scatter3d\": [{\"line\": {\"colorbar\": {\"outlinewidth\": 0, \"ticks\": \"\"}}, \"marker\": {\"colorbar\": {\"outlinewidth\": 0, \"ticks\": \"\"}}, \"type\": \"scatter3d\"}], \"scattercarpet\": [{\"marker\": {\"colorbar\": {\"outlinewidth\": 0, \"ticks\": \"\"}}, \"type\": \"scattercarpet\"}], \"scattergeo\": [{\"marker\": {\"colorbar\": {\"outlinewidth\": 0, \"ticks\": \"\"}}, \"type\": \"scattergeo\"}], \"scattergl\": [{\"marker\": {\"colorbar\": {\"outlinewidth\": 0, \"ticks\": \"\"}}, \"type\": \"scattergl\"}], \"scattermapbox\": [{\"marker\": {\"colorbar\": {\"outlinewidth\": 0, \"ticks\": \"\"}}, \"type\": \"scattermapbox\"}], \"scatterpolar\": [{\"marker\": {\"colorbar\": {\"outlinewidth\": 0, \"ticks\": \"\"}}, \"type\": \"scatterpolar\"}], \"scatterpolargl\": [{\"marker\": {\"colorbar\": {\"outlinewidth\": 0, \"ticks\": \"\"}}, \"type\": \"scatterpolargl\"}], \"scatterternary\": [{\"marker\": {\"colorbar\": {\"outlinewidth\": 0, \"ticks\": \"\"}}, \"type\": \"scatterternary\"}], \"surface\": [{\"colorbar\": {\"outlinewidth\": 0, \"ticks\": \"\"}, \"colorscale\": [[0.0, \"#0d0887\"], [0.1111111111111111, \"#46039f\"], [0.2222222222222222, \"#7201a8\"], [0.3333333333333333, \"#9c179e\"], [0.4444444444444444, \"#bd3786\"], [0.5555555555555556, \"#d8576b\"], [0.6666666666666666, \"#ed7953\"], [0.7777777777777778, \"#fb9f3a\"], [0.8888888888888888, \"#fdca26\"], [1.0, \"#f0f921\"]], \"type\": \"surface\"}], \"table\": [{\"cells\": {\"fill\": {\"color\": \"#EBF0F8\"}, \"line\": {\"color\": \"white\"}}, \"header\": {\"fill\": {\"color\": \"#C8D4E3\"}, \"line\": {\"color\": \"white\"}}, \"type\": \"table\"}]}, \"layout\": {\"annotationdefaults\": {\"arrowcolor\": \"#2a3f5f\", \"arrowhead\": 0, \"arrowwidth\": 1}, \"coloraxis\": {\"colorbar\": {\"outlinewidth\": 0, \"ticks\": \"\"}}, \"colorscale\": {\"diverging\": [[0, \"#8e0152\"], [0.1, \"#c51b7d\"], [0.2, \"#de77ae\"], [0.3, \"#f1b6da\"], [0.4, \"#fde0ef\"], [0.5, \"#f7f7f7\"], [0.6, \"#e6f5d0\"], [0.7, \"#b8e186\"], [0.8, \"#7fbc41\"], [0.9, \"#4d9221\"], [1, \"#276419\"]], \"sequential\": [[0.0, \"#0d0887\"], [0.1111111111111111, \"#46039f\"], [0.2222222222222222, \"#7201a8\"], [0.3333333333333333, \"#9c179e\"], [0.4444444444444444, \"#bd3786\"], [0.5555555555555556, \"#d8576b\"], [0.6666666666666666, \"#ed7953\"], [0.7777777777777778, \"#fb9f3a\"], [0.8888888888888888, \"#fdca26\"], [1.0, \"#f0f921\"]], \"sequentialminus\": [[0.0, \"#0d0887\"], [0.1111111111111111, \"#46039f\"], [0.2222222222222222, \"#7201a8\"], [0.3333333333333333, \"#9c179e\"], [0.4444444444444444, \"#bd3786\"], [0.5555555555555556, \"#d8576b\"], [0.6666666666666666, \"#ed7953\"], [0.7777777777777778, \"#fb9f3a\"], [0.8888888888888888, \"#fdca26\"], [1.0, \"#f0f921\"]]}, \"colorway\": [\"#636efa\", \"#EF553B\", \"#00cc96\", \"#ab63fa\", \"#FFA15A\", \"#19d3f3\", \"#FF6692\", \"#B6E880\", \"#FF97FF\", \"#FECB52\"], \"font\": {\"color\": \"#2a3f5f\"}, \"geo\": {\"bgcolor\": \"white\", \"lakecolor\": \"white\", \"landcolor\": \"#E5ECF6\", \"showlakes\": true, \"showland\": true, \"subunitcolor\": \"white\"}, \"hoverlabel\": {\"align\": \"left\"}, \"hovermode\": \"closest\", \"mapbox\": {\"style\": \"light\"}, \"paper_bgcolor\": \"white\", \"plot_bgcolor\": \"#E5ECF6\", \"polar\": {\"angularaxis\": {\"gridcolor\": \"white\", \"linecolor\": \"white\", \"ticks\": \"\"}, \"bgcolor\": \"#E5ECF6\", \"radialaxis\": {\"gridcolor\": \"white\", \"linecolor\": \"white\", \"ticks\": \"\"}}, \"scene\": {\"xaxis\": {\"backgroundcolor\": \"#E5ECF6\", \"gridcolor\": \"white\", \"gridwidth\": 2, \"linecolor\": \"white\", \"showbackground\": true, \"ticks\": \"\", \"zerolinecolor\": \"white\"}, \"yaxis\": {\"backgroundcolor\": \"#E5ECF6\", \"gridcolor\": \"white\", \"gridwidth\": 2, \"linecolor\": \"white\", \"showbackground\": true, \"ticks\": \"\", \"zerolinecolor\": \"white\"}, \"zaxis\": {\"backgroundcolor\": \"#E5ECF6\", \"gridcolor\": \"white\", \"gridwidth\": 2, \"linecolor\": \"white\", \"showbackground\": true, \"ticks\": \"\", \"zerolinecolor\": \"white\"}}, \"shapedefaults\": {\"line\": {\"color\": \"#2a3f5f\"}}, \"ternary\": {\"aaxis\": {\"gridcolor\": \"white\", \"linecolor\": \"white\", \"ticks\": \"\"}, \"baxis\": {\"gridcolor\": \"white\", \"linecolor\": \"white\", \"ticks\": \"\"}, \"bgcolor\": \"#E5ECF6\", \"caxis\": {\"gridcolor\": \"white\", \"linecolor\": \"white\", \"ticks\": \"\"}}, \"title\": {\"x\": 0.05}, \"xaxis\": {\"automargin\": true, \"gridcolor\": \"white\", \"linecolor\": \"white\", \"ticks\": \"\", \"title\": {\"standoff\": 15}, \"zerolinecolor\": \"white\", \"zerolinewidth\": 2}, \"yaxis\": {\"automargin\": true, \"gridcolor\": \"white\", \"linecolor\": \"white\", \"ticks\": \"\", \"title\": {\"standoff\": 15}, \"zerolinecolor\": \"white\", \"zerolinewidth\": 2}}}, \"title\": {\"text\": \"BTC Volume v/s USD\"}, \"xaxis\": {\"title\": {\"font\": {\"family\": \"Times New Roman, monospace\", \"size\": 18}, \"text\": \"Weighted Price\"}}, \"yaxis\": {\"title\": {\"font\": {\"family\": \"Times New Roman, monospace\", \"size\": 18}, \"text\": \"Volume BTC\"}}},                        {\"responsive\": true}                    ).then(function(){\n",
       "                            \n",
       "var gd = document.getElementById('c82bdb26-4c5f-437f-b4a6-1826142978dc');\n",
       "var x = new MutationObserver(function (mutations, observer) {{\n",
       "        var display = window.getComputedStyle(gd).display;\n",
       "        if (!display || display === 'none') {{\n",
       "            console.log([gd, 'removed!']);\n",
       "            Plotly.purge(gd);\n",
       "            observer.disconnect();\n",
       "        }}\n",
       "}});\n",
       "\n",
       "// Listen for the removal of the full notebook cells\n",
       "var notebookContainer = gd.closest('#notebook-container');\n",
       "if (notebookContainer) {{\n",
       "    x.observe(notebookContainer, {childList: true});\n",
       "}}\n",
       "\n",
       "// Listen for the clearing of the current output cell\n",
       "var outputEl = gd.closest('.output');\n",
       "if (outputEl) {{\n",
       "    x.observe(outputEl, {childList: true});\n",
       "}}\n",
       "\n",
       "                        })                };                });            </script>        </div>"
      ]
     },
     "metadata": {},
     "output_type": "display_data"
    }
   ],
   "source": [
    "#BTC Volume vs USD visualization\n",
    "trace = go.Scattergl(\n",
    "    y = weekly_rows['Volume_(BTC)'].astype(float),\n",
    "    x = weekly_rows['Weighted_Price'].astype(float),\n",
    "    mode = 'markers',\n",
    "    marker = dict(\n",
    "        line = dict(width = 1),\n",
    "        color='#00FF00'\n",
    "    )\n",
    ")\n",
    "layout = go.Layout(\n",
    "    title='BTC Volume v/s USD',\n",
    "    xaxis=dict(\n",
    "        title='Weighted Price',\n",
    "        titlefont=dict(\n",
    "            family='Times New Roman, monospace',\n",
    "            size=18\n",
    "        )\n",
    "    ),\n",
    "    yaxis=dict(\n",
    "        title='Volume BTC',\n",
    "        titlefont=dict(\n",
    "            family='Times New Roman, monospace',\n",
    "            size=18\n",
    "    )))\n",
    "data = [trace]\n",
    "fig = go.Figure(data=data, layout=layout)\n",
    "iplot(fig, filename='compare_webgl')"
   ]
  },
  {
   "cell_type": "code",
   "execution_count": 22,
   "metadata": {},
   "outputs": [],
   "source": [
    "from sklearn.model_selection import train_test_split\n",
    "X = weekly_rows.drop('Weighted_Price',axis=1)\n",
    "y = weekly_rows['Weighted_Price']\n",
    "X_train, X_test, y_train, y_test = train_test_split(X, y, test_size=0.33, random_state=42)"
   ]
  },
  {
   "cell_type": "markdown",
   "metadata": {},
   "source": [
    "## ARIMA Model"
   ]
  },
  {
   "cell_type": "code",
   "execution_count": 23,
   "metadata": {},
   "outputs": [],
   "source": [
    "from scipy import stats\n",
    "import statsmodels.api as sm\n",
    "import warnings\n",
    "import itertools\n",
    "from itertools import product"
   ]
  },
  {
   "cell_type": "code",
   "execution_count": 24,
   "metadata": {},
   "outputs": [
    {
     "data": {
      "text/html": [
       "<div>\n",
       "<style scoped>\n",
       "    .dataframe tbody tr th:only-of-type {\n",
       "        vertical-align: middle;\n",
       "    }\n",
       "\n",
       "    .dataframe tbody tr th {\n",
       "        vertical-align: top;\n",
       "    }\n",
       "\n",
       "    .dataframe thead th {\n",
       "        text-align: right;\n",
       "    }\n",
       "</style>\n",
       "<table border=\"1\" class=\"dataframe\">\n",
       "  <thead>\n",
       "    <tr style=\"text-align: right;\">\n",
       "      <th></th>\n",
       "      <th>Timestamp</th>\n",
       "      <th>Open</th>\n",
       "      <th>High</th>\n",
       "      <th>Low</th>\n",
       "      <th>Close</th>\n",
       "      <th>Volume_(BTC)</th>\n",
       "      <th>Volume_(Currency)</th>\n",
       "      <th>Weighted_Price</th>\n",
       "    </tr>\n",
       "  </thead>\n",
       "  <tbody>\n",
       "    <tr>\n",
       "      <th>0</th>\n",
       "      <td>2014-01-06 00:00:00+00:00</td>\n",
       "      <td>734.86</td>\n",
       "      <td>734.87</td>\n",
       "      <td>734.86</td>\n",
       "      <td>734.87</td>\n",
       "      <td>0.192000</td>\n",
       "      <td>141.094978</td>\n",
       "      <td>734.869679</td>\n",
       "    </tr>\n",
       "    <tr>\n",
       "      <th>1</th>\n",
       "      <td>2014-01-13 00:00:00+00:00</td>\n",
       "      <td>938.60</td>\n",
       "      <td>938.60</td>\n",
       "      <td>935.00</td>\n",
       "      <td>935.06</td>\n",
       "      <td>0.000000</td>\n",
       "      <td>0.000000</td>\n",
       "      <td>0.000000</td>\n",
       "    </tr>\n",
       "    <tr>\n",
       "      <th>2</th>\n",
       "      <td>2014-01-20 00:00:00+00:00</td>\n",
       "      <td>812.90</td>\n",
       "      <td>812.99</td>\n",
       "      <td>812.89</td>\n",
       "      <td>812.99</td>\n",
       "      <td>57.729657</td>\n",
       "      <td>46928.547794</td>\n",
       "      <td>812.901896</td>\n",
       "    </tr>\n",
       "    <tr>\n",
       "      <th>3</th>\n",
       "      <td>2014-01-27 00:00:00+00:00</td>\n",
       "      <td>828.20</td>\n",
       "      <td>828.20</td>\n",
       "      <td>828.20</td>\n",
       "      <td>828.20</td>\n",
       "      <td>0.006013</td>\n",
       "      <td>4.980000</td>\n",
       "      <td>828.200000</td>\n",
       "    </tr>\n",
       "    <tr>\n",
       "      <th>4</th>\n",
       "      <td>2014-02-03 00:00:00+00:00</td>\n",
       "      <td>786.50</td>\n",
       "      <td>786.50</td>\n",
       "      <td>786.30</td>\n",
       "      <td>786.30</td>\n",
       "      <td>0.691357</td>\n",
       "      <td>543.732198</td>\n",
       "      <td>786.470782</td>\n",
       "    </tr>\n",
       "  </tbody>\n",
       "</table>\n",
       "</div>"
      ],
      "text/plain": [
       "                  Timestamp    Open    High     Low   Close  Volume_(BTC)  \\\n",
       "0 2014-01-06 00:00:00+00:00  734.86  734.87  734.86  734.87      0.192000   \n",
       "1 2014-01-13 00:00:00+00:00  938.60  938.60  935.00  935.06      0.000000   \n",
       "2 2014-01-20 00:00:00+00:00  812.90  812.99  812.89  812.99     57.729657   \n",
       "3 2014-01-27 00:00:00+00:00  828.20  828.20  828.20  828.20      0.006013   \n",
       "4 2014-02-03 00:00:00+00:00  786.50  786.50  786.30  786.30      0.691357   \n",
       "\n",
       "   Volume_(Currency)  Weighted_Price  \n",
       "0         141.094978      734.869679  \n",
       "1           0.000000        0.000000  \n",
       "2       46928.547794      812.901896  \n",
       "3           4.980000      828.200000  \n",
       "4         543.732198      786.470782  "
      ]
     },
     "execution_count": 24,
     "metadata": {},
     "output_type": "execute_result"
    }
   ],
   "source": [
    "data_arima = weekly_rows.copy()\n",
    "data_arima.head()"
   ]
  },
  {
   "cell_type": "markdown",
   "metadata": {},
   "source": [
    "### Stationarity check and STL-decomposition of the series"
   ]
  },
  {
   "cell_type": "markdown",
   "metadata": {},
   "source": [
    " - Stationary Time series: Summary statistics calculated on the time series are consistent over time,  \n",
    "like the mean or the variance of the observations.\n"
   ]
  },
  {
   "cell_type": "markdown",
   "metadata": {},
   "source": [
    " - When a time series is stationary, it can be easier to model. "
   ]
  },
  {
   "cell_type": "markdown",
   "metadata": {},
   "source": [
    "  - Non Stationary Time series: Summary statistics like the mean and variance do change over time,  \n",
    " providing a drift in the concepts a model may try to capture."
   ]
  },
  {
   "cell_type": "code",
   "execution_count": 25,
   "metadata": {},
   "outputs": [],
   "source": [
    "# Grouping data by month for easier prediction by Arima model\n",
    "data_arima['Timestamp'] = data_arima['Timestamp'].dt.tz_localize(None)\n",
    "data_arima = data_arima.groupby([pd.Grouper(key='Timestamp', freq='M')]).first().reset_index()\n",
    "data_arima = data_arima.set_index('Timestamp')\n",
    "data_arima['Weighted_Price'].fillna(method='ffill', inplace=True)"
   ]
  },
  {
   "cell_type": "code",
   "execution_count": 26,
   "metadata": {},
   "outputs": [
    {
     "data": {
      "text/html": [
       "<div>\n",
       "<style scoped>\n",
       "    .dataframe tbody tr th:only-of-type {\n",
       "        vertical-align: middle;\n",
       "    }\n",
       "\n",
       "    .dataframe tbody tr th {\n",
       "        vertical-align: top;\n",
       "    }\n",
       "\n",
       "    .dataframe thead th {\n",
       "        text-align: right;\n",
       "    }\n",
       "</style>\n",
       "<table border=\"1\" class=\"dataframe\">\n",
       "  <thead>\n",
       "    <tr style=\"text-align: right;\">\n",
       "      <th></th>\n",
       "      <th>Open</th>\n",
       "      <th>High</th>\n",
       "      <th>Low</th>\n",
       "      <th>Close</th>\n",
       "      <th>Volume_(BTC)</th>\n",
       "      <th>Volume_(Currency)</th>\n",
       "      <th>Weighted_Price</th>\n",
       "    </tr>\n",
       "    <tr>\n",
       "      <th>Timestamp</th>\n",
       "      <th></th>\n",
       "      <th></th>\n",
       "      <th></th>\n",
       "      <th></th>\n",
       "      <th></th>\n",
       "      <th></th>\n",
       "      <th></th>\n",
       "    </tr>\n",
       "  </thead>\n",
       "  <tbody>\n",
       "    <tr>\n",
       "      <th>2014-01-31</th>\n",
       "      <td>734.86</td>\n",
       "      <td>734.87</td>\n",
       "      <td>734.86</td>\n",
       "      <td>734.87</td>\n",
       "      <td>0.192000</td>\n",
       "      <td>141.094978</td>\n",
       "      <td>734.869679</td>\n",
       "    </tr>\n",
       "    <tr>\n",
       "      <th>2014-02-28</th>\n",
       "      <td>786.50</td>\n",
       "      <td>786.50</td>\n",
       "      <td>786.30</td>\n",
       "      <td>786.30</td>\n",
       "      <td>0.691357</td>\n",
       "      <td>543.732198</td>\n",
       "      <td>786.470782</td>\n",
       "    </tr>\n",
       "    <tr>\n",
       "      <th>2014-03-31</th>\n",
       "      <td>549.26</td>\n",
       "      <td>549.26</td>\n",
       "      <td>549.13</td>\n",
       "      <td>549.13</td>\n",
       "      <td>41.020328</td>\n",
       "      <td>22529.641214</td>\n",
       "      <td>549.231127</td>\n",
       "    </tr>\n",
       "    <tr>\n",
       "      <th>2014-04-30</th>\n",
       "      <td>458.12</td>\n",
       "      <td>459.00</td>\n",
       "      <td>456.75</td>\n",
       "      <td>456.75</td>\n",
       "      <td>3.541494</td>\n",
       "      <td>1622.664707</td>\n",
       "      <td>458.186500</td>\n",
       "    </tr>\n",
       "    <tr>\n",
       "      <th>2014-05-31</th>\n",
       "      <td>446.71</td>\n",
       "      <td>447.70</td>\n",
       "      <td>446.71</td>\n",
       "      <td>447.70</td>\n",
       "      <td>0.485056</td>\n",
       "      <td>216.779665</td>\n",
       "      <td>446.916345</td>\n",
       "    </tr>\n",
       "  </tbody>\n",
       "</table>\n",
       "</div>"
      ],
      "text/plain": [
       "              Open    High     Low   Close  Volume_(BTC)  Volume_(Currency)  \\\n",
       "Timestamp                                                                     \n",
       "2014-01-31  734.86  734.87  734.86  734.87      0.192000         141.094978   \n",
       "2014-02-28  786.50  786.50  786.30  786.30      0.691357         543.732198   \n",
       "2014-03-31  549.26  549.26  549.13  549.13     41.020328       22529.641214   \n",
       "2014-04-30  458.12  459.00  456.75  456.75      3.541494        1622.664707   \n",
       "2014-05-31  446.71  447.70  446.71  447.70      0.485056         216.779665   \n",
       "\n",
       "            Weighted_Price  \n",
       "Timestamp                   \n",
       "2014-01-31      734.869679  \n",
       "2014-02-28      786.470782  \n",
       "2014-03-31      549.231127  \n",
       "2014-04-30      458.186500  \n",
       "2014-05-31      446.916345  "
      ]
     },
     "execution_count": 26,
     "metadata": {},
     "output_type": "execute_result"
    }
   ],
   "source": [
    "data_arima.head()"
   ]
  },
  {
   "cell_type": "code",
   "execution_count": 27,
   "metadata": {},
   "outputs": [
    {
     "data": {
      "image/png": "[encoded data removed]",
      "text/plain": [
       "<Figure size 864x576 with 4 Axes>"
      ]
     },
     "metadata": {},
     "output_type": "display_data"
    }
   ],
   "source": [
    "# Decomposing the target value of the data into trend, seasonal and residual \n",
    "# so that we can check if the time series is stationary or not\n",
    "decomposition = sm.tsa.seasonal_decompose(data_arima.Weighted_Price)\n",
    "\n",
    "trend = decomposition.trend\n",
    "seasonal = decomposition.seasonal\n",
    "residual = decomposition.resid\n",
    "\n",
    "ax, fig = plt.subplots(figsize=(12,8), sharex=True)\n",
    "\n",
    "plt.subplot(411)\n",
    "plt.plot(data_arima.Weighted_Price, label='Original',color='b')\n",
    "plt.title(\"Observed\",loc=\"left\", alpha=0.75, fontsize=18)\n",
    "\n",
    "plt.subplot(412)\n",
    "plt.plot(trend, label='Trend',color='g')\n",
    "plt.title(\"Trend\",loc=\"left\", alpha=0.75, fontsize=18)\n",
    "\n",
    "plt.subplot(413)\n",
    "plt.plot(seasonal,label='Seasonality',color='r')\n",
    "plt.title(\"Seasonal\",loc=\"left\", alpha=0.75, fontsize=18)\n",
    "\n",
    "plt.subplot(414)\n",
    "plt.plot(residual, label='Residuals',color='c')\n",
    "plt.title(\"Residual\",loc=\"left\", alpha=0.75, fontsize=18)\n",
    "plt.tight_layout()\n",
    "\n"
   ]
  },
  {
   "cell_type": "markdown",
   "metadata": {},
   "source": [
    "From the plot above we can see a few things:  \n",
    "\n",
    " - Bitcoin prices are facing a strong upward trend.\n",
    " - There are some seasonal elements to the price (+- 500)\n",
    " - Most of the noise in the data was generated during the \"hype\" phase of 2018-2019."
   ]
  },
  {
   "cell_type": "markdown",
   "metadata": {},
   "source": [
    "Stastical tests can be performed for checking if the time series is stationary or not.  \n",
    "One such test is Dickey-Fuller Test. The DF tests a null hypothesis that a unit root is present in an autoregressive model. If the value is less then <0.05 then the data is stationary."
   ]
  },
  {
   "cell_type": "code",
   "execution_count": 28,
   "metadata": {},
   "outputs": [
    {
     "name": "stdout",
     "output_type": "stream",
     "text": [
      "Dicky-Fuller stationarity test: p=0.808632\n"
     ]
    }
   ],
   "source": [
    "print(\"Dicky-Fuller stationarity test: p=%f\" % sm.tsa.adfuller(data_arima[\"Weighted_Price\"])[1])"
   ]
  },
  {
   "cell_type": "markdown",
   "metadata": {},
   "source": [
    "Since the time series is not stationary, we will be performing various functions to make it stationary."
   ]
  },
  {
   "cell_type": "code",
   "execution_count": 29,
   "metadata": {},
   "outputs": [
    {
     "name": "stdout",
     "output_type": "stream",
     "text": [
      "Dickey–Fuller test: p=0.110180\n"
     ]
    }
   ],
   "source": [
    "# Seasonal differentiation\n",
    "data_arima['prices_box_diff'] = data_arima.Weighted_Price - data_arima.Weighted_Price.shift(12)\n",
    "print(\"Dickey–Fuller test: p=%f\" % sm.tsa.stattools.adfuller(data_arima.prices_box_diff[12:])[1])"
   ]
  },
  {
   "cell_type": "code",
   "execution_count": 30,
   "metadata": {},
   "outputs": [
    {
     "name": "stdout",
     "output_type": "stream",
     "text": [
      "Dickey–Fuller test: p=0.000007\n"
     ]
    }
   ],
   "source": [
    "# Regular differentiation\n",
    "data_arima['prices_box_diff2'] = data_arima.prices_box_diff - data_arima.prices_box_diff.shift(1)\n",
    "print(\"Dickey–Fuller test: p=%f\" % sm.tsa.stattools.adfuller(data_arima.prices_box_diff2[13:])[1])"
   ]
  },
  {
   "cell_type": "markdown",
   "metadata": {},
   "source": [
    "Since the DF test result came out to be less than 0.05, time series is now stationary."
   ]
  },
  {
   "cell_type": "markdown",
   "metadata": {},
   "source": [
    "### Model Fitting"
   ]
  },
  {
   "cell_type": "markdown",
   "metadata": {},
   "source": [
    "Here's the Statespace ARIMA Model, the best model is selected using different parameters.\n",
    "\n"
   ]
  },
  {
   "cell_type": "code",
   "execution_count": 31,
   "metadata": {},
   "outputs": [],
   "source": [
    "#Constructs all possible parameter combinations.\n",
    "p = d = q = range(0,2)\n",
    "pdq = list(itertools.product(p,d,q))\n",
    "\n",
    "seasonal_pdq = [(x[0],x[1],x[2],12) for x in list(itertools.product(p,d,q))]"
   ]
  },
  {
   "cell_type": "code",
   "execution_count": 32,
   "metadata": {},
   "outputs": [],
   "source": [
    "# The function uses a brute force approach to apply all possible pdq combinations and evaluate the model\n",
    "def sarimax_function(data,pdq,s_pdq):\n",
    "    result_list = []\n",
    "    for param in pdq:\n",
    "        for s_param in s_pdq:\n",
    "\n",
    "            model = sm.tsa.statespace.SARIMAX(data, order=param, seasonal_order=s_param,\n",
    "            enforce_invertibility=False,enforce_stationarity=False)\n",
    "\n",
    "            results = model.fit()\n",
    "            result_list.append([param,s_param,results.aic])\n",
    "            print(\"ARIMA Parameters: {} x: {}. AIC: {}\".format(param,s_param,results.aic))\n",
    "\n",
    "    return result_list,results"
   ]
  },
  {
   "cell_type": "code",
   "execution_count": 34,
   "metadata": {},
   "outputs": [
    {
     "name": "stdout",
     "output_type": "stream",
     "text": [
      "ARIMA Parameters: (0, 0, 0) x: (0, 0, 0, 12). AIC: 1609.4470099518408\n",
      "ARIMA Parameters: (0, 0, 0) x: (0, 0, 1, 12). AIC: 1359.0576460328425\n",
      "ARIMA Parameters: (0, 0, 0) x: (0, 1, 0, 12). AIC: 1325.6666478366085\n",
      "ARIMA Parameters: (0, 0, 0) x: (0, 1, 1, 12). AIC: 1098.9136657846393\n",
      "ARIMA Parameters: (0, 0, 0) x: (1, 0, 0, 12). AIC: 1345.7699366474799\n",
      "ARIMA Parameters: (0, 0, 0) x: (1, 0, 1, 12). AIC: 1310.3313224146734\n",
      "ARIMA Parameters: (0, 0, 0) x: (1, 1, 0, 12). AIC: 1114.501289250037\n",
      "ARIMA Parameters: (0, 0, 0) x: (1, 1, 1, 12). AIC: 1095.5472201449047\n",
      "ARIMA Parameters: (0, 0, 1) x: (0, 0, 0, 12). AIC: 1540.5246696179609\n",
      "ARIMA Parameters: (0, 0, 1) x: (0, 0, 1, 12). AIC: 1277.1954697189199\n",
      "ARIMA Parameters: (0, 0, 1) x: (0, 1, 0, 12). AIC: 1249.6636204414792\n",
      "ARIMA Parameters: (0, 0, 1) x: (0, 1, 1, 12). AIC: 1047.0167942847365\n",
      "ARIMA Parameters: (0, 0, 1) x: (1, 0, 0, 12). AIC: 1286.0320410826637\n",
      "ARIMA Parameters: (0, 0, 1) x: (1, 0, 1, 12). AIC: 1236.2718135823468\n",
      "ARIMA Parameters: (0, 0, 1) x: (1, 1, 0, 12). AIC: 1082.4282695317372\n",
      "ARIMA Parameters: (0, 0, 1) x: (1, 1, 1, 12). AIC: 1046.101204323638\n",
      "ARIMA Parameters: (0, 1, 0) x: (0, 0, 0, 12). AIC: 1354.9913700507554\n",
      "ARIMA Parameters: (0, 1, 0) x: (0, 0, 1, 12). AIC: 1161.6365035248457\n",
      "ARIMA Parameters: (0, 1, 0) x: (0, 1, 0, 12). AIC: 1205.7414413825384\n",
      "ARIMA Parameters: (0, 1, 0) x: (0, 1, 1, 12). AIC: 969.1238926934072\n",
      "ARIMA Parameters: (0, 1, 0) x: (1, 0, 0, 12). AIC: 1177.8022403283267\n",
      "ARIMA Parameters: (0, 1, 0) x: (1, 0, 1, 12). AIC: 1163.5311672823957\n",
      "ARIMA Parameters: (0, 1, 0) x: (1, 1, 0, 12). AIC: 995.4383869613428\n",
      "ARIMA Parameters: (0, 1, 0) x: (1, 1, 1, 12). AIC: 968.5450479943302\n",
      "ARIMA Parameters: (0, 1, 1) x: (0, 0, 0, 12). AIC: 1340.613643955449\n",
      "ARIMA Parameters: (0, 1, 1) x: (0, 0, 1, 12). AIC: 1147.220930221559\n",
      "ARIMA Parameters: (0, 1, 1) x: (0, 1, 0, 12). AIC: 1189.631141717931\n",
      "ARIMA Parameters: (0, 1, 1) x: (0, 1, 1, 12). AIC: 954.0227515186739\n",
      "ARIMA Parameters: (0, 1, 1) x: (1, 0, 0, 12). AIC: 1179.996297854237\n",
      "ARIMA Parameters: (0, 1, 1) x: (1, 0, 1, 12). AIC: 1149.6637632284617\n",
      "ARIMA Parameters: (0, 1, 1) x: (1, 1, 0, 12). AIC: 995.4946489126473\n",
      "ARIMA Parameters: (0, 1, 1) x: (1, 1, 1, 12). AIC: 953.3784403537841\n",
      "ARIMA Parameters: (1, 0, 0) x: (0, 0, 0, 12). AIC: 1373.1061602578684\n",
      "ARIMA Parameters: (1, 0, 0) x: (0, 0, 1, 12). AIC: 1180.5804950129336\n",
      "ARIMA Parameters: (1, 0, 0) x: (0, 1, 0, 12). AIC: 1220.906872260624\n",
      "ARIMA Parameters: (1, 0, 0) x: (0, 1, 1, 12). AIC: 987.5326347277921\n",
      "ARIMA Parameters: (1, 0, 0) x: (1, 0, 0, 12). AIC: 1180.4519180442394\n",
      "ARIMA Parameters: (1, 0, 0) x: (1, 0, 1, 12). AIC: 1182.4517887625163\n",
      "ARIMA Parameters: (1, 0, 0) x: (1, 1, 0, 12). AIC: 996.8753901022002\n",
      "ARIMA Parameters: (1, 0, 0) x: (1, 1, 1, 12). AIC: 987.0363181882644\n",
      "ARIMA Parameters: (1, 0, 1) x: (0, 0, 0, 12). AIC: 1358.7788225884888\n",
      "ARIMA Parameters: (1, 0, 1) x: (0, 0, 1, 12). AIC: 1165.45016801614\n",
      "ARIMA Parameters: (1, 0, 1) x: (0, 1, 0, 12). AIC: 1203.771246433906\n",
      "ARIMA Parameters: (1, 0, 1) x: (0, 1, 1, 12). AIC: 977.3381479145365\n",
      "ARIMA Parameters: (1, 0, 1) x: (1, 0, 0, 12). AIC: 1182.0190342967694\n",
      "ARIMA Parameters: (1, 0, 1) x: (1, 0, 1, 12). AIC: 1167.8668366075192\n",
      "ARIMA Parameters: (1, 0, 1) x: (1, 1, 0, 12). AIC: 994.7876544295808\n",
      "ARIMA Parameters: (1, 0, 1) x: (1, 1, 1, 12). AIC: 971.7063286758273\n",
      "ARIMA Parameters: (1, 1, 0) x: (0, 0, 0, 12). AIC: 1356.7309994383247\n",
      "ARIMA Parameters: (1, 1, 0) x: (0, 0, 1, 12). AIC: 1163.4916823497579\n",
      "ARIMA Parameters: (1, 1, 0) x: (0, 1, 0, 12). AIC: 1206.4990559240873\n",
      "ARIMA Parameters: (1, 1, 0) x: (0, 1, 1, 12). AIC: 970.6161906470918\n",
      "ARIMA Parameters: (1, 1, 0) x: (1, 0, 0, 12). AIC: 1163.3745540618195\n",
      "ARIMA Parameters: (1, 1, 0) x: (1, 0, 1, 12). AIC: 1165.368658815712\n",
      "ARIMA Parameters: (1, 1, 0) x: (1, 1, 0, 12). AIC: 979.1140617086417\n",
      "ARIMA Parameters: (1, 1, 0) x: (1, 1, 1, 12). AIC: 970.0125887789153\n",
      "ARIMA Parameters: (1, 1, 1) x: (0, 0, 0, 12). AIC: 1342.5474100944225\n",
      "ARIMA Parameters: (1, 1, 1) x: (0, 0, 1, 12). AIC: 1149.1722791805041\n",
      "ARIMA Parameters: (1, 1, 1) x: (0, 1, 0, 12). AIC: 1191.501427849039\n",
      "ARIMA Parameters: (1, 1, 1) x: (0, 1, 1, 12). AIC: 955.9777552311649\n",
      "ARIMA Parameters: (1, 1, 1) x: (1, 0, 0, 12). AIC: 1165.7807052144242\n",
      "ARIMA Parameters: (1, 1, 1) x: (1, 0, 1, 12). AIC: 1151.6109860396716\n",
      "ARIMA Parameters: (1, 1, 1) x: (1, 1, 0, 12). AIC: 980.6806719690691\n",
      "ARIMA Parameters: (1, 1, 1) x: (1, 1, 1, 12). AIC: 955.3538999945386\n"
     ]
    }
   ],
   "source": [
    "result_list,results = sarimax_function(data_arima[\"Weighted_Price\"],pdq,seasonal_pdq)\n",
    "warnings.filterwarnings('ignore')\n"
   ]
  },
  {
   "cell_type": "code",
   "execution_count": 35,
   "metadata": {},
   "outputs": [
    {
     "data": {
      "text/html": [
       "<div>\n",
       "<style scoped>\n",
       "    .dataframe tbody tr th:only-of-type {\n",
       "        vertical-align: middle;\n",
       "    }\n",
       "\n",
       "    .dataframe tbody tr th {\n",
       "        vertical-align: top;\n",
       "    }\n",
       "\n",
       "    .dataframe thead th {\n",
       "        text-align: right;\n",
       "    }\n",
       "</style>\n",
       "<table border=\"1\" class=\"dataframe\">\n",
       "  <thead>\n",
       "    <tr style=\"text-align: right;\">\n",
       "      <th></th>\n",
       "      <th>dpq</th>\n",
       "      <th>s_dpq</th>\n",
       "      <th>aic</th>\n",
       "    </tr>\n",
       "  </thead>\n",
       "  <tbody>\n",
       "    <tr>\n",
       "      <th>31</th>\n",
       "      <td>(0, 1, 1)</td>\n",
       "      <td>(1, 1, 1, 12)</td>\n",
       "      <td>953.378440</td>\n",
       "    </tr>\n",
       "    <tr>\n",
       "      <th>27</th>\n",
       "      <td>(0, 1, 1)</td>\n",
       "      <td>(0, 1, 1, 12)</td>\n",
       "      <td>954.022752</td>\n",
       "    </tr>\n",
       "    <tr>\n",
       "      <th>63</th>\n",
       "      <td>(1, 1, 1)</td>\n",
       "      <td>(1, 1, 1, 12)</td>\n",
       "      <td>955.353900</td>\n",
       "    </tr>\n",
       "    <tr>\n",
       "      <th>59</th>\n",
       "      <td>(1, 1, 1)</td>\n",
       "      <td>(0, 1, 1, 12)</td>\n",
       "      <td>955.977755</td>\n",
       "    </tr>\n",
       "    <tr>\n",
       "      <th>23</th>\n",
       "      <td>(0, 1, 0)</td>\n",
       "      <td>(1, 1, 1, 12)</td>\n",
       "      <td>968.545048</td>\n",
       "    </tr>\n",
       "  </tbody>\n",
       "</table>\n",
       "</div>"
      ],
      "text/plain": [
       "          dpq          s_dpq         aic\n",
       "31  (0, 1, 1)  (1, 1, 1, 12)  953.378440\n",
       "27  (0, 1, 1)  (0, 1, 1, 12)  954.022752\n",
       "63  (1, 1, 1)  (1, 1, 1, 12)  955.353900\n",
       "59  (1, 1, 1)  (0, 1, 1, 12)  955.977755\n",
       "23  (0, 1, 0)  (1, 1, 1, 12)  968.545048"
      ]
     },
     "execution_count": 35,
     "metadata": {},
     "output_type": "execute_result"
    }
   ],
   "source": [
    "#Dataframe of all results and parameters.\n",
    "\n",
    "results_dataframe = pd.DataFrame(result_list, columns=[\"dpq\",\"s_dpq\",\"aic\"]).sort_values(by=\"aic\")\n",
    "results_dataframe.head()"
   ]
  },
  {
   "cell_type": "code",
   "execution_count": 36,
   "metadata": {},
   "outputs": [
    {
     "name": "stdout",
     "output_type": "stream",
     "text": [
      "==============================================================================\n",
      "                 coef    std err          z      P>|z|      [0.025      0.975]\n",
      "------------------------------------------------------------------------------\n",
      "ma.L1          0.1096      0.115      0.955      0.340      -0.115       0.334\n",
      "ar.S.L12      -0.2660      0.162     -1.640      0.101      -0.584       0.052\n",
      "ma.S.L12      -1.1295      0.722     -1.564      0.118      -2.545       0.286\n",
      "sigma2      1.672e+06   1.45e+06      1.154      0.249   -1.17e+06    4.51e+06\n",
      "==============================================================================\n"
     ]
    }
   ],
   "source": [
    "model = sm.tsa.statespace.SARIMAX(data_arima[\"Weighted_Price\"], order=(0, 1, 1), seasonal_order=(1, 1, 1, 12),\n",
    "            enforce_invertibility=False,enforce_stationarity=False).fit()\n",
    "print(model.summary().tables[1])"
   ]
  },
  {
   "cell_type": "code",
   "execution_count": 37,
   "metadata": {},
   "outputs": [
    {
     "data": {
      "text/html": [
       "<div>\n",
       "<style scoped>\n",
       "    .dataframe tbody tr th:only-of-type {\n",
       "        vertical-align: middle;\n",
       "    }\n",
       "\n",
       "    .dataframe tbody tr th {\n",
       "        vertical-align: top;\n",
       "    }\n",
       "\n",
       "    .dataframe thead th {\n",
       "        text-align: right;\n",
       "    }\n",
       "</style>\n",
       "<table border=\"1\" class=\"dataframe\">\n",
       "  <thead>\n",
       "    <tr style=\"text-align: right;\">\n",
       "      <th></th>\n",
       "      <th>Weighted_Price</th>\n",
       "      <th>Forcasting</th>\n",
       "    </tr>\n",
       "    <tr>\n",
       "      <th>Timestamp</th>\n",
       "      <th></th>\n",
       "      <th></th>\n",
       "    </tr>\n",
       "  </thead>\n",
       "  <tbody>\n",
       "    <tr>\n",
       "      <th>2014-01-31</th>\n",
       "      <td>734.869679</td>\n",
       "      <td>0.000000</td>\n",
       "    </tr>\n",
       "    <tr>\n",
       "      <th>2014-02-28</th>\n",
       "      <td>786.470782</td>\n",
       "      <td>734.869679</td>\n",
       "    </tr>\n",
       "    <tr>\n",
       "      <th>2014-03-31</th>\n",
       "      <td>549.231127</td>\n",
       "      <td>789.044851</td>\n",
       "    </tr>\n",
       "    <tr>\n",
       "      <th>2014-04-30</th>\n",
       "      <td>458.186500</td>\n",
       "      <td>537.303770</td>\n",
       "    </tr>\n",
       "    <tr>\n",
       "      <th>2014-05-31</th>\n",
       "      <td>446.916345</td>\n",
       "      <td>454.251558</td>\n",
       "    </tr>\n",
       "    <tr>\n",
       "      <th>...</th>\n",
       "      <td>...</td>\n",
       "      <td>...</td>\n",
       "    </tr>\n",
       "    <tr>\n",
       "      <th>2020-05-31</th>\n",
       "      <td>7689.872774</td>\n",
       "      <td>6310.369103</td>\n",
       "    </tr>\n",
       "    <tr>\n",
       "      <th>2020-06-30</th>\n",
       "      <td>8890.082268</td>\n",
       "      <td>7307.660613</td>\n",
       "    </tr>\n",
       "    <tr>\n",
       "      <th>2020-07-31</th>\n",
       "      <td>9148.880000</td>\n",
       "      <td>8691.938566</td>\n",
       "    </tr>\n",
       "    <tr>\n",
       "      <th>2020-08-31</th>\n",
       "      <td>10805.154923</td>\n",
       "      <td>9769.151485</td>\n",
       "    </tr>\n",
       "    <tr>\n",
       "      <th>2020-09-30</th>\n",
       "      <td>11730.130000</td>\n",
       "      <td>10860.289566</td>\n",
       "    </tr>\n",
       "  </tbody>\n",
       "</table>\n",
       "<p>81 rows × 2 columns</p>\n",
       "</div>"
      ],
      "text/plain": [
       "            Weighted_Price    Forcasting\n",
       "Timestamp                               \n",
       "2014-01-31      734.869679      0.000000\n",
       "2014-02-28      786.470782    734.869679\n",
       "2014-03-31      549.231127    789.044851\n",
       "2014-04-30      458.186500    537.303770\n",
       "2014-05-31      446.916345    454.251558\n",
       "...                    ...           ...\n",
       "2020-05-31     7689.872774   6310.369103\n",
       "2020-06-30     8890.082268   7307.660613\n",
       "2020-07-31     9148.880000   8691.938566\n",
       "2020-08-31    10805.154923   9769.151485\n",
       "2020-09-30    11730.130000  10860.289566\n",
       "\n",
       "[81 rows x 2 columns]"
      ]
     },
     "execution_count": 37,
     "metadata": {},
     "output_type": "execute_result"
    }
   ],
   "source": [
    "data_arima_prediction = data_arima[[\"Weighted_Price\"]]\n",
    "data_arima_prediction[\"Forcasting\"] = model.predict(start=0, end=81)\n",
    "data_arima_prediction"
   ]
  },
  {
   "cell_type": "code",
   "execution_count": 40,
   "metadata": {},
   "outputs": [
    {
     "data": {
      "text/plain": [
       "Text(2011-06-30, 17000, 'Prediction testing of the best SARIMAX model.')"
      ]
     },
     "execution_count": 40,
     "metadata": {},
     "output_type": "execute_result"
    },
    {
     "data": {
      "image/png": "[encoded data removed]",
      "text/plain": [
       "<Figure size 720x360 with 1 Axes>"
      ]
     },
     "metadata": {},
     "output_type": "display_data"
    }
   ],
   "source": [
    "ax, fig = plt.subplots(figsize = (10,5))\n",
    "\n",
    "plt.plot(data_arima_prediction[\"Forcasting\"].shift(-1), ls=\"--\", label=\"Prediction\")\n",
    "plt.plot(data_arima_prediction[\"Weighted_Price\"], label=\"Actual Data\")\n",
    "\n",
    "plt.xticks(alpha=0.75, weight=\"bold\")\n",
    "plt.yticks(alpha=0.75, weight=\"bold\")\n",
    "\n",
    "plt.xlabel(\"Date\",alpha=0.75, weight=\"bold\")\n",
    "plt.ylabel(\"Price\",alpha=0.75, weight=\"bold\")\n",
    "\n",
    "plt.legend()\n",
    "\n",
    "plt.text(x=datetime.date(2011, 6, 30), y=18000, s=\"Forcasting test of SARIMAX\",\n",
    "fontsize=18, weight=\"bold\", alpha=0.75)\n",
    "plt.text(x=datetime.date(2011, 6, 30), y=17000, s=\"Prediction testing of the best SARIMAX model.\",fontsize=15, alpha=0.75)"
   ]
  },
  {
   "cell_type": "code",
   "execution_count": null,
   "metadata": {},
   "outputs": [],
   "source": []
  }
 ],
 "metadata": {
  "kernelspec": {
   "display_name": "Python 3",
   "language": "python",
   "name": "python3"
  },
  "language_info": {
   "codemirror_mode": {
    "name": "ipython",
    "version": 3
   },
   "file_extension": ".py",
   "mimetype": "text/x-python",
   "name": "python",
   "nbconvert_exporter": "python",
   "pygments_lexer": "ipython3",
   "version": "3.7.6"
  }
 },
 "nbformat": 4,
 "nbformat_minor": 4
}
